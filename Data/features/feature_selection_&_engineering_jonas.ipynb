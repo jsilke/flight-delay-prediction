{
 "cells": [
  {
   "cell_type": "markdown",
   "metadata": {},
   "source": [
    "# **Feature Selection and Engineering**\n",
    "---"
   ]
  },
  {
   "cell_type": "code",
   "execution_count": 1,
   "metadata": {},
   "outputs": [],
   "source": [
    "import pandas as pd"
   ]
  },
  {
   "cell_type": "code",
   "execution_count": 2,
   "metadata": {},
   "outputs": [],
   "source": [
    "RANDOM_STATE = 42"
   ]
  },
  {
   "cell_type": "code",
   "execution_count": 3,
   "metadata": {},
   "outputs": [
    {
     "data": {
      "text/html": [
       "<div>\n",
       "<style scoped>\n",
       "    .dataframe tbody tr th:only-of-type {\n",
       "        vertical-align: middle;\n",
       "    }\n",
       "\n",
       "    .dataframe tbody tr th {\n",
       "        vertical-align: top;\n",
       "    }\n",
       "\n",
       "    .dataframe thead th {\n",
       "        text-align: right;\n",
       "    }\n",
       "</style>\n",
       "<table border=\"1\" class=\"dataframe\">\n",
       "  <thead>\n",
       "    <tr style=\"text-align: right;\">\n",
       "      <th></th>\n",
       "      <th>fl_date</th>\n",
       "      <th>mkt_unique_carrier</th>\n",
       "      <th>branded_code_share</th>\n",
       "      <th>mkt_carrier</th>\n",
       "      <th>mkt_carrier_fl_num</th>\n",
       "      <th>op_unique_carrier</th>\n",
       "      <th>tail_num</th>\n",
       "      <th>op_carrier_fl_num</th>\n",
       "      <th>origin_airport_id</th>\n",
       "      <th>origin</th>\n",
       "      <th>...</th>\n",
       "      <th>dest_airport_id</th>\n",
       "      <th>dest</th>\n",
       "      <th>dest_city_name</th>\n",
       "      <th>crs_dep_time</th>\n",
       "      <th>crs_arr_time</th>\n",
       "      <th>dup</th>\n",
       "      <th>crs_elapsed_time</th>\n",
       "      <th>flights</th>\n",
       "      <th>distance</th>\n",
       "      <th>arr_delay</th>\n",
       "    </tr>\n",
       "  </thead>\n",
       "  <tbody>\n",
       "    <tr>\n",
       "      <th>0</th>\n",
       "      <td>2019-05-19</td>\n",
       "      <td>UA</td>\n",
       "      <td>UA_CODESHARE</td>\n",
       "      <td>UA</td>\n",
       "      <td>4264</td>\n",
       "      <td>EV</td>\n",
       "      <td>N48901</td>\n",
       "      <td>4264</td>\n",
       "      <td>12266</td>\n",
       "      <td>IAH</td>\n",
       "      <td>...</td>\n",
       "      <td>12915</td>\n",
       "      <td>LCH</td>\n",
       "      <td>Lake Charles, LA</td>\n",
       "      <td>1020</td>\n",
       "      <td>1112</td>\n",
       "      <td>N</td>\n",
       "      <td>52.0</td>\n",
       "      <td>1</td>\n",
       "      <td>127</td>\n",
       "      <td>-2.0</td>\n",
       "    </tr>\n",
       "    <tr>\n",
       "      <th>1</th>\n",
       "      <td>2019-05-19</td>\n",
       "      <td>UA</td>\n",
       "      <td>UA_CODESHARE</td>\n",
       "      <td>UA</td>\n",
       "      <td>4266</td>\n",
       "      <td>EV</td>\n",
       "      <td>N12540</td>\n",
       "      <td>4266</td>\n",
       "      <td>13244</td>\n",
       "      <td>MEM</td>\n",
       "      <td>...</td>\n",
       "      <td>12266</td>\n",
       "      <td>IAH</td>\n",
       "      <td>Houston, TX</td>\n",
       "      <td>1148</td>\n",
       "      <td>1340</td>\n",
       "      <td>N</td>\n",
       "      <td>112.0</td>\n",
       "      <td>1</td>\n",
       "      <td>468</td>\n",
       "      <td>-14.0</td>\n",
       "    </tr>\n",
       "    <tr>\n",
       "      <th>2</th>\n",
       "      <td>2019-05-19</td>\n",
       "      <td>UA</td>\n",
       "      <td>UA_CODESHARE</td>\n",
       "      <td>UA</td>\n",
       "      <td>4272</td>\n",
       "      <td>EV</td>\n",
       "      <td>N11164</td>\n",
       "      <td>4272</td>\n",
       "      <td>12266</td>\n",
       "      <td>IAH</td>\n",
       "      <td>...</td>\n",
       "      <td>11042</td>\n",
       "      <td>CLE</td>\n",
       "      <td>Cleveland, OH</td>\n",
       "      <td>1155</td>\n",
       "      <td>1551</td>\n",
       "      <td>N</td>\n",
       "      <td>176.0</td>\n",
       "      <td>1</td>\n",
       "      <td>1091</td>\n",
       "      <td>4.0</td>\n",
       "    </tr>\n",
       "    <tr>\n",
       "      <th>3</th>\n",
       "      <td>2019-05-19</td>\n",
       "      <td>UA</td>\n",
       "      <td>UA_CODESHARE</td>\n",
       "      <td>UA</td>\n",
       "      <td>4281</td>\n",
       "      <td>EV</td>\n",
       "      <td>N13995</td>\n",
       "      <td>4281</td>\n",
       "      <td>11042</td>\n",
       "      <td>CLE</td>\n",
       "      <td>...</td>\n",
       "      <td>11278</td>\n",
       "      <td>DCA</td>\n",
       "      <td>Washington, DC</td>\n",
       "      <td>839</td>\n",
       "      <td>959</td>\n",
       "      <td>N</td>\n",
       "      <td>80.0</td>\n",
       "      <td>1</td>\n",
       "      <td>310</td>\n",
       "      <td>-20.0</td>\n",
       "    </tr>\n",
       "    <tr>\n",
       "      <th>4</th>\n",
       "      <td>2019-05-19</td>\n",
       "      <td>UA</td>\n",
       "      <td>UA_CODESHARE</td>\n",
       "      <td>UA</td>\n",
       "      <td>4286</td>\n",
       "      <td>EV</td>\n",
       "      <td>N13903</td>\n",
       "      <td>4286</td>\n",
       "      <td>13061</td>\n",
       "      <td>LRD</td>\n",
       "      <td>...</td>\n",
       "      <td>12266</td>\n",
       "      <td>IAH</td>\n",
       "      <td>Houston, TX</td>\n",
       "      <td>710</td>\n",
       "      <td>826</td>\n",
       "      <td>N</td>\n",
       "      <td>76.0</td>\n",
       "      <td>1</td>\n",
       "      <td>301</td>\n",
       "      <td>-1.0</td>\n",
       "    </tr>\n",
       "  </tbody>\n",
       "</table>\n",
       "<p>5 rows × 21 columns</p>\n",
       "</div>"
      ],
      "text/plain": [
       "      fl_date mkt_unique_carrier branded_code_share mkt_carrier  \\\n",
       "0  2019-05-19                 UA       UA_CODESHARE          UA   \n",
       "1  2019-05-19                 UA       UA_CODESHARE          UA   \n",
       "2  2019-05-19                 UA       UA_CODESHARE          UA   \n",
       "3  2019-05-19                 UA       UA_CODESHARE          UA   \n",
       "4  2019-05-19                 UA       UA_CODESHARE          UA   \n",
       "\n",
       "   mkt_carrier_fl_num op_unique_carrier tail_num  op_carrier_fl_num  \\\n",
       "0                4264                EV   N48901               4264   \n",
       "1                4266                EV   N12540               4266   \n",
       "2                4272                EV   N11164               4272   \n",
       "3                4281                EV   N13995               4281   \n",
       "4                4286                EV   N13903               4286   \n",
       "\n",
       "   origin_airport_id origin  ... dest_airport_id  dest    dest_city_name  \\\n",
       "0              12266    IAH  ...           12915   LCH  Lake Charles, LA   \n",
       "1              13244    MEM  ...           12266   IAH       Houston, TX   \n",
       "2              12266    IAH  ...           11042   CLE     Cleveland, OH   \n",
       "3              11042    CLE  ...           11278   DCA    Washington, DC   \n",
       "4              13061    LRD  ...           12266   IAH       Houston, TX   \n",
       "\n",
       "  crs_dep_time  crs_arr_time  dup crs_elapsed_time  flights  distance  \\\n",
       "0         1020          1112    N             52.0        1       127   \n",
       "1         1148          1340    N            112.0        1       468   \n",
       "2         1155          1551    N            176.0        1      1091   \n",
       "3          839           959    N             80.0        1       310   \n",
       "4          710           826    N             76.0        1       301   \n",
       "\n",
       "   arr_delay  \n",
       "0       -2.0  \n",
       "1      -14.0  \n",
       "2        4.0  \n",
       "3      -20.0  \n",
       "4       -1.0  \n",
       "\n",
       "[5 rows x 21 columns]"
      ]
     },
     "execution_count": 3,
     "metadata": {},
     "output_type": "execute_result"
    }
   ],
   "source": [
    "flights_test = pd.read_csv('../files/flights_test_no_missing.csv')\n",
    "feature_space = list(flights_test.columns)\n",
    "feature_space.append('arr_delay') # Add the target.\n",
    "\n",
    "flights = pd.read_csv('../files/flights_no_missing.csv')\n",
    "flights_subspace = flights[feature_space].copy()\n",
    "flights_subspace.head()"
   ]
  },
  {
   "cell_type": "markdown",
   "metadata": {},
   "source": [
    "Estimate of prediction set size relative to train/test/validation set:"
   ]
  },
  {
   "cell_type": "code",
   "execution_count": 4,
   "metadata": {},
   "outputs": [
    {
     "data": {
      "text/plain": [
       "28.165286444822605"
      ]
     },
     "execution_count": 4,
     "metadata": {},
     "output_type": "execute_result"
    }
   ],
   "source": [
    "flights_test.shape[0] / flights.shape[0] * 100"
   ]
  },
  {
   "cell_type": "code",
   "execution_count": 5,
   "metadata": {},
   "outputs": [
    {
     "data": {
      "text/html": [
       "<div>\n",
       "<style scoped>\n",
       "    .dataframe tbody tr th:only-of-type {\n",
       "        vertical-align: middle;\n",
       "    }\n",
       "\n",
       "    .dataframe tbody tr th {\n",
       "        vertical-align: top;\n",
       "    }\n",
       "\n",
       "    .dataframe thead th {\n",
       "        text-align: right;\n",
       "    }\n",
       "</style>\n",
       "<table border=\"1\" class=\"dataframe\">\n",
       "  <thead>\n",
       "    <tr style=\"text-align: right;\">\n",
       "      <th></th>\n",
       "      <th>fl_date</th>\n",
       "      <th>mkt_unique_carrier</th>\n",
       "      <th>branded_code_share</th>\n",
       "      <th>mkt_carrier</th>\n",
       "      <th>mkt_carrier_fl_num</th>\n",
       "      <th>op_unique_carrier</th>\n",
       "      <th>tail_num</th>\n",
       "      <th>op_carrier_fl_num</th>\n",
       "      <th>origin_airport_id</th>\n",
       "      <th>origin</th>\n",
       "      <th>...</th>\n",
       "      <th>dest_airport_id</th>\n",
       "      <th>dest</th>\n",
       "      <th>dest_city_name</th>\n",
       "      <th>crs_dep_time</th>\n",
       "      <th>crs_arr_time</th>\n",
       "      <th>dup</th>\n",
       "      <th>crs_elapsed_time</th>\n",
       "      <th>flights</th>\n",
       "      <th>distance</th>\n",
       "      <th>arr_delay</th>\n",
       "    </tr>\n",
       "  </thead>\n",
       "  <tbody>\n",
       "    <tr>\n",
       "      <th>0</th>\n",
       "      <td>2019-05-19</td>\n",
       "      <td>UA</td>\n",
       "      <td>UA_CODESHARE</td>\n",
       "      <td>UA</td>\n",
       "      <td>4264</td>\n",
       "      <td>EV</td>\n",
       "      <td>N48901</td>\n",
       "      <td>4264</td>\n",
       "      <td>12266</td>\n",
       "      <td>IAH</td>\n",
       "      <td>...</td>\n",
       "      <td>12915</td>\n",
       "      <td>LCH</td>\n",
       "      <td>Lake Charles, LA</td>\n",
       "      <td>1020</td>\n",
       "      <td>1112</td>\n",
       "      <td>N</td>\n",
       "      <td>52.0</td>\n",
       "      <td>1</td>\n",
       "      <td>127</td>\n",
       "      <td>-2.0</td>\n",
       "    </tr>\n",
       "    <tr>\n",
       "      <th>1</th>\n",
       "      <td>2019-05-19</td>\n",
       "      <td>UA</td>\n",
       "      <td>UA_CODESHARE</td>\n",
       "      <td>UA</td>\n",
       "      <td>4266</td>\n",
       "      <td>EV</td>\n",
       "      <td>N12540</td>\n",
       "      <td>4266</td>\n",
       "      <td>13244</td>\n",
       "      <td>MEM</td>\n",
       "      <td>...</td>\n",
       "      <td>12266</td>\n",
       "      <td>IAH</td>\n",
       "      <td>Houston, TX</td>\n",
       "      <td>1148</td>\n",
       "      <td>1340</td>\n",
       "      <td>N</td>\n",
       "      <td>112.0</td>\n",
       "      <td>1</td>\n",
       "      <td>468</td>\n",
       "      <td>-14.0</td>\n",
       "    </tr>\n",
       "    <tr>\n",
       "      <th>2</th>\n",
       "      <td>2019-05-19</td>\n",
       "      <td>UA</td>\n",
       "      <td>UA_CODESHARE</td>\n",
       "      <td>UA</td>\n",
       "      <td>4272</td>\n",
       "      <td>EV</td>\n",
       "      <td>N11164</td>\n",
       "      <td>4272</td>\n",
       "      <td>12266</td>\n",
       "      <td>IAH</td>\n",
       "      <td>...</td>\n",
       "      <td>11042</td>\n",
       "      <td>CLE</td>\n",
       "      <td>Cleveland, OH</td>\n",
       "      <td>1155</td>\n",
       "      <td>1551</td>\n",
       "      <td>N</td>\n",
       "      <td>176.0</td>\n",
       "      <td>1</td>\n",
       "      <td>1091</td>\n",
       "      <td>4.0</td>\n",
       "    </tr>\n",
       "    <tr>\n",
       "      <th>3</th>\n",
       "      <td>2019-05-19</td>\n",
       "      <td>UA</td>\n",
       "      <td>UA_CODESHARE</td>\n",
       "      <td>UA</td>\n",
       "      <td>4281</td>\n",
       "      <td>EV</td>\n",
       "      <td>N13995</td>\n",
       "      <td>4281</td>\n",
       "      <td>11042</td>\n",
       "      <td>CLE</td>\n",
       "      <td>...</td>\n",
       "      <td>11278</td>\n",
       "      <td>DCA</td>\n",
       "      <td>Washington, DC</td>\n",
       "      <td>839</td>\n",
       "      <td>959</td>\n",
       "      <td>N</td>\n",
       "      <td>80.0</td>\n",
       "      <td>1</td>\n",
       "      <td>310</td>\n",
       "      <td>-20.0</td>\n",
       "    </tr>\n",
       "    <tr>\n",
       "      <th>4</th>\n",
       "      <td>2019-05-19</td>\n",
       "      <td>UA</td>\n",
       "      <td>UA_CODESHARE</td>\n",
       "      <td>UA</td>\n",
       "      <td>4286</td>\n",
       "      <td>EV</td>\n",
       "      <td>N13903</td>\n",
       "      <td>4286</td>\n",
       "      <td>13061</td>\n",
       "      <td>LRD</td>\n",
       "      <td>...</td>\n",
       "      <td>12266</td>\n",
       "      <td>IAH</td>\n",
       "      <td>Houston, TX</td>\n",
       "      <td>710</td>\n",
       "      <td>826</td>\n",
       "      <td>N</td>\n",
       "      <td>76.0</td>\n",
       "      <td>1</td>\n",
       "      <td>301</td>\n",
       "      <td>-1.0</td>\n",
       "    </tr>\n",
       "    <tr>\n",
       "      <th>...</th>\n",
       "      <td>...</td>\n",
       "      <td>...</td>\n",
       "      <td>...</td>\n",
       "      <td>...</td>\n",
       "      <td>...</td>\n",
       "      <td>...</td>\n",
       "      <td>...</td>\n",
       "      <td>...</td>\n",
       "      <td>...</td>\n",
       "      <td>...</td>\n",
       "      <td>...</td>\n",
       "      <td>...</td>\n",
       "      <td>...</td>\n",
       "      <td>...</td>\n",
       "      <td>...</td>\n",
       "      <td>...</td>\n",
       "      <td>...</td>\n",
       "      <td>...</td>\n",
       "      <td>...</td>\n",
       "      <td>...</td>\n",
       "      <td>...</td>\n",
       "    </tr>\n",
       "    <tr>\n",
       "      <th>2339957</th>\n",
       "      <td>2019-05-19</td>\n",
       "      <td>AA</td>\n",
       "      <td>AA</td>\n",
       "      <td>AA</td>\n",
       "      <td>2025</td>\n",
       "      <td>AA</td>\n",
       "      <td>N185AN</td>\n",
       "      <td>2025</td>\n",
       "      <td>11298</td>\n",
       "      <td>DFW</td>\n",
       "      <td>...</td>\n",
       "      <td>13303</td>\n",
       "      <td>MIA</td>\n",
       "      <td>Miami, FL</td>\n",
       "      <td>1156</td>\n",
       "      <td>1545</td>\n",
       "      <td>N</td>\n",
       "      <td>169.0</td>\n",
       "      <td>1</td>\n",
       "      <td>1121</td>\n",
       "      <td>131.0</td>\n",
       "    </tr>\n",
       "    <tr>\n",
       "      <th>2339958</th>\n",
       "      <td>2019-05-19</td>\n",
       "      <td>AA</td>\n",
       "      <td>AA_CODESHARE</td>\n",
       "      <td>AA</td>\n",
       "      <td>4876</td>\n",
       "      <td>PT</td>\n",
       "      <td>N658AE</td>\n",
       "      <td>4876</td>\n",
       "      <td>13577</td>\n",
       "      <td>MYR</td>\n",
       "      <td>...</td>\n",
       "      <td>14100</td>\n",
       "      <td>PHL</td>\n",
       "      <td>Philadelphia, PA</td>\n",
       "      <td>1132</td>\n",
       "      <td>1314</td>\n",
       "      <td>N</td>\n",
       "      <td>102.0</td>\n",
       "      <td>1</td>\n",
       "      <td>473</td>\n",
       "      <td>0.0</td>\n",
       "    </tr>\n",
       "    <tr>\n",
       "      <th>2339959</th>\n",
       "      <td>2019-05-19</td>\n",
       "      <td>AA</td>\n",
       "      <td>AA_CODESHARE</td>\n",
       "      <td>AA</td>\n",
       "      <td>4879</td>\n",
       "      <td>PT</td>\n",
       "      <td>N647AE</td>\n",
       "      <td>4879</td>\n",
       "      <td>10792</td>\n",
       "      <td>BUF</td>\n",
       "      <td>...</td>\n",
       "      <td>14100</td>\n",
       "      <td>PHL</td>\n",
       "      <td>Philadelphia, PA</td>\n",
       "      <td>1520</td>\n",
       "      <td>1652</td>\n",
       "      <td>N</td>\n",
       "      <td>92.0</td>\n",
       "      <td>1</td>\n",
       "      <td>279</td>\n",
       "      <td>-15.0</td>\n",
       "    </tr>\n",
       "    <tr>\n",
       "      <th>2339960</th>\n",
       "      <td>2019-05-19</td>\n",
       "      <td>UA</td>\n",
       "      <td>UA_CODESHARE</td>\n",
       "      <td>UA</td>\n",
       "      <td>4223</td>\n",
       "      <td>EV</td>\n",
       "      <td>N15912</td>\n",
       "      <td>4223</td>\n",
       "      <td>12266</td>\n",
       "      <td>IAH</td>\n",
       "      <td>...</td>\n",
       "      <td>12448</td>\n",
       "      <td>JAN</td>\n",
       "      <td>Jackson/Vicksburg, MS</td>\n",
       "      <td>1640</td>\n",
       "      <td>1800</td>\n",
       "      <td>N</td>\n",
       "      <td>80.0</td>\n",
       "      <td>1</td>\n",
       "      <td>351</td>\n",
       "      <td>-5.0</td>\n",
       "    </tr>\n",
       "    <tr>\n",
       "      <th>2339961</th>\n",
       "      <td>2019-05-19</td>\n",
       "      <td>UA</td>\n",
       "      <td>UA_CODESHARE</td>\n",
       "      <td>UA</td>\n",
       "      <td>4236</td>\n",
       "      <td>EV</td>\n",
       "      <td>N15986</td>\n",
       "      <td>4236</td>\n",
       "      <td>10868</td>\n",
       "      <td>CAE</td>\n",
       "      <td>...</td>\n",
       "      <td>12266</td>\n",
       "      <td>IAH</td>\n",
       "      <td>Houston, TX</td>\n",
       "      <td>700</td>\n",
       "      <td>850</td>\n",
       "      <td>N</td>\n",
       "      <td>170.0</td>\n",
       "      <td>1</td>\n",
       "      <td>878</td>\n",
       "      <td>21.0</td>\n",
       "    </tr>\n",
       "  </tbody>\n",
       "</table>\n",
       "<p>2339962 rows × 21 columns</p>\n",
       "</div>"
      ],
      "text/plain": [
       "            fl_date mkt_unique_carrier branded_code_share mkt_carrier  \\\n",
       "0        2019-05-19                 UA       UA_CODESHARE          UA   \n",
       "1        2019-05-19                 UA       UA_CODESHARE          UA   \n",
       "2        2019-05-19                 UA       UA_CODESHARE          UA   \n",
       "3        2019-05-19                 UA       UA_CODESHARE          UA   \n",
       "4        2019-05-19                 UA       UA_CODESHARE          UA   \n",
       "...             ...                ...                ...         ...   \n",
       "2339957  2019-05-19                 AA                 AA          AA   \n",
       "2339958  2019-05-19                 AA       AA_CODESHARE          AA   \n",
       "2339959  2019-05-19                 AA       AA_CODESHARE          AA   \n",
       "2339960  2019-05-19                 UA       UA_CODESHARE          UA   \n",
       "2339961  2019-05-19                 UA       UA_CODESHARE          UA   \n",
       "\n",
       "         mkt_carrier_fl_num op_unique_carrier tail_num  op_carrier_fl_num  \\\n",
       "0                      4264                EV   N48901               4264   \n",
       "1                      4266                EV   N12540               4266   \n",
       "2                      4272                EV   N11164               4272   \n",
       "3                      4281                EV   N13995               4281   \n",
       "4                      4286                EV   N13903               4286   \n",
       "...                     ...               ...      ...                ...   \n",
       "2339957                2025                AA   N185AN               2025   \n",
       "2339958                4876                PT   N658AE               4876   \n",
       "2339959                4879                PT   N647AE               4879   \n",
       "2339960                4223                EV   N15912               4223   \n",
       "2339961                4236                EV   N15986               4236   \n",
       "\n",
       "         origin_airport_id origin  ... dest_airport_id  dest  \\\n",
       "0                    12266    IAH  ...           12915   LCH   \n",
       "1                    13244    MEM  ...           12266   IAH   \n",
       "2                    12266    IAH  ...           11042   CLE   \n",
       "3                    11042    CLE  ...           11278   DCA   \n",
       "4                    13061    LRD  ...           12266   IAH   \n",
       "...                    ...    ...  ...             ...   ...   \n",
       "2339957              11298    DFW  ...           13303   MIA   \n",
       "2339958              13577    MYR  ...           14100   PHL   \n",
       "2339959              10792    BUF  ...           14100   PHL   \n",
       "2339960              12266    IAH  ...           12448   JAN   \n",
       "2339961              10868    CAE  ...           12266   IAH   \n",
       "\n",
       "                dest_city_name crs_dep_time  crs_arr_time  dup  \\\n",
       "0             Lake Charles, LA         1020          1112    N   \n",
       "1                  Houston, TX         1148          1340    N   \n",
       "2                Cleveland, OH         1155          1551    N   \n",
       "3               Washington, DC          839           959    N   \n",
       "4                  Houston, TX          710           826    N   \n",
       "...                        ...          ...           ...  ...   \n",
       "2339957              Miami, FL         1156          1545    N   \n",
       "2339958       Philadelphia, PA         1132          1314    N   \n",
       "2339959       Philadelphia, PA         1520          1652    N   \n",
       "2339960  Jackson/Vicksburg, MS         1640          1800    N   \n",
       "2339961            Houston, TX          700           850    N   \n",
       "\n",
       "        crs_elapsed_time  flights  distance  arr_delay  \n",
       "0                   52.0        1       127       -2.0  \n",
       "1                  112.0        1       468      -14.0  \n",
       "2                  176.0        1      1091        4.0  \n",
       "3                   80.0        1       310      -20.0  \n",
       "4                   76.0        1       301       -1.0  \n",
       "...                  ...      ...       ...        ...  \n",
       "2339957            169.0        1      1121      131.0  \n",
       "2339958            102.0        1       473        0.0  \n",
       "2339959             92.0        1       279      -15.0  \n",
       "2339960             80.0        1       351       -5.0  \n",
       "2339961            170.0        1       878       21.0  \n",
       "\n",
       "[2339962 rows x 21 columns]"
      ]
     },
     "execution_count": 5,
     "metadata": {},
     "output_type": "execute_result"
    }
   ],
   "source": [
    "flights_subspace"
   ]
  },
  {
   "cell_type": "markdown",
   "metadata": {},
   "source": [
    "### Objective:"
   ]
  },
  {
   "cell_type": "markdown",
   "metadata": {},
   "source": [
    "Our aim for this section is to use the feature space available to the **flights_test** dataframe containing the target range of dates for our prediction submission (January 1 - 7, 2020, inclusive) to select and engineer a range of fetures that best capture the common causes for flight delays. The prediction submission dates are to be treated as if they are in the future for the purpose of generating an appropriate prediction; as such, no historic data for these dates should be considered. Features will be engineered and selected on the basis of how they best captured the different delay classes available to us during the exploration phase of the study."
   ]
  },
  {
   "cell_type": "markdown",
   "metadata": {},
   "source": [
    "## **flights**"
   ]
  },
  {
   "cell_type": "markdown",
   "metadata": {},
   "source": [
    "Features considered here should be engineered and selected only from the subset present in both **flights** and **flights_test**. Since we know the **flights_test** feature space is a subset of the **flights** feature space, we will simply use the columns in flights_test to filter the feature space of flights to prepare our data for transformation and modelling."
   ]
  },
  {
   "cell_type": "markdown",
   "metadata": {},
   "source": [
    "### Feature Selection:"
   ]
  },
  {
   "cell_type": "markdown",
   "metadata": {},
   "source": [
    "* all ids can be discarded initially (except for the `origin` and `dest` ids), but they may also be ranked by delay if that turns out to be interesting/feasible\n",
    "* `flights` column is always 1; completely uninformative\n",
    "* dest and origin city names information is already captured by origin and destination, but the `state` could be useful in a later iteration (e.g. binarized to something like `busy_state` for high traffic origins/destinations)"
   ]
  },
  {
   "cell_type": "code",
   "execution_count": 6,
   "metadata": {},
   "outputs": [],
   "source": [
    "to_drop = [\n",
    "    'mkt_unique_carrier',\n",
    "    'mkt_carrier',\n",
    "    'mkt_carrier_fl_num',\n",
    "    'op_unique_carrier',\n",
    "    'tail_num',\n",
    "    'op_carrier_fl_num',\n",
    "    'origin',\n",
    "    'dest',\n",
    "    'dest_city_name',\n",
    "    'origin_city_name',\n",
    "    'flights']\n",
    "\n",
    "submission_columns = ['fl_date', 'mkt_carrier', 'mkt_carrier_fl_num', 'origin', 'dest']\n",
    "\n",
    "flights_test_drop = set(to_drop) - set(submission_columns)\n",
    "\n",
    "flights_subspace = flights_subspace.drop(columns=to_drop)\n",
    "flights_test = flights_test.drop(columns=flights_test_drop)"
   ]
  },
  {
   "cell_type": "code",
   "execution_count": 7,
   "metadata": {},
   "outputs": [
    {
     "data": {
      "text/html": [
       "<div>\n",
       "<style scoped>\n",
       "    .dataframe tbody tr th:only-of-type {\n",
       "        vertical-align: middle;\n",
       "    }\n",
       "\n",
       "    .dataframe tbody tr th {\n",
       "        vertical-align: top;\n",
       "    }\n",
       "\n",
       "    .dataframe thead th {\n",
       "        text-align: right;\n",
       "    }\n",
       "</style>\n",
       "<table border=\"1\" class=\"dataframe\">\n",
       "  <thead>\n",
       "    <tr style=\"text-align: right;\">\n",
       "      <th></th>\n",
       "      <th>fl_date</th>\n",
       "      <th>branded_code_share</th>\n",
       "      <th>origin_airport_id</th>\n",
       "      <th>dest_airport_id</th>\n",
       "      <th>crs_dep_time</th>\n",
       "      <th>crs_arr_time</th>\n",
       "      <th>dup</th>\n",
       "      <th>crs_elapsed_time</th>\n",
       "      <th>distance</th>\n",
       "      <th>arr_delay</th>\n",
       "    </tr>\n",
       "  </thead>\n",
       "  <tbody>\n",
       "    <tr>\n",
       "      <th>0</th>\n",
       "      <td>2019-05-19</td>\n",
       "      <td>UA_CODESHARE</td>\n",
       "      <td>12266</td>\n",
       "      <td>12915</td>\n",
       "      <td>1020</td>\n",
       "      <td>1112</td>\n",
       "      <td>N</td>\n",
       "      <td>52.0</td>\n",
       "      <td>127</td>\n",
       "      <td>-2.0</td>\n",
       "    </tr>\n",
       "    <tr>\n",
       "      <th>1</th>\n",
       "      <td>2019-05-19</td>\n",
       "      <td>UA_CODESHARE</td>\n",
       "      <td>13244</td>\n",
       "      <td>12266</td>\n",
       "      <td>1148</td>\n",
       "      <td>1340</td>\n",
       "      <td>N</td>\n",
       "      <td>112.0</td>\n",
       "      <td>468</td>\n",
       "      <td>-14.0</td>\n",
       "    </tr>\n",
       "    <tr>\n",
       "      <th>2</th>\n",
       "      <td>2019-05-19</td>\n",
       "      <td>UA_CODESHARE</td>\n",
       "      <td>12266</td>\n",
       "      <td>11042</td>\n",
       "      <td>1155</td>\n",
       "      <td>1551</td>\n",
       "      <td>N</td>\n",
       "      <td>176.0</td>\n",
       "      <td>1091</td>\n",
       "      <td>4.0</td>\n",
       "    </tr>\n",
       "    <tr>\n",
       "      <th>3</th>\n",
       "      <td>2019-05-19</td>\n",
       "      <td>UA_CODESHARE</td>\n",
       "      <td>11042</td>\n",
       "      <td>11278</td>\n",
       "      <td>839</td>\n",
       "      <td>959</td>\n",
       "      <td>N</td>\n",
       "      <td>80.0</td>\n",
       "      <td>310</td>\n",
       "      <td>-20.0</td>\n",
       "    </tr>\n",
       "    <tr>\n",
       "      <th>4</th>\n",
       "      <td>2019-05-19</td>\n",
       "      <td>UA_CODESHARE</td>\n",
       "      <td>13061</td>\n",
       "      <td>12266</td>\n",
       "      <td>710</td>\n",
       "      <td>826</td>\n",
       "      <td>N</td>\n",
       "      <td>76.0</td>\n",
       "      <td>301</td>\n",
       "      <td>-1.0</td>\n",
       "    </tr>\n",
       "  </tbody>\n",
       "</table>\n",
       "</div>"
      ],
      "text/plain": [
       "      fl_date branded_code_share  origin_airport_id  dest_airport_id  \\\n",
       "0  2019-05-19       UA_CODESHARE              12266            12915   \n",
       "1  2019-05-19       UA_CODESHARE              13244            12266   \n",
       "2  2019-05-19       UA_CODESHARE              12266            11042   \n",
       "3  2019-05-19       UA_CODESHARE              11042            11278   \n",
       "4  2019-05-19       UA_CODESHARE              13061            12266   \n",
       "\n",
       "   crs_dep_time  crs_arr_time dup  crs_elapsed_time  distance  arr_delay  \n",
       "0          1020          1112   N              52.0       127       -2.0  \n",
       "1          1148          1340   N             112.0       468      -14.0  \n",
       "2          1155          1551   N             176.0      1091        4.0  \n",
       "3           839           959   N              80.0       310      -20.0  \n",
       "4           710           826   N              76.0       301       -1.0  "
      ]
     },
     "execution_count": 7,
     "metadata": {},
     "output_type": "execute_result"
    }
   ],
   "source": [
    "flights_subspace.head()"
   ]
  },
  {
   "cell_type": "code",
   "execution_count": 8,
   "metadata": {},
   "outputs": [
    {
     "name": "stdout",
     "output_type": "stream",
     "text": [
      "<class 'pandas.core.frame.DataFrame'>\n",
      "RangeIndex: 2339962 entries, 0 to 2339961\n",
      "Data columns (total 10 columns):\n",
      " #   Column              Dtype  \n",
      "---  ------              -----  \n",
      " 0   fl_date             object \n",
      " 1   branded_code_share  object \n",
      " 2   origin_airport_id   int64  \n",
      " 3   dest_airport_id     int64  \n",
      " 4   crs_dep_time        int64  \n",
      " 5   crs_arr_time        int64  \n",
      " 6   dup                 object \n",
      " 7   crs_elapsed_time    float64\n",
      " 8   distance            int64  \n",
      " 9   arr_delay           float64\n",
      "dtypes: float64(2), int64(5), object(3)\n",
      "memory usage: 178.5+ MB\n"
     ]
    }
   ],
   "source": [
    "flights_subspace.info()"
   ]
  },
  {
   "cell_type": "markdown",
   "metadata": {},
   "source": [
    "### Feature Engineering"
   ]
  },
  {
   "cell_type": "code",
   "execution_count": 9,
   "metadata": {},
   "outputs": [],
   "source": [
    "flights_subspace['day_of_week'] = pd.to_datetime(flights_subspace['fl_date']).dt.dayofweek\n",
    "flights_subspace['month_of_year'] = pd.to_datetime(flights_subspace['fl_date']).dt.month\n",
    "\n",
    "flights_test['day_of_week'] = pd.to_datetime(flights_test['fl_date']).dt.dayofweek\n",
    "flights_test['month_of_year'] = pd.to_datetime(flights_test['fl_date']).dt.month"
   ]
  },
  {
   "cell_type": "markdown",
   "metadata": {},
   "source": [
    "Now let us check the relationship with arrival delay for these features."
   ]
  },
  {
   "cell_type": "code",
   "execution_count": 10,
   "metadata": {},
   "outputs": [
    {
     "data": {
      "text/plain": [
       "day_of_week\n",
       "0    6.696040\n",
       "1    4.567373\n",
       "2    4.458588\n",
       "3    7.273884\n",
       "4    6.993864\n",
       "5    2.512690\n",
       "6    5.173920\n",
       "Name: arr_delay, dtype: float64"
      ]
     },
     "execution_count": 10,
     "metadata": {},
     "output_type": "execute_result"
    }
   ],
   "source": [
    "flights_subspace.groupby('day_of_week')['arr_delay'].mean()"
   ]
  },
  {
   "cell_type": "code",
   "execution_count": 11,
   "metadata": {},
   "outputs": [
    {
     "data": {
      "text/plain": [
       "month_of_year\n",
       "1      3.923047\n",
       "2      6.693371\n",
       "3      2.902349\n",
       "4      4.071800\n",
       "5      6.448396\n",
       "6     10.562826\n",
       "7      8.871938\n",
       "8      8.883695\n",
       "9      1.694430\n",
       "10     2.810083\n",
       "11     3.071748\n",
       "12     5.087656\n",
       "Name: arr_delay, dtype: float64"
      ]
     },
     "execution_count": 11,
     "metadata": {},
     "output_type": "execute_result"
    }
   ],
   "source": [
    "flights_subspace.groupby('month_of_year')['arr_delay'].mean()"
   ]
  },
  {
   "cell_type": "markdown",
   "metadata": {},
   "source": [
    "As we can see above, although we can separate into discrete ranks by mean, some classes are much closer on average than others which is an inherent drawback of this method."
   ]
  },
  {
   "cell_type": "code",
   "execution_count": 12,
   "metadata": {},
   "outputs": [],
   "source": [
    "flights_subspace = flights_subspace.drop('fl_date', axis=1)\n",
    "\n",
    "flights_subspace.to_csv('../files/flights_engi.csv', index=False)\n",
    "flights_test.to_csv('../files/flights_test_engi.csv', index=False)"
   ]
  },
  {
   "cell_type": "code",
   "execution_count": 13,
   "metadata": {},
   "outputs": [
    {
     "data": {
      "text/html": [
       "<div>\n",
       "<style scoped>\n",
       "    .dataframe tbody tr th:only-of-type {\n",
       "        vertical-align: middle;\n",
       "    }\n",
       "\n",
       "    .dataframe tbody tr th {\n",
       "        vertical-align: top;\n",
       "    }\n",
       "\n",
       "    .dataframe thead th {\n",
       "        text-align: right;\n",
       "    }\n",
       "</style>\n",
       "<table border=\"1\" class=\"dataframe\">\n",
       "  <thead>\n",
       "    <tr style=\"text-align: right;\">\n",
       "      <th></th>\n",
       "      <th>branded_code_share</th>\n",
       "      <th>origin_airport_id</th>\n",
       "      <th>dest_airport_id</th>\n",
       "      <th>crs_dep_time</th>\n",
       "      <th>crs_arr_time</th>\n",
       "      <th>dup</th>\n",
       "      <th>crs_elapsed_time</th>\n",
       "      <th>distance</th>\n",
       "      <th>arr_delay</th>\n",
       "      <th>day_of_week</th>\n",
       "      <th>month_of_year</th>\n",
       "    </tr>\n",
       "  </thead>\n",
       "  <tbody>\n",
       "    <tr>\n",
       "      <th>0</th>\n",
       "      <td>UA_CODESHARE</td>\n",
       "      <td>12266</td>\n",
       "      <td>12915</td>\n",
       "      <td>1020</td>\n",
       "      <td>1112</td>\n",
       "      <td>N</td>\n",
       "      <td>52.0</td>\n",
       "      <td>127</td>\n",
       "      <td>-2.0</td>\n",
       "      <td>6</td>\n",
       "      <td>5</td>\n",
       "    </tr>\n",
       "    <tr>\n",
       "      <th>1</th>\n",
       "      <td>UA_CODESHARE</td>\n",
       "      <td>13244</td>\n",
       "      <td>12266</td>\n",
       "      <td>1148</td>\n",
       "      <td>1340</td>\n",
       "      <td>N</td>\n",
       "      <td>112.0</td>\n",
       "      <td>468</td>\n",
       "      <td>-14.0</td>\n",
       "      <td>6</td>\n",
       "      <td>5</td>\n",
       "    </tr>\n",
       "    <tr>\n",
       "      <th>2</th>\n",
       "      <td>UA_CODESHARE</td>\n",
       "      <td>12266</td>\n",
       "      <td>11042</td>\n",
       "      <td>1155</td>\n",
       "      <td>1551</td>\n",
       "      <td>N</td>\n",
       "      <td>176.0</td>\n",
       "      <td>1091</td>\n",
       "      <td>4.0</td>\n",
       "      <td>6</td>\n",
       "      <td>5</td>\n",
       "    </tr>\n",
       "    <tr>\n",
       "      <th>3</th>\n",
       "      <td>UA_CODESHARE</td>\n",
       "      <td>11042</td>\n",
       "      <td>11278</td>\n",
       "      <td>839</td>\n",
       "      <td>959</td>\n",
       "      <td>N</td>\n",
       "      <td>80.0</td>\n",
       "      <td>310</td>\n",
       "      <td>-20.0</td>\n",
       "      <td>6</td>\n",
       "      <td>5</td>\n",
       "    </tr>\n",
       "    <tr>\n",
       "      <th>4</th>\n",
       "      <td>UA_CODESHARE</td>\n",
       "      <td>13061</td>\n",
       "      <td>12266</td>\n",
       "      <td>710</td>\n",
       "      <td>826</td>\n",
       "      <td>N</td>\n",
       "      <td>76.0</td>\n",
       "      <td>301</td>\n",
       "      <td>-1.0</td>\n",
       "      <td>6</td>\n",
       "      <td>5</td>\n",
       "    </tr>\n",
       "  </tbody>\n",
       "</table>\n",
       "</div>"
      ],
      "text/plain": [
       "  branded_code_share  origin_airport_id  dest_airport_id  crs_dep_time  \\\n",
       "0       UA_CODESHARE              12266            12915          1020   \n",
       "1       UA_CODESHARE              13244            12266          1148   \n",
       "2       UA_CODESHARE              12266            11042          1155   \n",
       "3       UA_CODESHARE              11042            11278           839   \n",
       "4       UA_CODESHARE              13061            12266           710   \n",
       "\n",
       "   crs_arr_time dup  crs_elapsed_time  distance  arr_delay  day_of_week  \\\n",
       "0          1112   N              52.0       127       -2.0            6   \n",
       "1          1340   N             112.0       468      -14.0            6   \n",
       "2          1551   N             176.0      1091        4.0            6   \n",
       "3           959   N              80.0       310      -20.0            6   \n",
       "4           826   N              76.0       301       -1.0            6   \n",
       "\n",
       "   month_of_year  \n",
       "0              5  \n",
       "1              5  \n",
       "2              5  \n",
       "3              5  \n",
       "4              5  "
      ]
     },
     "execution_count": 13,
     "metadata": {},
     "output_type": "execute_result"
    }
   ],
   "source": [
    "flights_subspace.head()"
   ]
  },
  {
   "cell_type": "code",
   "execution_count": 76,
   "metadata": {},
   "outputs": [
    {
     "data": {
      "text/plain": [
       "array([['UA_CODESHARE', 12266, 12915, ..., -2.0, 6, 5],\n",
       "       ['UA_CODESHARE', 13244, 12266, ..., -14.0, 6, 5],\n",
       "       ['UA_CODESHARE', 12266, 11042, ..., 4.0, 6, 5],\n",
       "       ...,\n",
       "       ['AA_CODESHARE', 10792, 14100, ..., -15.0, 6, 5],\n",
       "       ['UA_CODESHARE', 12266, 12448, ..., -5.0, 6, 5],\n",
       "       ['UA_CODESHARE', 10868, 12266, ..., 21.0, 6, 5]], dtype=object)"
      ]
     },
     "execution_count": 76,
     "metadata": {},
     "output_type": "execute_result"
    }
   ],
   "source": [
    "flights_subspace.values"
   ]
  },
  {
   "cell_type": "code",
   "execution_count": 77,
   "metadata": {},
   "outputs": [
    {
     "data": {
      "text/plain": [
       "array(['UA_CODESHARE', 'AA_CODESHARE', 'HA', 'WN', 'UA', 'NK', 'AA',\n",
       "       'DL_CODESHARE', 'B6', 'AS_CODESHARE', 'DL', 'G4', 'AS', 'F9',\n",
       "       'HA_CODESHARE', 'VX'], dtype=object)"
      ]
     },
     "execution_count": 77,
     "metadata": {},
     "output_type": "execute_result"
    }
   ],
   "source": [
    "flights_subspace.branded_code_share.unique()"
   ]
  },
  {
   "cell_type": "code",
   "execution_count": null,
   "metadata": {},
   "outputs": [],
   "source": []
  },
  {
   "cell_type": "code",
   "execution_count": null,
   "metadata": {},
   "outputs": [],
   "source": []
  },
  {
   "cell_type": "code",
   "execution_count": null,
   "metadata": {},
   "outputs": [],
   "source": []
  },
  {
   "cell_type": "code",
   "execution_count": 74,
   "metadata": {},
   "outputs": [],
   "source": [
    "from sklearn.decomposition import PCA"
   ]
  },
  {
   "cell_type": "markdown",
   "metadata": {},
   "source": [
    "**CUT HERE**"
   ]
  },
  {
   "cell_type": "code",
   "execution_count": 17,
   "metadata": {},
   "outputs": [],
   "source": [
    "import sklearn.model_selection as ms\n",
    "# Move a copy of processing.py from the Scripts directory to this one to make the import work.\n",
    "import sklearn.preprocessing as pro"
   ]
  },
  {
   "cell_type": "code",
   "execution_count": null,
   "metadata": {},
   "outputs": [],
   "source": []
  },
  {
   "cell_type": "code",
   "execution_count": 18,
   "metadata": {},
   "outputs": [],
   "source": [
    "df_train, df_test = ms.train_test_split(flights_subspace, random_state=RANDOM_STATE, test_size=0.3)"
   ]
  },
  {
   "cell_type": "markdown",
   "metadata": {},
   "source": [
    "Sanity check to verify sizes."
   ]
  },
  {
   "cell_type": "code",
   "execution_count": 19,
   "metadata": {},
   "outputs": [
    {
     "data": {
      "text/plain": [
       "0.699999829057053"
      ]
     },
     "execution_count": 19,
     "metadata": {},
     "output_type": "execute_result"
    }
   ],
   "source": [
    "df_train.shape[0] / flights.shape[0]"
   ]
  },
  {
   "cell_type": "code",
   "execution_count": 33,
   "metadata": {},
   "outputs": [
    {
     "data": {
      "text/plain": [
       "0.30000017094294695"
      ]
     },
     "execution_count": 33,
     "metadata": {},
     "output_type": "execute_result"
    }
   ],
   "source": [
    "df_test.shape[0] / flights.shape[0]"
   ]
  },
  {
   "cell_type": "markdown",
   "metadata": {},
   "source": [
    "We initially split into two dataframes to more effectively enable the use of our custom ranking implementation in [processing.py](../../Scripts/processing.py)"
   ]
  },
  {
   "cell_type": "markdown",
   "metadata": {},
   "source": [
    "#### Categorical features:"
   ]
  },
  {
   "cell_type": "markdown",
   "metadata": {},
   "source": [
    "`fl_date` can be used to add `day_of_week`, and `month_of_year` columns. These could potentially be reordered by rank of expected delay as well as long as each change is noted for the sake of interpretability."
   ]
  },
  {
   "cell_type": "markdown",
   "metadata": {},
   "source": [
    "`origin_airport_id` and `dest_airport_id` could also be ordinalized based on expected delay. IDs should be used and the codes discarded becasue these will always refer to the expected airport across years."
   ]
  },
  {
   "cell_type": "code",
   "execution_count": 65,
   "metadata": {},
   "outputs": [],
   "source": [
    "from typing import Dict, List, Optional, Sequence, Tuple, Union"
   ]
  },
  {
   "cell_type": "code",
   "execution_count": 70,
   "metadata": {},
   "outputs": [
    {
     "ename": "TypeError",
     "evalue": "'type' object is not subscriptable",
     "output_type": "error",
     "traceback": [
      "\u001b[1;31m---------------------------------------------------------------------------\u001b[0m",
      "\u001b[1;31mTypeError\u001b[0m                                 Traceback (most recent call last)",
      "\u001b[1;32m<ipython-input-70-6f0a966b2bdf>\u001b[0m in \u001b[0;36m<module>\u001b[1;34m\u001b[0m\n\u001b[1;32m----> 1\u001b[1;33m \u001b[1;32mimport\u001b[0m \u001b[0mprocessing_jonas\u001b[0m\u001b[1;33m\u001b[0m\u001b[1;33m\u001b[0m\u001b[0m\n\u001b[0m",
      "\u001b[1;32md:\\OneDrive\\Data Science\\Lighthouse Labs\\data_bootcamp\\w05\\w05-d5\\Midterm\\flight-delay-prediction\\Data\\features\\processing_jonas.py\u001b[0m in \u001b[0;36m<module>\u001b[1;34m\u001b[0m\n\u001b[0;32m      6\u001b[0m                         \u001b[0mrank_by_name\u001b[0m\u001b[1;33m:\u001b[0m \u001b[0mstr\u001b[0m\u001b[1;33m,\u001b[0m\u001b[1;33m\u001b[0m\u001b[1;33m\u001b[0m\u001b[0m\n\u001b[0;32m      7\u001b[0m                         \u001b[0mmethod\u001b[0m\u001b[1;33m:\u001b[0m \u001b[0mstr\u001b[0m \u001b[1;33m=\u001b[0m \u001b[1;34m'dense'\u001b[0m\u001b[1;33m,\u001b[0m\u001b[1;33m\u001b[0m\u001b[1;33m\u001b[0m\u001b[0m\n\u001b[1;32m----> 8\u001b[1;33m                         ) -> tuple[pd.Series, dict]:\n\u001b[0m\u001b[0;32m      9\u001b[0m     \"\"\"\n\u001b[0;32m     10\u001b[0m     \u001b[0mConverts\u001b[0m \u001b[0mcategorical\u001b[0m \u001b[0mcolumns\u001b[0m \u001b[0minto\u001b[0m \u001b[0mordinal\u001b[0m \u001b[0mcolumns\u001b[0m \u001b[0musing\u001b[0m \u001b[0mthe\u001b[0m \u001b[0mpandas\u001b[0m\u001b[0;31m \u001b[0m\u001b[0;31m`\u001b[0m\u001b[0mgroupby\u001b[0m\u001b[0;31m`\u001b[0m\u001b[1;33m,\u001b[0m\u001b[0;31m \u001b[0m\u001b[0;31m`\u001b[0m\u001b[0mrank\u001b[0m\u001b[0;31m`\u001b[0m \u001b[1;32mand\u001b[0m\u001b[0;31m \u001b[0m\u001b[0;31m`\u001b[0m\u001b[0mtransform\u001b[0m\u001b[0;31m`\u001b[0m \u001b[0mcategorical\u001b[0m \u001b[0mmethods\u001b[0m\u001b[1;33m.\u001b[0m\u001b[1;33m\u001b[0m\u001b[1;33m\u001b[0m\u001b[0m\n",
      "\u001b[1;31mTypeError\u001b[0m: 'type' object is not subscriptable"
     ]
    }
   ],
   "source": [
    "import processing_jonas\n"
   ]
  },
  {
   "cell_type": "code",
   "execution_count": 68,
   "metadata": {},
   "outputs": [],
   "source": [
    "def rank_column_by_mean(df: pd.DataFrame,\n",
    "                        to_rank_name: str,\n",
    "                        rank_by_name: str,\n",
    "                        method: str = 'dense',\n",
    "                        ):\n",
    "    \"\"\"\n",
    "    Converts categorical columns into ordinal columns using the pandas `groupby`, `rank` and `transform` categorical methods.\n",
    "    Because this is a wrapper function, limitations stem from those of its subcomponents.\n",
    "\n",
    "    Parameters:\n",
    "\n",
    "        `df`: pd.DataFrame - Input DataFrame that is expected to contain both the categorical column (`to_rank_name`) to be \n",
    "            ranked as well as the numeric column (`rank_by_name`) to use for ranking values.\n",
    "\n",
    "        `to_rank_name`: str - The name of the categorical column to be ranked as a string. Must be a column in the\n",
    "            input DataFrame (`df`).\n",
    "\n",
    "        `rank_by_name`: str - The name of the numeric column to be used for ranking the categorical column. Must be \n",
    "            a column in the input DataFrame (`df`).\n",
    "\n",
    "        `method`: str = 'dense' - the method to be used by the pandas `rank` method to determine ranking. Our default of \n",
    "            'dense' is sensible, but {'average', 'min', 'max', 'first', 'dense'} are all accepted here.\n",
    "\n",
    "    Returns:\n",
    "\n",
    "        tuple[pd.Series, dict] - A tuple with the transformed series and a dictionary containing the mappings to be applied\n",
    "            on the test data.\n",
    "\n",
    "    \"\"\"\n",
    "    _metric_series = df.groupby(to_rank_name)[rank_by_name].transform('mean')\n",
    "    ranked_series = _metric_series.rank(method=method)\n",
    "\n",
    "    _mapping = df.groupby(to_rank_name)[rank_by_name].mean().rank()\n",
    "    rank_mapping = {index: rank for index,\n",
    "                    rank in zip(_mapping.index, _mapping)}\n",
    "\n",
    "    return (ranked_series, rank_mapping)"
   ]
  },
  {
   "cell_type": "code",
   "execution_count": null,
   "metadata": {},
   "outputs": [],
   "source": []
  },
  {
   "cell_type": "code",
   "execution_count": 61,
   "metadata": {},
   "outputs": [],
   "source": [
    "def rank_features_by_mean(df: pd.DataFrame,\n",
    "                          to_rank_names: list,\n",
    "                          rank_by_name: str,\n",
    "                          method: str = 'dense',\n",
    "                          ):\n",
    "    \"\"\"\n",
    "    Applies `rank_column_by_mean` on a list of categorical features (expected subset of `df`.columns) to generate a pandas\n",
    "    DataFrame of ranked columns as well as a dict of their mappings.\n",
    "\n",
    "    Parameters:\n",
    "\n",
    "        `df`: pd.DataFrame - Input DataFrame that is expected to contain both the categorical column (`to_rank_name`) to be \n",
    "            ranked as well as the numeric column (`rank_by_name`) to use for ranking values.\n",
    "\n",
    "        `to_rank_names`: list - The list of names of the categorical columns to be ranked. Expected be columns in the\n",
    "            input DataFrame (`df`).\n",
    "\n",
    "        `rank_by_name`: str - The name of the numeric column to be used for ranking the categorical column. Must be \n",
    "            a column in the input DataFrame (`df`).\n",
    "\n",
    "        `method`: str = 'dense' - the method to be used by the pandas `rank` method to determine ranking. Our default of \n",
    "            'dense' is sensible, but {'average', 'min', 'max', 'first', 'dense'} are all accepted here.\n",
    "\n",
    "    Returns:\n",
    "\n",
    "        tuple[pd.DataFrame, dict[dict]] - A tuple with the transformed DataFrame and a dictionary containing the mappings \n",
    "            to be applied on the test data.\n",
    "\n",
    "    \"\"\"\n",
    "    ranked_features = {}\n",
    "    mappings = {}\n",
    "\n",
    "    for to_rank_name in to_rank_names:\n",
    "        ranked_features[f'{to_rank_name}_ranked'], mappings[to_rank_name] = rank_column_by_mean(df,\n",
    "                                                                                                to_rank_name,\n",
    "                                                                                                rank_by_name,\n",
    "                                                                                                method)\n",
    "\n",
    "    return pd.DataFrame(ranked_features), mappings\n"
   ]
  },
  {
   "cell_type": "code",
   "execution_count": 59,
   "metadata": {},
   "outputs": [
    {
     "data": {
      "text/plain": [
       "module"
      ]
     },
     "execution_count": 59,
     "metadata": {},
     "output_type": "execute_result"
    }
   ],
   "source": [
    "type(pro)"
   ]
  },
  {
   "cell_type": "code",
   "execution_count": 60,
   "metadata": {},
   "outputs": [
    {
     "ename": "AttributeError",
     "evalue": "module 'sklearn.preprocessing' has no attribute 'rank_features_by_mean'",
     "output_type": "error",
     "traceback": [
      "\u001b[1;31m---------------------------------------------------------------------------\u001b[0m",
      "\u001b[1;31mAttributeError\u001b[0m                            Traceback (most recent call last)",
      "\u001b[1;32m<ipython-input-60-74bff7dc365c>\u001b[0m in \u001b[0;36m<module>\u001b[1;34m\u001b[0m\n\u001b[0;32m      4\u001b[0m                           'day_of_week']\n\u001b[0;32m      5\u001b[0m \u001b[1;33m\u001b[0m\u001b[0m\n\u001b[1;32m----> 6\u001b[1;33m \u001b[0mordinal_df\u001b[0m\u001b[1;33m,\u001b[0m \u001b[0mordinal_mappings\u001b[0m \u001b[1;33m=\u001b[0m \u001b[0mpro\u001b[0m\u001b[1;33m.\u001b[0m\u001b[0mrank_features_by_mean\u001b[0m\u001b[1;33m(\u001b[0m\u001b[0mdf_train\u001b[0m\u001b[1;33m,\u001b[0m \u001b[0mcategorical_to_ordinal\u001b[0m\u001b[1;33m,\u001b[0m \u001b[1;34m'arr_delay'\u001b[0m\u001b[1;33m)\u001b[0m\u001b[1;33m\u001b[0m\u001b[1;33m\u001b[0m\u001b[0m\n\u001b[0m",
      "\u001b[1;31mAttributeError\u001b[0m: module 'sklearn.preprocessing' has no attribute 'rank_features_by_mean'"
     ]
    }
   ],
   "source": [
    "categorical_to_ordinal = ['origin_airport_id',\n",
    "                          'dest_airport_id',\n",
    "                          'month_of_year',\n",
    "                          'day_of_week']\n",
    "\n",
    "ordinal_df, ordinal_mappings = pro.rank_features_by_mean(df_train, categorical_to_ordinal, 'arr_delay')"
   ]
  },
  {
   "cell_type": "markdown",
   "metadata": {},
   "source": [
    "`dup` and `branded_code_share` can be binarized."
   ]
  },
  {
   "cell_type": "code",
   "execution_count": 32,
   "metadata": {},
   "outputs": [],
   "source": [
    "numeric_features = [\n",
    "    'distance',\n",
    "    'crs_arr_time',\n",
    "    'crs_dep_time',\n",
    "    'crs_elapsed_time',\n",
    "]\n",
    "\n",
    "# Ranked in terms of correlation with arr_delay from low to high.\n",
    "ordinal_features = [\n",
    "    'origin_delay_rank',\n",
    "    'dest_delay_rank',\n",
    "    'day_of_week_rank',\n",
    "    'month_of_year_rank',\n",
    "]\n",
    "\n",
    "binary_features = [\n",
    "    'dup',\n",
    "    'code_share',\n",
    "]"
   ]
  },
  {
   "cell_type": "code",
   "execution_count": null,
   "metadata": {},
   "outputs": [],
   "source": []
  }
 ],
 "metadata": {
  "interpreter": {
   "hash": "8d6676aaa1277e38a8b007c79f4c02c0460f54b902bd054fa5584050907dc207"
  },
  "kernelspec": {
   "display_name": "Python 3.9.7 64-bit ('LHL': conda)",
   "language": "python",
   "name": "python3"
  },
  "language_info": {
   "codemirror_mode": {
    "name": "ipython",
    "version": 3
   },
   "file_extension": ".py",
   "mimetype": "text/x-python",
   "name": "python",
   "nbconvert_exporter": "python",
   "pygments_lexer": "ipython3",
   "version": "3.6.13"
  },
  "orig_nbformat": 4
 },
 "nbformat": 4,
 "nbformat_minor": 2
}
