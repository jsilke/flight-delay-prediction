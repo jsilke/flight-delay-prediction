{
 "cells": [
  {
   "cell_type": "code",
   "execution_count": null,
   "metadata": {},
   "outputs": [],
   "source": [
    "import pandas as pd\n",
    "import sklearn.model_selection as ms\n",
    "import sklearn.metrics as me\n",
    "import xgboost as xgb"
   ]
  },
  {
   "cell_type": "code",
   "execution_count": null,
   "metadata": {},
   "outputs": [],
   "source": [
    "RANDOM_STATE = 42"
   ]
  },
  {
   "cell_type": "code",
   "execution_count": null,
   "metadata": {},
   "outputs": [],
   "source": [
    "ranked = pd.read_csv(\"../files/flights_subspace_rank.csv\")\n",
    "ranked_test = pd.read_csv(\"../files/flights_test_rank.csv\")\n",
    "stats = pd.read_csv(\"../files/flights_subspace_stats.csv\")\n",
    "stats_test = pd.read_csv(\"../files/flights_test_stats.csv\")"
   ]
  },
  {
   "cell_type": "code",
   "execution_count": null,
   "metadata": {},
   "outputs": [],
   "source": [
    "# data sampling\n",
    "rank_sample = ranked.sample(frac=0.15, random_state=RANDOM_STATE)\n",
    "stats_sample = stats.sample(frac=0.15, random_state=RANDOM_STATE)"
   ]
  },
  {
   "cell_type": "code",
   "execution_count": null,
   "metadata": {},
   "outputs": [],
   "source": [
    "rfc = xgb.XGBRFClassifier(use_label_encoder=False, random_state=RANDOM_STATE)"
   ]
  },
  {
   "cell_type": "code",
   "execution_count": null,
   "metadata": {},
   "outputs": [],
   "source": [
    "dfs = (ranked, stats)\n",
    "\n",
    "# binarize the arr_delay feature and drop it.\n",
    "for df in dfs:\n",
    "    df['is_delayed'] = df['arr_delay'].apply(lambda delay: 1 if (delay > 0) else 0)"
   ]
  },
  {
   "cell_type": "code",
   "execution_count": null,
   "metadata": {},
   "outputs": [],
   "source": [
    "X_rank, y_rank = ranked.drop(columns=['fl_date', 'arr_delay', 'is_delayed']), ranked.is_delayed\n",
    "X_stats, y_stats = stats.drop(columns=['fl_date', 'arr_delay', 'is_delayed']), stats.is_delayed"
   ]
  },
  {
   "cell_type": "code",
   "execution_count": null,
   "metadata": {},
   "outputs": [],
   "source": [
    "rank_Xtrain, rank_Xtest, rank_ytrain, rank_ytest = ms.train_test_split(X_rank, y_rank, stratify=y_rank, test_size=0.3, random_state=RANDOM_STATE)\n",
    "stats_Xtrain, stats_Xtest, stats_ytrain, stats_ytest = ms.train_test_split(X_stats, y_stats, stratify=y_stats, test_size=0.3, random_state=RANDOM_STATE)"
   ]
  },
  {
   "cell_type": "markdown",
   "metadata": {},
   "source": [
    "### Ranked data"
   ]
  },
  {
   "cell_type": "code",
   "execution_count": null,
   "metadata": {},
   "outputs": [],
   "source": [
    "rfc.fit(rank_Xtrain, rank_ytrain)\n",
    "rank_pred = rfc.predict(rank_Xtest)"
   ]
  },
  {
   "cell_type": "code",
   "execution_count": null,
   "metadata": {},
   "outputs": [],
   "source": [
    "soft_from_rank = rfc.predict_proba(rank_Xtest)"
   ]
  },
  {
   "cell_type": "code",
   "execution_count": null,
   "metadata": {},
   "outputs": [],
   "source": [
    "print(me.classification_report(rank_ytest, rank_pred))"
   ]
  },
  {
   "cell_type": "code",
   "execution_count": null,
   "metadata": {},
   "outputs": [],
   "source": [
    "me.ConfusionMatrixDisplay.from_predictions(rank_ytest, rank_pred)"
   ]
  },
  {
   "cell_type": "code",
   "execution_count": null,
   "metadata": {},
   "outputs": [],
   "source": [
    "me.RocCurveDisplay.from_predictions(rank_ytest, rank_pred)"
   ]
  },
  {
   "cell_type": "markdown",
   "metadata": {},
   "source": [
    "### Stats data"
   ]
  },
  {
   "cell_type": "code",
   "execution_count": null,
   "metadata": {},
   "outputs": [],
   "source": [
    "rfc.fit(stats_Xtrain, stats_ytrain)\n",
    "stats_pred = rfc.predict(stats_Xtest)"
   ]
  },
  {
   "cell_type": "code",
   "execution_count": null,
   "metadata": {},
   "outputs": [],
   "source": [
    "soft_from_stats = rfc.predict_proba(stats_Xtest)"
   ]
  },
  {
   "cell_type": "code",
   "execution_count": null,
   "metadata": {},
   "outputs": [],
   "source": [
    "print(me.classification_report(stats_ytest, stats_pred))"
   ]
  },
  {
   "cell_type": "code",
   "execution_count": null,
   "metadata": {},
   "outputs": [],
   "source": [
    "me.ConfusionMatrixDisplay.from_predictions(stats_ytest, stats_pred)"
   ]
  },
  {
   "cell_type": "code",
   "execution_count": null,
   "metadata": {},
   "outputs": [],
   "source": [
    "me.RocCurveDisplay.from_predictions(stats_ytest, stats_pred)"
   ]
  },
  {
   "cell_type": "markdown",
   "metadata": {},
   "source": [
    "### Predictions"
   ]
  },
  {
   "cell_type": "code",
   "execution_count": null,
   "metadata": {},
   "outputs": [],
   "source": [
    "rank = soft_from_rank[:, :1]\n",
    "stats = soft_from_stats[:, :1]"
   ]
  }
 ],
 "metadata": {
  "interpreter": {
   "hash": "8d6676aaa1277e38a8b007c79f4c02c0460f54b902bd054fa5584050907dc207"
  },
  "kernelspec": {
   "display_name": "Python 3.9.7 64-bit ('LHL': conda)",
   "language": "python",
   "name": "python3"
  },
  "language_info": {
   "codemirror_mode": {
    "name": "ipython",
    "version": 3
   },
   "file_extension": ".py",
   "mimetype": "text/x-python",
   "name": "python",
   "nbconvert_exporter": "python",
   "pygments_lexer": "ipython3",
   "version": "3.9.7"
  },
  "orig_nbformat": 4
 },
 "nbformat": 4,
 "nbformat_minor": 2
}
