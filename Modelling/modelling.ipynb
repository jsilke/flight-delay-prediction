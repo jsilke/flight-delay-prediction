{
 "cells": [
  {
   "cell_type": "code",
   "execution_count": 1,
   "metadata": {},
   "outputs": [],
   "source": [
    "import pandas as pd\n",
    "import sklearn.model_selection as ms\n",
    "from sklearn.linear_model import Ridge\n",
    "import sklearn.metrics as me"
   ]
  },
  {
   "cell_type": "code",
   "execution_count": 2,
   "metadata": {},
   "outputs": [],
   "source": [
    "RANDOM_STATE = 42"
   ]
  },
  {
   "cell_type": "code",
   "execution_count": 3,
   "metadata": {},
   "outputs": [
    {
     "data": {
      "text/html": [
       "<div>\n",
       "<style scoped>\n",
       "    .dataframe tbody tr th:only-of-type {\n",
       "        vertical-align: middle;\n",
       "    }\n",
       "\n",
       "    .dataframe tbody tr th {\n",
       "        vertical-align: top;\n",
       "    }\n",
       "\n",
       "    .dataframe thead th {\n",
       "        text-align: right;\n",
       "    }\n",
       "</style>\n",
       "<table border=\"1\" class=\"dataframe\">\n",
       "  <thead>\n",
       "    <tr style=\"text-align: right;\">\n",
       "      <th></th>\n",
       "      <th>branded_code_share</th>\n",
       "      <th>crs_dep_time</th>\n",
       "      <th>crs_arr_time</th>\n",
       "      <th>dup</th>\n",
       "      <th>crs_elapsed_time</th>\n",
       "      <th>distance</th>\n",
       "      <th>arr_delay</th>\n",
       "      <th>origin_airport_id_rank</th>\n",
       "      <th>dest_airport_id_rank</th>\n",
       "      <th>month_of_year_rank</th>\n",
       "      <th>day_of_week_rank</th>\n",
       "    </tr>\n",
       "  </thead>\n",
       "  <tbody>\n",
       "    <tr>\n",
       "      <th>0</th>\n",
       "      <td>1</td>\n",
       "      <td>1020</td>\n",
       "      <td>1112</td>\n",
       "      <td>0</td>\n",
       "      <td>52.0</td>\n",
       "      <td>127</td>\n",
       "      <td>-2.0</td>\n",
       "      <td>205.0</td>\n",
       "      <td>62.0</td>\n",
       "      <td>8.0</td>\n",
       "      <td>4.0</td>\n",
       "    </tr>\n",
       "    <tr>\n",
       "      <th>1</th>\n",
       "      <td>1</td>\n",
       "      <td>1148</td>\n",
       "      <td>1340</td>\n",
       "      <td>0</td>\n",
       "      <td>112.0</td>\n",
       "      <td>468</td>\n",
       "      <td>-14.0</td>\n",
       "      <td>194.0</td>\n",
       "      <td>196.0</td>\n",
       "      <td>8.0</td>\n",
       "      <td>4.0</td>\n",
       "    </tr>\n",
       "    <tr>\n",
       "      <th>2</th>\n",
       "      <td>1</td>\n",
       "      <td>1155</td>\n",
       "      <td>1551</td>\n",
       "      <td>0</td>\n",
       "      <td>176.0</td>\n",
       "      <td>1091</td>\n",
       "      <td>4.0</td>\n",
       "      <td>205.0</td>\n",
       "      <td>235.0</td>\n",
       "      <td>8.0</td>\n",
       "      <td>4.0</td>\n",
       "    </tr>\n",
       "    <tr>\n",
       "      <th>3</th>\n",
       "      <td>1</td>\n",
       "      <td>839</td>\n",
       "      <td>959</td>\n",
       "      <td>0</td>\n",
       "      <td>80.0</td>\n",
       "      <td>310</td>\n",
       "      <td>-20.0</td>\n",
       "      <td>138.0</td>\n",
       "      <td>182.0</td>\n",
       "      <td>8.0</td>\n",
       "      <td>4.0</td>\n",
       "    </tr>\n",
       "    <tr>\n",
       "      <th>4</th>\n",
       "      <td>1</td>\n",
       "      <td>710</td>\n",
       "      <td>826</td>\n",
       "      <td>0</td>\n",
       "      <td>76.0</td>\n",
       "      <td>301</td>\n",
       "      <td>-1.0</td>\n",
       "      <td>290.0</td>\n",
       "      <td>196.0</td>\n",
       "      <td>8.0</td>\n",
       "      <td>4.0</td>\n",
       "    </tr>\n",
       "  </tbody>\n",
       "</table>\n",
       "</div>"
      ],
      "text/plain": [
       "   branded_code_share  crs_dep_time  crs_arr_time  dup  crs_elapsed_time  \\\n",
       "0                   1          1020          1112    0              52.0   \n",
       "1                   1          1148          1340    0             112.0   \n",
       "2                   1          1155          1551    0             176.0   \n",
       "3                   1           839           959    0              80.0   \n",
       "4                   1           710           826    0              76.0   \n",
       "\n",
       "   distance  arr_delay  origin_airport_id_rank  dest_airport_id_rank  \\\n",
       "0       127       -2.0                   205.0                  62.0   \n",
       "1       468      -14.0                   194.0                 196.0   \n",
       "2      1091        4.0                   205.0                 235.0   \n",
       "3       310      -20.0                   138.0                 182.0   \n",
       "4       301       -1.0                   290.0                 196.0   \n",
       "\n",
       "   month_of_year_rank  day_of_week_rank  \n",
       "0                 8.0               4.0  \n",
       "1                 8.0               4.0  \n",
       "2                 8.0               4.0  \n",
       "3                 8.0               4.0  \n",
       "4                 8.0               4.0  "
      ]
     },
     "execution_count": 3,
     "metadata": {},
     "output_type": "execute_result"
    }
   ],
   "source": [
    "flights_engi = pd.read_csv('../Data/files/flights_engi.csv')\n",
    "flights_engi.head()"
   ]
  },
  {
   "cell_type": "markdown",
   "metadata": {},
   "source": [
    "Since there are so many observations, let us start with a pseudorandom subsample to check computational time and scale accordingly."
   ]
  },
  {
   "cell_type": "code",
   "execution_count": 4,
   "metadata": {},
   "outputs": [],
   "source": [
    "# 15% of the data.\n",
    "flights_subsample = flights_engi.sample(frac=0.15, random_state=RANDOM_STATE)"
   ]
  },
  {
   "cell_type": "code",
   "execution_count": 5,
   "metadata": {},
   "outputs": [],
   "source": [
    "X = flights_subsample.drop('arr_delay', axis=1)\n",
    "y = flights_subsample['arr_delay']"
   ]
  },
  {
   "cell_type": "markdown",
   "metadata": {},
   "source": [
    "### Processing the data"
   ]
  },
  {
   "cell_type": "code",
   "execution_count": 6,
   "metadata": {},
   "outputs": [],
   "source": [
    "X_train, X_test, y_train, y_test = ms.train_test_split(X, y, random_state=RANDOM_STATE, test_size=0.3)"
   ]
  },
  {
   "cell_type": "code",
   "execution_count": 7,
   "metadata": {},
   "outputs": [],
   "source": [
    "ridge = Ridge(random_state=RANDOM_STATE)"
   ]
  },
  {
   "cell_type": "code",
   "execution_count": 8,
   "metadata": {},
   "outputs": [
    {
     "data": {
      "text/plain": [
       "Ridge(random_state=42)"
      ]
     },
     "execution_count": 8,
     "metadata": {},
     "output_type": "execute_result"
    }
   ],
   "source": [
    "ridge.fit(X_train, y_train)"
   ]
  },
  {
   "cell_type": "code",
   "execution_count": 9,
   "metadata": {},
   "outputs": [],
   "source": [
    "y_pred = ridge.predict(X_test)"
   ]
  },
  {
   "cell_type": "code",
   "execution_count": 10,
   "metadata": {},
   "outputs": [
    {
     "data": {
      "text/plain": [
       "2379.3844377874098"
      ]
     },
     "execution_count": 10,
     "metadata": {},
     "output_type": "execute_result"
    }
   ],
   "source": [
    "me.mean_squared_error(y_test, y_pred)"
   ]
  },
  {
   "cell_type": "code",
   "execution_count": 11,
   "metadata": {},
   "outputs": [
    {
     "data": {
      "text/plain": [
       "0.019990681538700095"
      ]
     },
     "execution_count": 11,
     "metadata": {},
     "output_type": "execute_result"
    }
   ],
   "source": [
    "me.r2_score(y_test, y_pred)"
   ]
  },
  {
   "cell_type": "markdown",
   "metadata": {},
   "source": [
    "In its current state, our model is worse than terrible. That's okay. This is where the iteration properly begins. The data is horrible right now, so fetures need to be significantly adjusted. The model choice is currently arbitrary, and the hyperparameters are default."
   ]
  }
 ],
 "metadata": {
  "interpreter": {
   "hash": "8d6676aaa1277e38a8b007c79f4c02c0460f54b902bd054fa5584050907dc207"
  },
  "kernelspec": {
   "display_name": "Python 3.9.7 64-bit ('LHL': conda)",
   "language": "python",
   "name": "python3"
  },
  "language_info": {
   "codemirror_mode": {
    "name": "ipython",
    "version": 3
   },
   "file_extension": ".py",
   "mimetype": "text/x-python",
   "name": "python",
   "nbconvert_exporter": "python",
   "pygments_lexer": "ipython3",
   "version": "3.9.7"
  },
  "orig_nbformat": 4
 },
 "nbformat": 4,
 "nbformat_minor": 2
}
