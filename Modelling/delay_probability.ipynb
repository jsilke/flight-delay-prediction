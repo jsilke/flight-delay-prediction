{
 "cells": [
  {
   "cell_type": "code",
   "execution_count": 1,
   "metadata": {},
   "outputs": [],
   "source": [
    "import pandas as pd\n",
    "import sklearn.model_selection as ms\n",
    "import sklearn.metrics as me\n",
    "import xgboost as xgb\n",
    "\n",
    "import matplotlib.pyplot as plt\n",
    "\n",
    "plt.style.use('dark_background')"
   ]
  },
  {
   "cell_type": "code",
   "execution_count": 2,
   "metadata": {},
   "outputs": [],
   "source": [
    "RANDOM_STATE = 42"
   ]
  },
  {
   "cell_type": "code",
   "execution_count": 3,
   "metadata": {},
   "outputs": [],
   "source": [
    "stats = pd.read_csv(\"../Data/files/flights_subspace_stats.csv\")\n",
    "stats_test = pd.read_csv(\"../Data/files/flights_test_stats.csv\")"
   ]
  },
  {
   "cell_type": "code",
   "execution_count": 4,
   "metadata": {},
   "outputs": [],
   "source": [
    "# data sampling\n",
    "stats_sample = stats.sample(frac=0.15, random_state=RANDOM_STATE)"
   ]
  },
  {
   "cell_type": "code",
   "execution_count": 5,
   "metadata": {},
   "outputs": [],
   "source": [
    "rfc = xgb.XGBRFClassifier(use_label_encoder=False, random_state=RANDOM_STATE)"
   ]
  },
  {
   "cell_type": "code",
   "execution_count": 6,
   "metadata": {},
   "outputs": [],
   "source": [
    "stats['is_delayed'] = stats['arr_delay'].apply(lambda delay: 1 if (delay > 0) else 0)"
   ]
  },
  {
   "cell_type": "code",
   "execution_count": 7,
   "metadata": {},
   "outputs": [],
   "source": [
    "X_stats, y_stats = stats.drop(columns=['fl_date', 'is_delayed']), stats.is_delayed"
   ]
  },
  {
   "cell_type": "code",
   "execution_count": 8,
   "metadata": {},
   "outputs": [
    {
     "name": "stdout",
     "output_type": "stream",
     "text": [
      "(2339962, 22) (2339962,)\n"
     ]
    }
   ],
   "source": [
    "print(X_stats.shape, y_stats.shape)"
   ]
  },
  {
   "cell_type": "code",
   "execution_count": 9,
   "metadata": {},
   "outputs": [],
   "source": [
    "stats_Xtrain, stats_Xtest, stats_ytrain, stats_ytest = ms.train_test_split(X_stats, y_stats, stratify=y_stats, test_size=0.3, random_state=RANDOM_STATE)"
   ]
  },
  {
   "cell_type": "markdown",
   "metadata": {},
   "source": [
    "### Stats data"
   ]
  },
  {
   "cell_type": "code",
   "execution_count": 10,
   "metadata": {},
   "outputs": [
    {
     "name": "stdout",
     "output_type": "stream",
     "text": [
      "[14:49:07] WARNING: C:/Users/Administrator/workspace/xgboost-win64_release_1.5.1/src/learner.cc:1115: Starting in XGBoost 1.3.0, the default evaluation metric used with the objective 'binary:logistic' was changed from 'error' to 'logloss'. Explicitly set eval_metric if you'd like to restore the old behavior.\n"
     ]
    },
    {
     "data": {
      "text/plain": [
       "XGBRFClassifier(base_score=0.5, booster='gbtree', colsample_bylevel=1,\n",
       "                colsample_bytree=1, enable_categorical=False, gamma=0,\n",
       "                gpu_id=-1, importance_type=None, interaction_constraints='',\n",
       "                max_delta_step=0, max_depth=6, min_child_weight=1, missing=nan,\n",
       "                monotone_constraints='()', n_estimators=100, n_jobs=8,\n",
       "                num_parallel_tree=100, objective='binary:logistic',\n",
       "                predictor='auto', random_state=42, reg_alpha=0,\n",
       "                scale_pos_weight=1, tree_method='exact',\n",
       "                use_label_encoder=False, validate_parameters=1, verbosity=None)"
      ]
     },
     "execution_count": 10,
     "metadata": {},
     "output_type": "execute_result"
    }
   ],
   "source": [
    "rfc.fit(stats_Xtrain.drop('arr_delay', axis=1), stats_ytrain)"
   ]
  },
  {
   "cell_type": "code",
   "execution_count": 11,
   "metadata": {},
   "outputs": [],
   "source": [
    "stats_pred = rfc.predict(stats_Xtest.drop('arr_delay', axis=1))\n",
    "train_stats_pred = rfc.predict(stats_Xtrain.drop('arr_delay', axis=1))"
   ]
  },
  {
   "cell_type": "code",
   "execution_count": 12,
   "metadata": {},
   "outputs": [],
   "source": [
    "soft_from_stats = rfc.predict_proba(stats_Xtest.drop('arr_delay', axis=1))\n",
    "train_soft_from_stats = rfc.predict_proba(stats_Xtrain.drop('arr_delay', axis=1))"
   ]
  },
  {
   "cell_type": "code",
   "execution_count": 13,
   "metadata": {},
   "outputs": [
    {
     "name": "stdout",
     "output_type": "stream",
     "text": [
      "              precision    recall  f1-score   support\n",
      "\n",
      "           0       0.66      0.97      0.79    455787\n",
      "           1       0.57      0.09      0.15    246202\n",
      "\n",
      "    accuracy                           0.66    701989\n",
      "   macro avg       0.62      0.53      0.47    701989\n",
      "weighted avg       0.63      0.66      0.56    701989\n",
      "\n"
     ]
    }
   ],
   "source": [
    "print(me.classification_report(stats_ytest, stats_pred))"
   ]
  },
  {
   "cell_type": "code",
   "execution_count": 14,
   "metadata": {},
   "outputs": [
    {
     "data": {
      "text/plain": [
       "<sklearn.metrics._plot.confusion_matrix.ConfusionMatrixDisplay at 0x1200e5459d0>"
      ]
     },
     "execution_count": 14,
     "metadata": {},
     "output_type": "execute_result"
    },
    {
     "data": {
      "image/png": "[encoded data removed]",
      "text/plain": [
       "<Figure size 432x288 with 2 Axes>"
      ]
     },
     "metadata": {},
     "output_type": "display_data"
    }
   ],
   "source": [
    "me.ConfusionMatrixDisplay.from_predictions(stats_ytest, stats_pred)"
   ]
  },
  {
   "cell_type": "code",
   "execution_count": 15,
   "metadata": {},
   "outputs": [
    {
     "data": {
      "text/plain": [
       "<sklearn.metrics._plot.confusion_matrix.ConfusionMatrixDisplay at 0x1200e53b520>"
      ]
     },
     "execution_count": 15,
     "metadata": {},
     "output_type": "execute_result"
    },
    {
     "data": {
      "image/png": "[encoded data removed]",
      "text/plain": [
       "<Figure size 432x288 with 2 Axes>"
      ]
     },
     "metadata": {},
     "output_type": "display_data"
    }
   ],
   "source": [
    "me.ConfusionMatrixDisplay.from_predictions(stats_ytrain, train_stats_pred)"
   ]
  },
  {
   "cell_type": "code",
   "execution_count": 16,
   "metadata": {},
   "outputs": [
    {
     "data": {
      "text/plain": [
       "<sklearn.metrics._plot.roc_curve.RocCurveDisplay at 0x12014783e80>"
      ]
     },
     "execution_count": 16,
     "metadata": {},
     "output_type": "execute_result"
    },
    {
     "data": {
      "image/png": "[encoded data removed]",
      "text/plain": [
       "<Figure size 432x288 with 1 Axes>"
      ]
     },
     "metadata": {},
     "output_type": "display_data"
    }
   ],
   "source": [
    "me.RocCurveDisplay.from_predictions(stats_ytest, stats_pred)"
   ]
  },
  {
   "cell_type": "markdown",
   "metadata": {},
   "source": [
    "### Predictions"
   ]
  },
  {
   "cell_type": "code",
   "execution_count": 17,
   "metadata": {},
   "outputs": [],
   "source": [
    "pred_stats_train = train_soft_from_stats[:, :1]\n",
    "pred_stats_test = soft_from_stats[:, :1]"
   ]
  },
  {
   "cell_type": "code",
   "execution_count": 18,
   "metadata": {},
   "outputs": [],
   "source": [
    "stats_Xtrain = stats_Xtrain.reset_index(drop=True)\n",
    "stats_Xtest = stats_Xtest.reset_index(drop=True)"
   ]
  },
  {
   "cell_type": "code",
   "execution_count": 19,
   "metadata": {},
   "outputs": [],
   "source": [
    "stats_Xtrain['stats_pred'] = pd.Series(pred_stats_train.reshape(-1))\n",
    "stats_Xtest['stats_pred'] = pd.Series(pred_stats_test.reshape(-1))"
   ]
  },
  {
   "cell_type": "code",
   "execution_count": 20,
   "metadata": {},
   "outputs": [],
   "source": [
    "X_to_save = pd.concat([stats_Xtrain, stats_Xtest])"
   ]
  },
  {
   "cell_type": "code",
   "execution_count": 21,
   "metadata": {},
   "outputs": [
    {
     "data": {
      "text/plain": [
       "0.621467    18274\n",
       "0.423114     8305\n",
       "0.623135     6362\n",
       "0.621169     6196\n",
       "0.619662     5870\n",
       "            ...  \n",
       "0.661334        1\n",
       "0.644639        1\n",
       "0.762763        1\n",
       "0.656932        1\n",
       "0.710076        1\n",
       "Name: stats_pred, Length: 706848, dtype: int64"
      ]
     },
     "execution_count": 21,
     "metadata": {},
     "output_type": "execute_result"
    }
   ],
   "source": [
    "X_to_save.stats_pred.value_counts(dropna=False)"
   ]
  },
  {
   "cell_type": "code",
   "execution_count": 22,
   "metadata": {},
   "outputs": [
    {
     "data": {
      "text/html": [
       "<div>\n",
       "<style scoped>\n",
       "    .dataframe tbody tr th:only-of-type {\n",
       "        vertical-align: middle;\n",
       "    }\n",
       "\n",
       "    .dataframe tbody tr th {\n",
       "        vertical-align: top;\n",
       "    }\n",
       "\n",
       "    .dataframe thead th {\n",
       "        text-align: right;\n",
       "    }\n",
       "</style>\n",
       "<table border=\"1\" class=\"dataframe\">\n",
       "  <thead>\n",
       "    <tr style=\"text-align: right;\">\n",
       "      <th></th>\n",
       "      <th>branded_code_share</th>\n",
       "      <th>crs_dep_time</th>\n",
       "      <th>crs_arr_time</th>\n",
       "      <th>crs_elapsed_time</th>\n",
       "      <th>distance</th>\n",
       "      <th>arr_delay</th>\n",
       "      <th>origin_airport_id_mean</th>\n",
       "      <th>origin_airport_id_median</th>\n",
       "      <th>dest_airport_id_mean</th>\n",
       "      <th>dest_airport_id_median</th>\n",
       "      <th>...</th>\n",
       "      <th>day_of_week_median</th>\n",
       "      <th>week_of_year_mean</th>\n",
       "      <th>week_of_year_median</th>\n",
       "      <th>tail_num_mean</th>\n",
       "      <th>tail_num_median</th>\n",
       "      <th>op_unique_carrier_mean</th>\n",
       "      <th>op_unique_carrier_median</th>\n",
       "      <th>mkt_unique_carrier_mean</th>\n",
       "      <th>mkt_unique_carrier_median</th>\n",
       "      <th>stats_pred</th>\n",
       "    </tr>\n",
       "  </thead>\n",
       "  <tbody>\n",
       "    <tr>\n",
       "      <th>0</th>\n",
       "      <td>0</td>\n",
       "      <td>1000</td>\n",
       "      <td>1835</td>\n",
       "      <td>335.0</td>\n",
       "      <td>2565</td>\n",
       "      <td>87.0</td>\n",
       "      <td>6.297634</td>\n",
       "      <td>-6.0</td>\n",
       "      <td>18.862792</td>\n",
       "      <td>-3.0</td>\n",
       "      <td>...</td>\n",
       "      <td>-5.0</td>\n",
       "      <td>5.192664</td>\n",
       "      <td>-6.0</td>\n",
       "      <td>-1.452778</td>\n",
       "      <td>-5.0</td>\n",
       "      <td>0.367058</td>\n",
       "      <td>-6.0</td>\n",
       "      <td>0.645435</td>\n",
       "      <td>-6.0</td>\n",
       "      <td>0.599476</td>\n",
       "    </tr>\n",
       "    <tr>\n",
       "      <th>1</th>\n",
       "      <td>1</td>\n",
       "      <td>1345</td>\n",
       "      <td>1424</td>\n",
       "      <td>99.0</td>\n",
       "      <td>500</td>\n",
       "      <td>-3.0</td>\n",
       "      <td>2.734614</td>\n",
       "      <td>-7.0</td>\n",
       "      <td>4.033033</td>\n",
       "      <td>-6.0</td>\n",
       "      <td>...</td>\n",
       "      <td>-6.0</td>\n",
       "      <td>2.912060</td>\n",
       "      <td>-6.0</td>\n",
       "      <td>-0.328512</td>\n",
       "      <td>-11.0</td>\n",
       "      <td>3.516933</td>\n",
       "      <td>-10.0</td>\n",
       "      <td>2.421644</td>\n",
       "      <td>-8.0</td>\n",
       "      <td>0.733710</td>\n",
       "    </tr>\n",
       "    <tr>\n",
       "      <th>2</th>\n",
       "      <td>1</td>\n",
       "      <td>1220</td>\n",
       "      <td>1405</td>\n",
       "      <td>105.0</td>\n",
       "      <td>391</td>\n",
       "      <td>3.0</td>\n",
       "      <td>7.672142</td>\n",
       "      <td>-5.0</td>\n",
       "      <td>1.498925</td>\n",
       "      <td>-7.0</td>\n",
       "      <td>...</td>\n",
       "      <td>-7.0</td>\n",
       "      <td>5.981355</td>\n",
       "      <td>-6.0</td>\n",
       "      <td>0.955516</td>\n",
       "      <td>-7.5</td>\n",
       "      <td>7.113200</td>\n",
       "      <td>-7.0</td>\n",
       "      <td>2.421644</td>\n",
       "      <td>-8.0</td>\n",
       "      <td>0.674812</td>\n",
       "    </tr>\n",
       "    <tr>\n",
       "      <th>3</th>\n",
       "      <td>0</td>\n",
       "      <td>2120</td>\n",
       "      <td>2340</td>\n",
       "      <td>80.0</td>\n",
       "      <td>451</td>\n",
       "      <td>-4.0</td>\n",
       "      <td>2.127281</td>\n",
       "      <td>-7.0</td>\n",
       "      <td>6.327156</td>\n",
       "      <td>-4.0</td>\n",
       "      <td>...</td>\n",
       "      <td>-6.0</td>\n",
       "      <td>6.975293</td>\n",
       "      <td>-6.0</td>\n",
       "      <td>5.558870</td>\n",
       "      <td>-5.0</td>\n",
       "      <td>3.577572</td>\n",
       "      <td>-5.0</td>\n",
       "      <td>3.577572</td>\n",
       "      <td>-5.0</td>\n",
       "      <td>0.552997</td>\n",
       "    </tr>\n",
       "    <tr>\n",
       "      <th>4</th>\n",
       "      <td>0</td>\n",
       "      <td>1130</td>\n",
       "      <td>1730</td>\n",
       "      <td>240.0</td>\n",
       "      <td>1620</td>\n",
       "      <td>7.0</td>\n",
       "      <td>7.672142</td>\n",
       "      <td>-5.0</td>\n",
       "      <td>10.926134</td>\n",
       "      <td>-6.0</td>\n",
       "      <td>...</td>\n",
       "      <td>-5.0</td>\n",
       "      <td>9.774019</td>\n",
       "      <td>-4.0</td>\n",
       "      <td>-4.348974</td>\n",
       "      <td>-11.0</td>\n",
       "      <td>0.449845</td>\n",
       "      <td>-8.0</td>\n",
       "      <td>2.421644</td>\n",
       "      <td>-8.0</td>\n",
       "      <td>0.658946</td>\n",
       "    </tr>\n",
       "  </tbody>\n",
       "</table>\n",
       "<p>5 rows × 23 columns</p>\n",
       "</div>"
      ],
      "text/plain": [
       "   branded_code_share  crs_dep_time  crs_arr_time  crs_elapsed_time  distance  \\\n",
       "0                   0          1000          1835             335.0      2565   \n",
       "1                   1          1345          1424              99.0       500   \n",
       "2                   1          1220          1405             105.0       391   \n",
       "3                   0          2120          2340              80.0       451   \n",
       "4                   0          1130          1730             240.0      1620   \n",
       "\n",
       "   arr_delay  origin_airport_id_mean  origin_airport_id_median  \\\n",
       "0       87.0                6.297634                      -6.0   \n",
       "1       -3.0                2.734614                      -7.0   \n",
       "2        3.0                7.672142                      -5.0   \n",
       "3       -4.0                2.127281                      -7.0   \n",
       "4        7.0                7.672142                      -5.0   \n",
       "\n",
       "   dest_airport_id_mean  dest_airport_id_median  ...  day_of_week_median  \\\n",
       "0             18.862792                    -3.0  ...                -5.0   \n",
       "1              4.033033                    -6.0  ...                -6.0   \n",
       "2              1.498925                    -7.0  ...                -7.0   \n",
       "3              6.327156                    -4.0  ...                -6.0   \n",
       "4             10.926134                    -6.0  ...                -5.0   \n",
       "\n",
       "   week_of_year_mean  week_of_year_median  tail_num_mean  tail_num_median  \\\n",
       "0           5.192664                 -6.0      -1.452778             -5.0   \n",
       "1           2.912060                 -6.0      -0.328512            -11.0   \n",
       "2           5.981355                 -6.0       0.955516             -7.5   \n",
       "3           6.975293                 -6.0       5.558870             -5.0   \n",
       "4           9.774019                 -4.0      -4.348974            -11.0   \n",
       "\n",
       "   op_unique_carrier_mean  op_unique_carrier_median  mkt_unique_carrier_mean  \\\n",
       "0                0.367058                      -6.0                 0.645435   \n",
       "1                3.516933                     -10.0                 2.421644   \n",
       "2                7.113200                      -7.0                 2.421644   \n",
       "3                3.577572                      -5.0                 3.577572   \n",
       "4                0.449845                      -8.0                 2.421644   \n",
       "\n",
       "   mkt_unique_carrier_median  stats_pred  \n",
       "0                       -6.0    0.599476  \n",
       "1                       -8.0    0.733710  \n",
       "2                       -8.0    0.674812  \n",
       "3                       -5.0    0.552997  \n",
       "4                       -8.0    0.658946  \n",
       "\n",
       "[5 rows x 23 columns]"
      ]
     },
     "execution_count": 22,
     "metadata": {},
     "output_type": "execute_result"
    }
   ],
   "source": [
    "X_to_save.head()"
   ]
  },
  {
   "cell_type": "code",
   "execution_count": 32,
   "metadata": {},
   "outputs": [],
   "source": [
    "cols_to_pred = (set(X_to_save.columns) - {'arr_delay', 'stats_pred'})"
   ]
  },
  {
   "cell_type": "code",
   "execution_count": 33,
   "metadata": {},
   "outputs": [],
   "source": [
    "stats_test['stats_pred'] = rfc.predict_proba(stats_test[cols_to_pred])[:, :1]"
   ]
  },
  {
   "cell_type": "code",
   "execution_count": 34,
   "metadata": {},
   "outputs": [
    {
     "data": {
      "text/plain": [
       "0.591202    33707\n",
       "0.591238    17693\n",
       "0.712188    15333\n",
       "0.586493    14642\n",
       "0.592020    14318\n",
       "0.593226    11732\n",
       "0.587277     8734\n",
       "0.725702     6808\n",
       "0.724011     5535\n",
       "0.725481     5241\n",
       "0.714414     4927\n",
       "0.580760     4225\n",
       "0.723789     3311\n",
       "0.581548     1871\n",
       "0.721392     1726\n",
       "0.721169      745\n",
       "0.591756       48\n",
       "0.722528       20\n",
       "0.726396        2\n",
       "0.590852        1\n",
       "0.584893        1\n",
       "0.712543        1\n",
       "0.721469        1\n",
       "0.720852        1\n",
       "Name: stats_pred, dtype: int64"
      ]
     },
     "execution_count": 34,
     "metadata": {},
     "output_type": "execute_result"
    }
   ],
   "source": [
    "stats_test['stats_pred'].value_counts(dropna=False)"
   ]
  },
  {
   "cell_type": "code",
   "execution_count": 35,
   "metadata": {},
   "outputs": [],
   "source": [
    "# Uncomment to save\n",
    "\n",
    "# X_to_save.to_csv(\"../Data/files/stats.csv\", index=False)\n",
    "# stats_test.to_csv(\"../Data/files/stats_test.csv\", index=False)"
   ]
  }
 ],
 "metadata": {
  "interpreter": {
   "hash": "8d6676aaa1277e38a8b007c79f4c02c0460f54b902bd054fa5584050907dc207"
  },
  "kernelspec": {
   "display_name": "Python 3.9.7 64-bit ('LHL': conda)",
   "language": "python",
   "name": "python3"
  },
  "language_info": {
   "codemirror_mode": {
    "name": "ipython",
    "version": 3
   },
   "file_extension": ".py",
   "mimetype": "text/x-python",
   "name": "python",
   "nbconvert_exporter": "python",
   "pygments_lexer": "ipython3",
   "version": "3.9.7"
  },
  "orig_nbformat": 4
 },
 "nbformat": 4,
 "nbformat_minor": 2
}
