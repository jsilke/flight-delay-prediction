{
 "cells": [
  {
   "cell_type": "code",
   "execution_count": 1,
   "metadata": {},
   "outputs": [],
   "source": [
    "import pandas as pd\n",
    "import sklearn.model_selection as ms\n",
    "from sklearn.ensemble import GradientBoostingRegressor\n",
    "import sklearn.preprocessing as pre\n",
    "import sklearn.metrics as me\n",
    "from sklearn.pipeline import Pipeline\n",
    "from sklearn.decomposition import PCA\n",
    "import numpy as np\n",
    "import xgboost as xgb\n",
    "\n",
    "import pickle"
   ]
  },
  {
   "cell_type": "code",
   "execution_count": 2,
   "metadata": {},
   "outputs": [],
   "source": [
    "RANDOM_STATE = 42"
   ]
  },
  {
   "cell_type": "code",
   "execution_count": 3,
   "metadata": {},
   "outputs": [
    {
     "data": {
      "text/html": [
       "<div>\n",
       "<style scoped>\n",
       "    .dataframe tbody tr th:only-of-type {\n",
       "        vertical-align: middle;\n",
       "    }\n",
       "\n",
       "    .dataframe tbody tr th {\n",
       "        vertical-align: top;\n",
       "    }\n",
       "\n",
       "    .dataframe thead th {\n",
       "        text-align: right;\n",
       "    }\n",
       "</style>\n",
       "<table border=\"1\" class=\"dataframe\">\n",
       "  <thead>\n",
       "    <tr style=\"text-align: right;\">\n",
       "      <th></th>\n",
       "      <th>branded_code_share</th>\n",
       "      <th>crs_dep_time</th>\n",
       "      <th>crs_arr_time</th>\n",
       "      <th>crs_elapsed_time</th>\n",
       "      <th>distance</th>\n",
       "      <th>arr_delay</th>\n",
       "      <th>origin_airport_id_mean</th>\n",
       "      <th>origin_airport_id_median</th>\n",
       "      <th>dest_airport_id_mean</th>\n",
       "      <th>dest_airport_id_median</th>\n",
       "      <th>...</th>\n",
       "      <th>day_of_week_median</th>\n",
       "      <th>week_of_year_mean</th>\n",
       "      <th>week_of_year_median</th>\n",
       "      <th>tail_num_mean</th>\n",
       "      <th>tail_num_median</th>\n",
       "      <th>op_unique_carrier_mean</th>\n",
       "      <th>op_unique_carrier_median</th>\n",
       "      <th>mkt_unique_carrier_mean</th>\n",
       "      <th>mkt_unique_carrier_median</th>\n",
       "      <th>stats_pred</th>\n",
       "    </tr>\n",
       "  </thead>\n",
       "  <tbody>\n",
       "    <tr>\n",
       "      <th>0</th>\n",
       "      <td>0</td>\n",
       "      <td>1000</td>\n",
       "      <td>1835</td>\n",
       "      <td>335.0</td>\n",
       "      <td>2565</td>\n",
       "      <td>87.0</td>\n",
       "      <td>6.297634</td>\n",
       "      <td>-6.0</td>\n",
       "      <td>18.862792</td>\n",
       "      <td>-3.0</td>\n",
       "      <td>...</td>\n",
       "      <td>-5.0</td>\n",
       "      <td>5.192664</td>\n",
       "      <td>-6.0</td>\n",
       "      <td>-1.452778</td>\n",
       "      <td>-5.0</td>\n",
       "      <td>0.367058</td>\n",
       "      <td>-6.0</td>\n",
       "      <td>0.645435</td>\n",
       "      <td>-6.0</td>\n",
       "      <td>0.599476</td>\n",
       "    </tr>\n",
       "    <tr>\n",
       "      <th>1</th>\n",
       "      <td>1</td>\n",
       "      <td>1345</td>\n",
       "      <td>1424</td>\n",
       "      <td>99.0</td>\n",
       "      <td>500</td>\n",
       "      <td>-3.0</td>\n",
       "      <td>2.734614</td>\n",
       "      <td>-7.0</td>\n",
       "      <td>4.033033</td>\n",
       "      <td>-6.0</td>\n",
       "      <td>...</td>\n",
       "      <td>-6.0</td>\n",
       "      <td>2.912060</td>\n",
       "      <td>-6.0</td>\n",
       "      <td>-0.328512</td>\n",
       "      <td>-11.0</td>\n",
       "      <td>3.516933</td>\n",
       "      <td>-10.0</td>\n",
       "      <td>2.421644</td>\n",
       "      <td>-8.0</td>\n",
       "      <td>0.733710</td>\n",
       "    </tr>\n",
       "    <tr>\n",
       "      <th>2</th>\n",
       "      <td>1</td>\n",
       "      <td>1220</td>\n",
       "      <td>1405</td>\n",
       "      <td>105.0</td>\n",
       "      <td>391</td>\n",
       "      <td>3.0</td>\n",
       "      <td>7.672142</td>\n",
       "      <td>-5.0</td>\n",
       "      <td>1.498925</td>\n",
       "      <td>-7.0</td>\n",
       "      <td>...</td>\n",
       "      <td>-7.0</td>\n",
       "      <td>5.981355</td>\n",
       "      <td>-6.0</td>\n",
       "      <td>0.955516</td>\n",
       "      <td>-7.5</td>\n",
       "      <td>7.113200</td>\n",
       "      <td>-7.0</td>\n",
       "      <td>2.421644</td>\n",
       "      <td>-8.0</td>\n",
       "      <td>0.674812</td>\n",
       "    </tr>\n",
       "    <tr>\n",
       "      <th>3</th>\n",
       "      <td>0</td>\n",
       "      <td>2120</td>\n",
       "      <td>2340</td>\n",
       "      <td>80.0</td>\n",
       "      <td>451</td>\n",
       "      <td>-4.0</td>\n",
       "      <td>2.127281</td>\n",
       "      <td>-7.0</td>\n",
       "      <td>6.327156</td>\n",
       "      <td>-4.0</td>\n",
       "      <td>...</td>\n",
       "      <td>-6.0</td>\n",
       "      <td>6.975293</td>\n",
       "      <td>-6.0</td>\n",
       "      <td>5.558870</td>\n",
       "      <td>-5.0</td>\n",
       "      <td>3.577572</td>\n",
       "      <td>-5.0</td>\n",
       "      <td>3.577572</td>\n",
       "      <td>-5.0</td>\n",
       "      <td>0.552997</td>\n",
       "    </tr>\n",
       "    <tr>\n",
       "      <th>4</th>\n",
       "      <td>0</td>\n",
       "      <td>1130</td>\n",
       "      <td>1730</td>\n",
       "      <td>240.0</td>\n",
       "      <td>1620</td>\n",
       "      <td>7.0</td>\n",
       "      <td>7.672142</td>\n",
       "      <td>-5.0</td>\n",
       "      <td>10.926134</td>\n",
       "      <td>-6.0</td>\n",
       "      <td>...</td>\n",
       "      <td>-5.0</td>\n",
       "      <td>9.774019</td>\n",
       "      <td>-4.0</td>\n",
       "      <td>-4.348974</td>\n",
       "      <td>-11.0</td>\n",
       "      <td>0.449845</td>\n",
       "      <td>-8.0</td>\n",
       "      <td>2.421644</td>\n",
       "      <td>-8.0</td>\n",
       "      <td>0.658946</td>\n",
       "    </tr>\n",
       "  </tbody>\n",
       "</table>\n",
       "<p>5 rows × 23 columns</p>\n",
       "</div>"
      ],
      "text/plain": [
       "   branded_code_share  crs_dep_time  crs_arr_time  crs_elapsed_time  distance  \\\n",
       "0                   0          1000          1835             335.0      2565   \n",
       "1                   1          1345          1424              99.0       500   \n",
       "2                   1          1220          1405             105.0       391   \n",
       "3                   0          2120          2340              80.0       451   \n",
       "4                   0          1130          1730             240.0      1620   \n",
       "\n",
       "   arr_delay  origin_airport_id_mean  origin_airport_id_median  \\\n",
       "0       87.0                6.297634                      -6.0   \n",
       "1       -3.0                2.734614                      -7.0   \n",
       "2        3.0                7.672142                      -5.0   \n",
       "3       -4.0                2.127281                      -7.0   \n",
       "4        7.0                7.672142                      -5.0   \n",
       "\n",
       "   dest_airport_id_mean  dest_airport_id_median  ...  day_of_week_median  \\\n",
       "0             18.862792                    -3.0  ...                -5.0   \n",
       "1              4.033033                    -6.0  ...                -6.0   \n",
       "2              1.498925                    -7.0  ...                -7.0   \n",
       "3              6.327156                    -4.0  ...                -6.0   \n",
       "4             10.926134                    -6.0  ...                -5.0   \n",
       "\n",
       "   week_of_year_mean  week_of_year_median  tail_num_mean  tail_num_median  \\\n",
       "0           5.192664                 -6.0      -1.452778             -5.0   \n",
       "1           2.912060                 -6.0      -0.328512            -11.0   \n",
       "2           5.981355                 -6.0       0.955516             -7.5   \n",
       "3           6.975293                 -6.0       5.558870             -5.0   \n",
       "4           9.774019                 -4.0      -4.348974            -11.0   \n",
       "\n",
       "   op_unique_carrier_mean  op_unique_carrier_median  mkt_unique_carrier_mean  \\\n",
       "0                0.367058                      -6.0                 0.645435   \n",
       "1                3.516933                     -10.0                 2.421644   \n",
       "2                7.113200                      -7.0                 2.421644   \n",
       "3                3.577572                      -5.0                 3.577572   \n",
       "4                0.449845                      -8.0                 2.421644   \n",
       "\n",
       "   mkt_unique_carrier_median  stats_pred  \n",
       "0                       -6.0    0.599476  \n",
       "1                       -8.0    0.733710  \n",
       "2                       -8.0    0.674812  \n",
       "3                       -5.0    0.552997  \n",
       "4                       -8.0    0.658946  \n",
       "\n",
       "[5 rows x 23 columns]"
      ]
     },
     "execution_count": 3,
     "metadata": {},
     "output_type": "execute_result"
    }
   ],
   "source": [
    "submission = pd.read_csv('../Data/files/stats_test.csv')\n",
    "flights_engi = pd.read_csv('../Data/files/stats.csv')\n",
    "flights_engi.head()"
   ]
  },
  {
   "cell_type": "code",
   "execution_count": 4,
   "metadata": {},
   "outputs": [
    {
     "data": {
      "text/html": [
       "<div>\n",
       "<style scoped>\n",
       "    .dataframe tbody tr th:only-of-type {\n",
       "        vertical-align: middle;\n",
       "    }\n",
       "\n",
       "    .dataframe tbody tr th {\n",
       "        vertical-align: top;\n",
       "    }\n",
       "\n",
       "    .dataframe thead th {\n",
       "        text-align: right;\n",
       "    }\n",
       "</style>\n",
       "<table border=\"1\" class=\"dataframe\">\n",
       "  <thead>\n",
       "    <tr style=\"text-align: right;\">\n",
       "      <th></th>\n",
       "      <th>fl_date</th>\n",
       "      <th>mkt_unique_carrier</th>\n",
       "      <th>branded_code_share</th>\n",
       "      <th>mkt_carrier</th>\n",
       "      <th>mkt_carrier_fl_num</th>\n",
       "      <th>op_unique_carrier</th>\n",
       "      <th>tail_num</th>\n",
       "      <th>origin_airport_id</th>\n",
       "      <th>origin</th>\n",
       "      <th>dest_airport_id</th>\n",
       "      <th>...</th>\n",
       "      <th>day_of_week_median</th>\n",
       "      <th>week_of_year_mean</th>\n",
       "      <th>week_of_year_median</th>\n",
       "      <th>tail_num_mean</th>\n",
       "      <th>tail_num_median</th>\n",
       "      <th>op_unique_carrier_mean</th>\n",
       "      <th>op_unique_carrier_median</th>\n",
       "      <th>mkt_unique_carrier_mean</th>\n",
       "      <th>mkt_unique_carrier_median</th>\n",
       "      <th>stats_pred</th>\n",
       "    </tr>\n",
       "  </thead>\n",
       "  <tbody>\n",
       "    <tr>\n",
       "      <th>0</th>\n",
       "      <td>2020-01-01 00:00:00</td>\n",
       "      <td>WN</td>\n",
       "      <td>0</td>\n",
       "      <td>WN</td>\n",
       "      <td>5888</td>\n",
       "      <td>WN</td>\n",
       "      <td>N951WN</td>\n",
       "      <td>13891</td>\n",
       "      <td>ONT</td>\n",
       "      <td>14771</td>\n",
       "      <td>...</td>\n",
       "      <td>-6.0</td>\n",
       "      <td>6.771881</td>\n",
       "      <td>-5.0</td>\n",
       "      <td>3.229261</td>\n",
       "      <td>-6.0</td>\n",
       "      <td>3.577572</td>\n",
       "      <td>-5.0</td>\n",
       "      <td>3.577572</td>\n",
       "      <td>-5.0</td>\n",
       "      <td>0.591202</td>\n",
       "    </tr>\n",
       "    <tr>\n",
       "      <th>1</th>\n",
       "      <td>2020-01-01 00:00:00</td>\n",
       "      <td>WN</td>\n",
       "      <td>0</td>\n",
       "      <td>WN</td>\n",
       "      <td>6276</td>\n",
       "      <td>WN</td>\n",
       "      <td>N467WN</td>\n",
       "      <td>13891</td>\n",
       "      <td>ONT</td>\n",
       "      <td>14771</td>\n",
       "      <td>...</td>\n",
       "      <td>-6.0</td>\n",
       "      <td>6.771881</td>\n",
       "      <td>-5.0</td>\n",
       "      <td>1.888704</td>\n",
       "      <td>-5.0</td>\n",
       "      <td>3.577572</td>\n",
       "      <td>-5.0</td>\n",
       "      <td>3.577572</td>\n",
       "      <td>-5.0</td>\n",
       "      <td>0.591202</td>\n",
       "    </tr>\n",
       "    <tr>\n",
       "      <th>2</th>\n",
       "      <td>2020-01-01 00:00:00</td>\n",
       "      <td>WN</td>\n",
       "      <td>0</td>\n",
       "      <td>WN</td>\n",
       "      <td>4598</td>\n",
       "      <td>WN</td>\n",
       "      <td>N7885A</td>\n",
       "      <td>13891</td>\n",
       "      <td>ONT</td>\n",
       "      <td>14831</td>\n",
       "      <td>...</td>\n",
       "      <td>-6.0</td>\n",
       "      <td>6.771881</td>\n",
       "      <td>-5.0</td>\n",
       "      <td>3.958029</td>\n",
       "      <td>-5.0</td>\n",
       "      <td>3.577572</td>\n",
       "      <td>-5.0</td>\n",
       "      <td>3.577572</td>\n",
       "      <td>-5.0</td>\n",
       "      <td>0.591202</td>\n",
       "    </tr>\n",
       "    <tr>\n",
       "      <th>3</th>\n",
       "      <td>2020-01-01 00:00:00</td>\n",
       "      <td>WN</td>\n",
       "      <td>0</td>\n",
       "      <td>WN</td>\n",
       "      <td>4761</td>\n",
       "      <td>WN</td>\n",
       "      <td>N551WN</td>\n",
       "      <td>13891</td>\n",
       "      <td>ONT</td>\n",
       "      <td>14831</td>\n",
       "      <td>...</td>\n",
       "      <td>-6.0</td>\n",
       "      <td>6.771881</td>\n",
       "      <td>-5.0</td>\n",
       "      <td>4.577049</td>\n",
       "      <td>-4.0</td>\n",
       "      <td>3.577572</td>\n",
       "      <td>-5.0</td>\n",
       "      <td>3.577572</td>\n",
       "      <td>-5.0</td>\n",
       "      <td>0.591202</td>\n",
       "    </tr>\n",
       "    <tr>\n",
       "      <th>4</th>\n",
       "      <td>2020-01-01 00:00:00</td>\n",
       "      <td>WN</td>\n",
       "      <td>0</td>\n",
       "      <td>WN</td>\n",
       "      <td>5162</td>\n",
       "      <td>WN</td>\n",
       "      <td>N968WN</td>\n",
       "      <td>13891</td>\n",
       "      <td>ONT</td>\n",
       "      <td>14831</td>\n",
       "      <td>...</td>\n",
       "      <td>-6.0</td>\n",
       "      <td>6.771881</td>\n",
       "      <td>-5.0</td>\n",
       "      <td>2.912480</td>\n",
       "      <td>-5.0</td>\n",
       "      <td>3.577572</td>\n",
       "      <td>-5.0</td>\n",
       "      <td>3.577572</td>\n",
       "      <td>-5.0</td>\n",
       "      <td>0.591202</td>\n",
       "    </tr>\n",
       "  </tbody>\n",
       "</table>\n",
       "<p>5 rows × 35 columns</p>\n",
       "</div>"
      ],
      "text/plain": [
       "               fl_date mkt_unique_carrier  branded_code_share mkt_carrier  \\\n",
       "0  2020-01-01 00:00:00                 WN                   0          WN   \n",
       "1  2020-01-01 00:00:00                 WN                   0          WN   \n",
       "2  2020-01-01 00:00:00                 WN                   0          WN   \n",
       "3  2020-01-01 00:00:00                 WN                   0          WN   \n",
       "4  2020-01-01 00:00:00                 WN                   0          WN   \n",
       "\n",
       "   mkt_carrier_fl_num op_unique_carrier tail_num  origin_airport_id origin  \\\n",
       "0                5888                WN   N951WN              13891    ONT   \n",
       "1                6276                WN   N467WN              13891    ONT   \n",
       "2                4598                WN   N7885A              13891    ONT   \n",
       "3                4761                WN   N551WN              13891    ONT   \n",
       "4                5162                WN   N968WN              13891    ONT   \n",
       "\n",
       "   dest_airport_id  ... day_of_week_median  week_of_year_mean  \\\n",
       "0            14771  ...               -6.0           6.771881   \n",
       "1            14771  ...               -6.0           6.771881   \n",
       "2            14831  ...               -6.0           6.771881   \n",
       "3            14831  ...               -6.0           6.771881   \n",
       "4            14831  ...               -6.0           6.771881   \n",
       "\n",
       "   week_of_year_median  tail_num_mean  tail_num_median  \\\n",
       "0                 -5.0       3.229261             -6.0   \n",
       "1                 -5.0       1.888704             -5.0   \n",
       "2                 -5.0       3.958029             -5.0   \n",
       "3                 -5.0       4.577049             -4.0   \n",
       "4                 -5.0       2.912480             -5.0   \n",
       "\n",
       "   op_unique_carrier_mean  op_unique_carrier_median  mkt_unique_carrier_mean  \\\n",
       "0                3.577572                      -5.0                 3.577572   \n",
       "1                3.577572                      -5.0                 3.577572   \n",
       "2                3.577572                      -5.0                 3.577572   \n",
       "3                3.577572                      -5.0                 3.577572   \n",
       "4                3.577572                      -5.0                 3.577572   \n",
       "\n",
       "   mkt_unique_carrier_median  stats_pred  \n",
       "0                       -5.0    0.591202  \n",
       "1                       -5.0    0.591202  \n",
       "2                       -5.0    0.591202  \n",
       "3                       -5.0    0.591202  \n",
       "4                       -5.0    0.591202  \n",
       "\n",
       "[5 rows x 35 columns]"
      ]
     },
     "execution_count": 4,
     "metadata": {},
     "output_type": "execute_result"
    }
   ],
   "source": [
    "submission.head()"
   ]
  },
  {
   "cell_type": "code",
   "execution_count": 5,
   "metadata": {},
   "outputs": [],
   "source": [
    "submission = submission.drop('branded_code_share', axis=1)\n",
    "\n",
    "flights_engi = flights_engi.drop(columns=['branded_code_share'])"
   ]
  },
  {
   "cell_type": "code",
   "execution_count": 6,
   "metadata": {},
   "outputs": [
    {
     "data": {
      "text/plain": [
       "Index(['crs_dep_time', 'crs_arr_time', 'crs_elapsed_time', 'distance',\n",
       "       'arr_delay', 'origin_airport_id_mean', 'origin_airport_id_median',\n",
       "       'dest_airport_id_mean', 'dest_airport_id_median', 'month_of_year_mean',\n",
       "       'month_of_year_median', 'day_of_week_mean', 'day_of_week_median',\n",
       "       'week_of_year_mean', 'week_of_year_median', 'tail_num_mean',\n",
       "       'tail_num_median', 'op_unique_carrier_mean', 'op_unique_carrier_median',\n",
       "       'mkt_unique_carrier_mean', 'mkt_unique_carrier_median', 'stats_pred'],\n",
       "      dtype='object')"
      ]
     },
     "execution_count": 6,
     "metadata": {},
     "output_type": "execute_result"
    }
   ],
   "source": [
    "cols_to_test = (set(flights_engi.columns) - {'arr_delay'})\n",
    "\n",
    "# preview\n",
    "flights_engi.columns"
   ]
  },
  {
   "cell_type": "code",
   "execution_count": 7,
   "metadata": {},
   "outputs": [],
   "source": [
    "X = flights_engi.drop('arr_delay', axis=1)\n",
    "y = flights_engi['arr_delay']"
   ]
  },
  {
   "cell_type": "markdown",
   "metadata": {},
   "source": [
    "### Processing the data"
   ]
  },
  {
   "cell_type": "code",
   "execution_count": 8,
   "metadata": {},
   "outputs": [],
   "source": [
    "X_train, X_test, y_train, y_test = ms.train_test_split(X, y, random_state=RANDOM_STATE, test_size=0.3)"
   ]
  },
  {
   "cell_type": "code",
   "execution_count": 9,
   "metadata": {},
   "outputs": [],
   "source": [
    "# pipe = Pipeline(steps=[\n",
    "#     # ('poly', pre.PolynomialFeatures()),\n",
    "#     ('std_scaler', pre.StandardScaler()),\n",
    "#     ('pca', PCA(random_state=RANDOM_STATE)),\n",
    "#     ('gbr', xgb.XGBRegressor(random_state=RANDOM_STATE),\n",
    "#                                  ),\n",
    "#     ])\n",
    "gbr = xgb.XGBRegressor(random_state=RANDOM_STATE)"
   ]
  },
  {
   "cell_type": "code",
   "execution_count": 10,
   "metadata": {},
   "outputs": [
    {
     "data": {
      "text/plain": [
       "XGBRegressor(base_score=0.5, booster='gbtree', colsample_bylevel=1,\n",
       "             colsample_bynode=1, colsample_bytree=1, enable_categorical=False,\n",
       "             gamma=0, gpu_id=-1, importance_type=None,\n",
       "             interaction_constraints='', learning_rate=0.300000012,\n",
       "             max_delta_step=0, max_depth=6, min_child_weight=1, missing=nan,\n",
       "             monotone_constraints='()', n_estimators=100, n_jobs=8,\n",
       "             num_parallel_tree=1, predictor='auto', random_state=42,\n",
       "             reg_alpha=0, reg_lambda=1, scale_pos_weight=1, subsample=1,\n",
       "             tree_method='exact', validate_parameters=1, verbosity=None)"
      ]
     },
     "execution_count": 10,
     "metadata": {},
     "output_type": "execute_result"
    }
   ],
   "source": [
    "gbr.fit(X_train, y_train)"
   ]
  },
  {
   "cell_type": "code",
   "execution_count": 11,
   "metadata": {},
   "outputs": [],
   "source": [
    "# hyperparameters = {\n",
    "#     'gbr__learning_rate': np.arange(0.1, 1, 0.3),\n",
    "#     'gbr__n_estimators': np.arange(100, 1000, 400)\n",
    "# }"
   ]
  },
  {
   "cell_type": "code",
   "execution_count": 12,
   "metadata": {},
   "outputs": [],
   "source": [
    "# grid_search = ms.GridSearchCV(pipe, hyperparameters, verbose=1, n_jobs=4)"
   ]
  },
  {
   "cell_type": "code",
   "execution_count": 13,
   "metadata": {},
   "outputs": [],
   "source": [
    "# grid_search.fit(X_train, y_train)"
   ]
  },
  {
   "cell_type": "code",
   "execution_count": 14,
   "metadata": {},
   "outputs": [],
   "source": [
    "# model = grid_search.best_estimator_\n",
    "# model"
   ]
  },
  {
   "cell_type": "code",
   "execution_count": 15,
   "metadata": {},
   "outputs": [],
   "source": [
    "y_pred = gbr.predict(X_test)"
   ]
  },
  {
   "cell_type": "code",
   "execution_count": 16,
   "metadata": {},
   "outputs": [
    {
     "data": {
      "text/plain": [
       "2355.2049032966"
      ]
     },
     "execution_count": 16,
     "metadata": {},
     "output_type": "execute_result"
    }
   ],
   "source": [
    "me.mean_squared_error(y_test, y_pred)"
   ]
  },
  {
   "cell_type": "code",
   "execution_count": 17,
   "metadata": {},
   "outputs": [
    {
     "data": {
      "text/plain": [
       "0.04189669784277095"
      ]
     },
     "execution_count": 17,
     "metadata": {},
     "output_type": "execute_result"
    }
   ],
   "source": [
    "me.r2_score(y_test, y_pred)"
   ]
  },
  {
   "cell_type": "code",
   "execution_count": 18,
   "metadata": {},
   "outputs": [],
   "source": [
    "# Save the model\n",
    "# pickle.dump(model, open('first_submission_gbr.sav', 'wb'))"
   ]
  },
  {
   "cell_type": "markdown",
   "metadata": {},
   "source": [
    "There is a lot more to iterate! See the repo readme for future directions."
   ]
  },
  {
   "cell_type": "markdown",
   "metadata": {},
   "source": [
    "### Get submission predictions"
   ]
  },
  {
   "cell_type": "code",
   "execution_count": 19,
   "metadata": {},
   "outputs": [],
   "source": [
    "predicted_delay = gbr.predict(submission[cols_to_test])\n",
    "submission['predicted_delay'] = predicted_delay"
   ]
  },
  {
   "cell_type": "code",
   "execution_count": 20,
   "metadata": {},
   "outputs": [
    {
     "data": {
      "text/plain": [
       "Index(['fl_date', 'mkt_unique_carrier', 'mkt_carrier', 'mkt_carrier_fl_num',\n",
       "       'op_unique_carrier', 'tail_num', 'origin_airport_id', 'origin',\n",
       "       'dest_airport_id', 'dest', 'crs_dep_time', 'crs_arr_time',\n",
       "       'crs_elapsed_time', 'distance', 'day_of_week', 'month_of_year',\n",
       "       'week_of_year', 'origin_airport_id_mean', 'origin_airport_id_median',\n",
       "       'dest_airport_id_mean', 'dest_airport_id_median', 'month_of_year_mean',\n",
       "       'month_of_year_median', 'day_of_week_mean', 'day_of_week_median',\n",
       "       'week_of_year_mean', 'week_of_year_median', 'tail_num_mean',\n",
       "       'tail_num_median', 'op_unique_carrier_mean', 'op_unique_carrier_median',\n",
       "       'mkt_unique_carrier_mean', 'mkt_unique_carrier_median', 'stats_pred',\n",
       "       'predicted_delay'],\n",
       "      dtype='object')"
      ]
     },
     "execution_count": 20,
     "metadata": {},
     "output_type": "execute_result"
    }
   ],
   "source": [
    "cols_to_submit = ['fl_date', 'mkt_carrier', 'mkt_carrier_fl_num', 'origin', 'dest', 'predicted_delay']\n",
    "submission.columns"
   ]
  },
  {
   "cell_type": "code",
   "execution_count": 28,
   "metadata": {},
   "outputs": [
    {
     "data": {
      "text/plain": [
       "0         2020-01-01\n",
       "1         2020-01-01\n",
       "2         2020-01-01\n",
       "3         2020-01-01\n",
       "4         2020-01-01\n",
       "             ...    \n",
       "150618    2020-01-07\n",
       "150619    2020-01-07\n",
       "150620    2020-01-07\n",
       "150621    2020-01-07\n",
       "150622    2020-01-07\n",
       "Name: fl_date, Length: 150623, dtype: object"
      ]
     },
     "execution_count": 28,
     "metadata": {},
     "output_type": "execute_result"
    }
   ],
   "source": [
    "submission['fl_date']"
   ]
  },
  {
   "cell_type": "code",
   "execution_count": 29,
   "metadata": {},
   "outputs": [],
   "source": [
    "# Save the predictions for submission\n",
    "\n",
    "submission[cols_to_submit].to_csv('final_submission.csv')"
   ]
  }
 ],
 "metadata": {
  "interpreter": {
   "hash": "8d6676aaa1277e38a8b007c79f4c02c0460f54b902bd054fa5584050907dc207"
  },
  "kernelspec": {
   "display_name": "Python 3.9.7 64-bit ('LHL': conda)",
   "language": "python",
   "name": "python3"
  },
  "language_info": {
   "codemirror_mode": {
    "name": "ipython",
    "version": 3
   },
   "file_extension": ".py",
   "mimetype": "text/x-python",
   "name": "python",
   "nbconvert_exporter": "python",
   "pygments_lexer": "ipython3",
   "version": "3.9.7"
  },
  "orig_nbformat": 4
 },
 "nbformat": 4,
 "nbformat_minor": 2
}
