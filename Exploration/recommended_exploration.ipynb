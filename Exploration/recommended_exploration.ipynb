{
 "cells": [
  {
   "cell_type": "markdown",
   "metadata": {},
   "source": [
    "# **Exploratory Data Analysis**\n",
    "---"
   ]
  },
  {
   "cell_type": "code",
   "execution_count": 1,
   "metadata": {},
   "outputs": [],
   "source": [
    "import numpy as np\n",
    "import pandas as pd\n",
    "import matplotlib.pyplot as plt\n",
    "import seaborn as sns\n",
    "\n",
    "plt.style.use('dark_background')\n",
    "\n",
    "import scipy.stats as st\n",
    "from sklearn import preprocessing as pre"
   ]
  },
  {
   "cell_type": "code",
   "execution_count": 2,
   "metadata": {},
   "outputs": [],
   "source": [
    "RANDOM_STATE = 42"
   ]
  },
  {
   "cell_type": "markdown",
   "metadata": {},
   "source": [
    "## **2) Recommended exploration tasks**\n",
    "---"
   ]
  },
  {
   "cell_type": "markdown",
   "metadata": {},
   "source": [
    "### Motivation:"
   ]
  },
  {
   "cell_type": "markdown",
   "metadata": {},
   "source": [
    "Our primary objective with this exploratory analysis is to identify the features in our data that best represent our understanding of the [root causes of flight delays](../Research/flight_delay_reasons.md) and in so doing, provide the basis for the **accurate** and **reliable** prediction of commercial flight delays. We aim to develop a sense for how well our feature space captures common flight delay reasons in order to determine which features to select, which additional data to gather, and which features should be re-engineered or excluded."
   ]
  },
  {
   "cell_type": "markdown",
   "metadata": {},
   "source": [
    "#### [Suggested considerations](https://github.com/lighthouse-labs/mid-term-project-I/blob/master/exploratory_analysis.ipynb) synopsis:"
   ]
  },
  {
   "cell_type": "markdown",
   "metadata": {},
   "source": [
    "1. [Test the hypothesis that the arrival delay is from Normal distribution and that mean of the delay is 0. Be careful about the outliers.](#task1)\n",
    "2. [Is average/median monthly delay different during the year? If so, which months have the biggest delays and what could be the reason?](#task2)\n",
    "3. Does the weather affect the delay?\n",
    "4. How are taxi times changing during the day? Does higher traffic lead to longer taxi times?\n",
    "5. What is the average percentage of delays that exist prior to departure (*i.e.* are arrival delays caused by departure delays)? Are airlines able to lower the delay during the flights?\n",
    "6. How many states cover 50% of US air traffic?\n",
    "7. Test the hypothesis that planes fly faster when there is a departure delay.\n",
    "8. When (which hour) do most 'LONG', 'SHORT', 'MEDIUM' haul flights take off?\n",
    "9. Find the top 10 the bussiest airports. Does the greatest number of flights mean that the majority of passengers went through a given airport? How much traffic do these 10 airports cover?\n",
    "10. Do bigger delays lead to bigger fuel consumption per passenger?"
   ]
  },
  {
   "cell_type": "code",
   "execution_count": 3,
   "metadata": {},
   "outputs": [
    {
     "data": {
      "text/plain": [
       "Index(['fl_date', 'mkt_unique_carrier', 'branded_code_share', 'mkt_carrier',\n",
       "       'mkt_carrier_fl_num', 'op_unique_carrier', 'tail_num',\n",
       "       'op_carrier_fl_num', 'origin_airport_id', 'origin', 'origin_city_name',\n",
       "       'dest_airport_id', 'dest', 'dest_city_name', 'crs_dep_time', 'dep_time',\n",
       "       'dep_delay', 'taxi_out', 'wheels_off', 'wheels_on', 'taxi_in',\n",
       "       'crs_arr_time', 'arr_time', 'arr_delay', 'cancelled',\n",
       "       'cancellation_code', 'diverted', 'dup', 'crs_elapsed_time',\n",
       "       'actual_elapsed_time', 'air_time', 'flights', 'distance',\n",
       "       'carrier_delay', 'weather_delay', 'nas_delay', 'security_delay',\n",
       "       'late_aircraft_delay'],\n",
       "      dtype='object')"
      ]
     },
     "execution_count": 3,
     "metadata": {},
     "output_type": "execute_result"
    }
   ],
   "source": [
    "flights = pd.read_csv('../Data/files/flights_no_missing.csv') # run data_overview.ipynb to obtain this file.\n",
    "flights.columns"
   ]
  },
  {
   "cell_type": "markdown",
   "metadata": {},
   "source": [
    "### 1) Is the arrival delay normally distributed with a mean of 0?<a id='task1'></a>"
   ]
  },
  {
   "cell_type": "markdown",
   "metadata": {},
   "source": [
    "#### `arr_delay` distribution"
   ]
  },
  {
   "cell_type": "code",
   "execution_count": null,
   "metadata": {},
   "outputs": [],
   "source": [
    "flights['arr_delay'].describe()"
   ]
  },
  {
   "cell_type": "code",
   "execution_count": null,
   "metadata": {},
   "outputs": [],
   "source": [
    "sns.boxplot(x=flights['arr_delay'])"
   ]
  },
  {
   "cell_type": "code",
   "execution_count": null,
   "metadata": {},
   "outputs": [],
   "source": [
    "st.normaltest(flights['arr_delay'])"
   ]
  },
  {
   "cell_type": "code",
   "execution_count": null,
   "metadata": {},
   "outputs": [],
   "source": [
    "flights['arr_delay'].shape[0]"
   ]
  },
  {
   "cell_type": "markdown",
   "metadata": {},
   "source": [
    "We have strong evidence to reject the null hypothesis that the data is sampled from a normal distribution. Let us attempt a robust [quantile transformation](https://scikit-learn.org/stable/modules/generated/sklearn.preprocessing.QuantileTransformer.html) to see if we can better normalize the data. [Google](https://developers.google.com/machine-learning/clustering/prepare-data) suggests using ~10x fewer quantiles than the number of observations, so we will attempt that. (Note that this is not a requirement. [Jason Brownlee](https://machinelearningmastery.com/quantile-transforms-for-machine-learning/) found reasonable success using ~2x fewer quantiles than observations, but that was with a much smaller dataset and the number of rows we have here is so large that we should avoid too high of a subsample to prevent the operation from becoming prohibitively computationally expensive for the limited time we have to complete this project.)"
   ]
  },
  {
   "cell_type": "code",
   "execution_count": null,
   "metadata": {},
   "outputs": [],
   "source": [
    "quantile_transformer = pre.QuantileTransformer(n_quantiles=250000, subsample=250000, output_distribution='normal', random_state=RANDOM_STATE)"
   ]
  },
  {
   "cell_type": "code",
   "execution_count": null,
   "metadata": {},
   "outputs": [],
   "source": [
    "quantile_delay = quantile_transformer.fit_transform(flights['arr_delay'].to_numpy().reshape(-1, 1))"
   ]
  },
  {
   "cell_type": "code",
   "execution_count": null,
   "metadata": {},
   "outputs": [],
   "source": [
    "sns.displot(quantile_delay, kde=True)"
   ]
  },
  {
   "cell_type": "code",
   "execution_count": null,
   "metadata": {},
   "outputs": [],
   "source": [
    "st.normaltest(quantile_delay)"
   ]
  },
  {
   "cell_type": "markdown",
   "metadata": {},
   "source": [
    "#### Outlier inspection"
   ]
  },
  {
   "cell_type": "markdown",
   "metadata": {},
   "source": [
    "A quantile transformation on its own is insufficient to justify the assumption of normality using a reasonable subsample size. We should first deal with outliers. To do so we will compare them on the basis of z score to filter out values with exceedingly anomolous deviations from the mean."
   ]
  },
  {
   "cell_type": "code",
   "execution_count": null,
   "metadata": {},
   "outputs": [],
   "source": [
    "# Return only rows with flights where the z score of the arrival delay is within 3 standard deviations of the mean.\n",
    "flights_no_arrival_outliers = flights[(np.abs(st.zscore(flights['arr_delay'])) < 3)]"
   ]
  },
  {
   "cell_type": "markdown",
   "metadata": {},
   "source": [
    "Now let's check the lost data to ensure that we only eliminated outliers and not actual components of a trend in a wide distribution."
   ]
  },
  {
   "cell_type": "code",
   "execution_count": null,
   "metadata": {},
   "outputs": [],
   "source": [
    "percent_retained = flights_no_arrival_outliers.shape[0] / flights.shape[0] * 100\n",
    "observations_lost = flights.shape[0] - flights_no_arrival_outliers.shape[0]\n",
    "\n",
    "print(f'{observations_lost} \"outliers\" were eliminated, retaining {percent_retained} of the original DataFrame.')"
   ]
  },
  {
   "cell_type": "markdown",
   "metadata": {},
   "source": [
    "Less than 2% of the data were removed by the above operation. Let us test the assumption of normality again now. We should try to include as much data as possible while supporting the null hypothesis that out data was drawn from a normal distribution."
   ]
  },
  {
   "cell_type": "code",
   "execution_count": null,
   "metadata": {},
   "outputs": [],
   "source": [
    "st.normaltest(flights_no_arrival_outliers.arr_delay)"
   ]
  },
  {
   "cell_type": "markdown",
   "metadata": {},
   "source": [
    "It appears that the assumption of normality remains invalid. Let us check the distribution of the pruned DataFrame to get a better intuition for why this may be."
   ]
  },
  {
   "cell_type": "code",
   "execution_count": null,
   "metadata": {},
   "outputs": [],
   "source": [
    "sns.displot(flights_no_arrival_outliers.arr_delay, kde=True)"
   ]
  },
  {
   "cell_type": "code",
   "execution_count": null,
   "metadata": {},
   "outputs": [],
   "source": [
    "sns.boxplot(x=flights_no_arrival_outliers.arr_delay)"
   ]
  },
  {
   "cell_type": "markdown",
   "metadata": {},
   "source": [
    "The assumption of normality is most likely violated on the bases that:\n",
    "1) the right and left tails are asymmetric because more flights are delayed than are early.\n",
    "2) there are appreciable gaps in the sampled data.  \n",
    "\n",
    "Let us try applying a quantile transformation on the distribution with outliers removed and see if that helps."
   ]
  },
  {
   "cell_type": "code",
   "execution_count": null,
   "metadata": {},
   "outputs": [],
   "source": [
    "quantile_transformed_arrival_delay_no_outliers = quantile_transformer.fit_transform(\n",
    "    flights_no_arrival_outliers['arr_delay'].to_numpy().reshape(-1, 1))"
   ]
  },
  {
   "cell_type": "code",
   "execution_count": null,
   "metadata": {},
   "outputs": [],
   "source": [
    "sns.displot(quantile_transformed_arrival_delay_no_outliers)"
   ]
  },
  {
   "cell_type": "code",
   "execution_count": null,
   "metadata": {},
   "outputs": [],
   "source": [
    "sns.boxplot(x=quantile_transformed_arrival_delay_no_outliers)"
   ]
  },
  {
   "cell_type": "code",
   "execution_count": null,
   "metadata": {},
   "outputs": [],
   "source": [
    "st.normaltest(quantile_transformed_arrival_delay_no_outliers)"
   ]
  },
  {
   "cell_type": "markdown",
   "metadata": {},
   "source": [
    "It is clear that there is sufficent statistical evidence to reject the null hypothesis that the underlying distribution of the sample from the flights table is normally distributed when outliers are considered to be values 3 or more standard deviations from the mean; however, statistical tests that are robust with respect to the assumption of normality (such as the Student's t-test) may still be applicable."
   ]
  },
  {
   "cell_type": "code",
   "execution_count": null,
   "metadata": {},
   "outputs": [],
   "source": [
    "st.ttest_1samp(flights_no_arrival_outliers['arr_delay'], 0)"
   ]
  },
  {
   "cell_type": "code",
   "execution_count": null,
   "metadata": {},
   "outputs": [],
   "source": [
    "st.ttest_1samp(quantile_transformed_arrival_delay_no_outliers, 0)"
   ]
  },
  {
   "cell_type": "markdown",
   "metadata": {},
   "source": [
    "As we can see above, even using our quantile transformed data with outliers removed provides inadequate support for the null hypothesis that our data is drawn from a normal distribution centered around a mean of 0."
   ]
  },
  {
   "cell_type": "markdown",
   "metadata": {},
   "source": [
    "#### monthly comparison"
   ]
  },
  {
   "cell_type": "markdown",
   "metadata": {},
   "source": [
    "First, we need to establish a column for the month of the year, then we can compare mean and median arrival delays between months. I predict that winter months will have longer delays on average than warmer months because factors like de-icing planes, clearing runways, and visibility issues are likely to be prevalent during these months."
   ]
  },
  {
   "cell_type": "markdown",
   "metadata": {},
   "source": [
    "### 2) How do arrival delays differ throughout the year?<a id='task2'></a>"
   ]
  },
  {
   "cell_type": "markdown",
   "metadata": {},
   "source": [
    "#### monthly comparison"
   ]
  },
  {
   "cell_type": "markdown",
   "metadata": {},
   "source": [
    "First, we need to establish a column for the month of the year, then we can compare mean and median arrival delays between months. I predict that winter months will have longer delays on average than warmer months because factors like de-icing planes, clearing runways, and visibility issues are likely to be prevalent during these months."
   ]
  },
  {
   "cell_type": "code",
   "execution_count": null,
   "metadata": {},
   "outputs": [],
   "source": [
    "flights['flight_month'] = pd.DatetimeIndex(flights['fl_date']).month # save the month to its own column"
   ]
  },
  {
   "cell_type": "code",
   "execution_count": null,
   "metadata": {},
   "outputs": [
    {
     "data": {
      "text/html": [
       "<div>\n",
       "<style scoped>\n",
       "    .dataframe tbody tr th:only-of-type {\n",
       "        vertical-align: middle;\n",
       "    }\n",
       "\n",
       "    .dataframe tbody tr th {\n",
       "        vertical-align: top;\n",
       "    }\n",
       "\n",
       "    .dataframe thead tr th {\n",
       "        text-align: left;\n",
       "    }\n",
       "\n",
       "    .dataframe thead tr:last-of-type th {\n",
       "        text-align: right;\n",
       "    }\n",
       "</style>\n",
       "<table border=\"1\" class=\"dataframe\">\n",
       "  <thead>\n",
       "    <tr>\n",
       "      <th></th>\n",
       "      <th colspan=\"2\" halign=\"left\">arr_delay</th>\n",
       "      <th colspan=\"2\" halign=\"left\">dep_delay</th>\n",
       "    </tr>\n",
       "    <tr>\n",
       "      <th></th>\n",
       "      <th>mean</th>\n",
       "      <th>median</th>\n",
       "      <th>mean</th>\n",
       "      <th>median</th>\n",
       "    </tr>\n",
       "    <tr>\n",
       "      <th>flight_month</th>\n",
       "      <th></th>\n",
       "      <th></th>\n",
       "      <th></th>\n",
       "      <th></th>\n",
       "    </tr>\n",
       "  </thead>\n",
       "  <tbody>\n",
       "    <tr>\n",
       "      <th>1</th>\n",
       "      <td>3.923047</td>\n",
       "      <td>-7.0</td>\n",
       "      <td>9.769483</td>\n",
       "      <td>-3.0</td>\n",
       "    </tr>\n",
       "    <tr>\n",
       "      <th>2</th>\n",
       "      <td>6.693371</td>\n",
       "      <td>-6.0</td>\n",
       "      <td>11.603780</td>\n",
       "      <td>-2.0</td>\n",
       "    </tr>\n",
       "    <tr>\n",
       "      <th>3</th>\n",
       "      <td>2.902349</td>\n",
       "      <td>-7.0</td>\n",
       "      <td>8.409256</td>\n",
       "      <td>-2.0</td>\n",
       "    </tr>\n",
       "    <tr>\n",
       "      <th>4</th>\n",
       "      <td>4.071800</td>\n",
       "      <td>-7.0</td>\n",
       "      <td>9.264988</td>\n",
       "      <td>-3.0</td>\n",
       "    </tr>\n",
       "    <tr>\n",
       "      <th>5</th>\n",
       "      <td>6.448396</td>\n",
       "      <td>-6.0</td>\n",
       "      <td>11.205167</td>\n",
       "      <td>-2.0</td>\n",
       "    </tr>\n",
       "    <tr>\n",
       "      <th>6</th>\n",
       "      <td>10.562826</td>\n",
       "      <td>-4.0</td>\n",
       "      <td>14.698757</td>\n",
       "      <td>-1.0</td>\n",
       "    </tr>\n",
       "    <tr>\n",
       "      <th>7</th>\n",
       "      <td>8.871938</td>\n",
       "      <td>-5.0</td>\n",
       "      <td>13.661959</td>\n",
       "      <td>-2.0</td>\n",
       "    </tr>\n",
       "    <tr>\n",
       "      <th>8</th>\n",
       "      <td>8.883695</td>\n",
       "      <td>-5.0</td>\n",
       "      <td>13.198901</td>\n",
       "      <td>-2.0</td>\n",
       "    </tr>\n",
       "    <tr>\n",
       "      <th>9</th>\n",
       "      <td>1.694430</td>\n",
       "      <td>-8.0</td>\n",
       "      <td>6.941369</td>\n",
       "      <td>-3.0</td>\n",
       "    </tr>\n",
       "    <tr>\n",
       "      <th>10</th>\n",
       "      <td>2.810083</td>\n",
       "      <td>-6.0</td>\n",
       "      <td>7.441231</td>\n",
       "      <td>-3.0</td>\n",
       "    </tr>\n",
       "    <tr>\n",
       "      <th>11</th>\n",
       "      <td>3.071748</td>\n",
       "      <td>-7.0</td>\n",
       "      <td>8.201969</td>\n",
       "      <td>-3.0</td>\n",
       "    </tr>\n",
       "    <tr>\n",
       "      <th>12</th>\n",
       "      <td>5.087656</td>\n",
       "      <td>-6.0</td>\n",
       "      <td>10.785105</td>\n",
       "      <td>-2.0</td>\n",
       "    </tr>\n",
       "  </tbody>\n",
       "</table>\n",
       "</div>"
      ],
      "text/plain": [
       "              arr_delay         dep_delay       \n",
       "                   mean median       mean median\n",
       "flight_month                                    \n",
       "1              3.923047   -7.0   9.769483   -3.0\n",
       "2              6.693371   -6.0  11.603780   -2.0\n",
       "3              2.902349   -7.0   8.409256   -2.0\n",
       "4              4.071800   -7.0   9.264988   -3.0\n",
       "5              6.448396   -6.0  11.205167   -2.0\n",
       "6             10.562826   -4.0  14.698757   -1.0\n",
       "7              8.871938   -5.0  13.661959   -2.0\n",
       "8              8.883695   -5.0  13.198901   -2.0\n",
       "9              1.694430   -8.0   6.941369   -3.0\n",
       "10             2.810083   -6.0   7.441231   -3.0\n",
       "11             3.071748   -7.0   8.201969   -3.0\n",
       "12             5.087656   -6.0  10.785105   -2.0"
      ]
     },
     "metadata": {},
     "output_type": "display_data"
    }
   ],
   "source": [
    "monthly_average_delays = flights[['flight_month', 'arr_delay', 'dep_delay']].groupby('flight_month').agg(['mean', 'median'])\n",
    "monthly_average_delays"
   ]
  },
  {
   "cell_type": "code",
   "execution_count": null,
   "metadata": {},
   "outputs": [
    {
     "data": {
      "text/html": [
       "<div>\n",
       "<style scoped>\n",
       "    .dataframe tbody tr th:only-of-type {\n",
       "        vertical-align: middle;\n",
       "    }\n",
       "\n",
       "    .dataframe tbody tr th {\n",
       "        vertical-align: top;\n",
       "    }\n",
       "\n",
       "    .dataframe thead th {\n",
       "        text-align: right;\n",
       "    }\n",
       "</style>\n",
       "<table border=\"1\" class=\"dataframe\">\n",
       "  <thead>\n",
       "    <tr style=\"text-align: right;\">\n",
       "      <th></th>\n",
       "      <th>level_0</th>\n",
       "      <th>level_1</th>\n",
       "      <th>flight_month</th>\n",
       "      <th>0</th>\n",
       "    </tr>\n",
       "  </thead>\n",
       "  <tbody>\n",
       "    <tr>\n",
       "      <th>0</th>\n",
       "      <td>arr_delay</td>\n",
       "      <td>mean</td>\n",
       "      <td>1</td>\n",
       "      <td>3.923047</td>\n",
       "    </tr>\n",
       "    <tr>\n",
       "      <th>1</th>\n",
       "      <td>arr_delay</td>\n",
       "      <td>mean</td>\n",
       "      <td>2</td>\n",
       "      <td>6.693371</td>\n",
       "    </tr>\n",
       "    <tr>\n",
       "      <th>2</th>\n",
       "      <td>arr_delay</td>\n",
       "      <td>mean</td>\n",
       "      <td>3</td>\n",
       "      <td>2.902349</td>\n",
       "    </tr>\n",
       "    <tr>\n",
       "      <th>3</th>\n",
       "      <td>arr_delay</td>\n",
       "      <td>mean</td>\n",
       "      <td>4</td>\n",
       "      <td>4.071800</td>\n",
       "    </tr>\n",
       "    <tr>\n",
       "      <th>4</th>\n",
       "      <td>arr_delay</td>\n",
       "      <td>mean</td>\n",
       "      <td>5</td>\n",
       "      <td>6.448396</td>\n",
       "    </tr>\n",
       "  </tbody>\n",
       "</table>\n",
       "</div>"
      ],
      "text/plain": [
       "     level_0 level_1  flight_month         0\n",
       "0  arr_delay    mean             1  3.923047\n",
       "1  arr_delay    mean             2  6.693371\n",
       "2  arr_delay    mean             3  2.902349\n",
       "3  arr_delay    mean             4  4.071800\n",
       "4  arr_delay    mean             5  6.448396"
      ]
     },
     "metadata": {},
     "output_type": "display_data"
    }
   ],
   "source": [
    "# Remove multilevel column and row indices.\n",
    "monthly_average_delays = monthly_average_delays.unstack().reset_index()\n",
    "monthly_average_delays.head()"
   ]
  },
  {
   "cell_type": "code",
   "execution_count": null,
   "metadata": {},
   "outputs": [
    {
     "data": {
      "text/html": [
       "<div>\n",
       "<style scoped>\n",
       "    .dataframe tbody tr th:only-of-type {\n",
       "        vertical-align: middle;\n",
       "    }\n",
       "\n",
       "    .dataframe tbody tr th {\n",
       "        vertical-align: top;\n",
       "    }\n",
       "\n",
       "    .dataframe thead th {\n",
       "        text-align: right;\n",
       "    }\n",
       "</style>\n",
       "<table border=\"1\" class=\"dataframe\">\n",
       "  <thead>\n",
       "    <tr style=\"text-align: right;\">\n",
       "      <th></th>\n",
       "      <th>delay_type</th>\n",
       "      <th>metric</th>\n",
       "      <th>flight_month</th>\n",
       "      <th>delay (mins)</th>\n",
       "    </tr>\n",
       "  </thead>\n",
       "  <tbody>\n",
       "    <tr>\n",
       "      <th>0</th>\n",
       "      <td>arr_delay</td>\n",
       "      <td>mean</td>\n",
       "      <td>1</td>\n",
       "      <td>3.923047</td>\n",
       "    </tr>\n",
       "    <tr>\n",
       "      <th>1</th>\n",
       "      <td>arr_delay</td>\n",
       "      <td>mean</td>\n",
       "      <td>2</td>\n",
       "      <td>6.693371</td>\n",
       "    </tr>\n",
       "    <tr>\n",
       "      <th>2</th>\n",
       "      <td>arr_delay</td>\n",
       "      <td>mean</td>\n",
       "      <td>3</td>\n",
       "      <td>2.902349</td>\n",
       "    </tr>\n",
       "    <tr>\n",
       "      <th>3</th>\n",
       "      <td>arr_delay</td>\n",
       "      <td>mean</td>\n",
       "      <td>4</td>\n",
       "      <td>4.071800</td>\n",
       "    </tr>\n",
       "    <tr>\n",
       "      <th>4</th>\n",
       "      <td>arr_delay</td>\n",
       "      <td>mean</td>\n",
       "      <td>5</td>\n",
       "      <td>6.448396</td>\n",
       "    </tr>\n",
       "  </tbody>\n",
       "</table>\n",
       "</div>"
      ],
      "text/plain": [
       "  delay_type metric  flight_month  delay (mins)\n",
       "0  arr_delay   mean             1      3.923047\n",
       "1  arr_delay   mean             2      6.693371\n",
       "2  arr_delay   mean             3      2.902349\n",
       "3  arr_delay   mean             4      4.071800\n",
       "4  arr_delay   mean             5      6.448396"
      ]
     },
     "metadata": {},
     "output_type": "display_data"
    }
   ],
   "source": [
    "# Assign more meaningful column names.\n",
    "monthly_average_delays = monthly_average_delays.rename(columns={\n",
    "    'level_0': 'delay_type',\n",
    "    'level_1': 'metric',\n",
    "    0: 'delay (mins)',\n",
    "    })\n",
    "\n",
    "monthly_average_delays.head()"
   ]
  },
  {
   "cell_type": "code",
   "execution_count": null,
   "metadata": {},
   "outputs": [
    {
     "data": {
      "image/png": "[encoded data removed]",
      "text/plain": [
       "<Figure size 432x288 with 1 Axes>"
      ]
     },
     "metadata": {},
     "output_type": "display_data"
    }
   ],
   "source": [
    "sns.barplot(data=monthly_average_delays[monthly_average_delays.metric == 'mean'], x='flight_month', y='delay (mins)', hue='delay_type')\n",
    "plt.title('Mean flight delay')\n",
    "plt.tight_layout()"
   ]
  },
  {
   "cell_type": "code",
   "execution_count": null,
   "metadata": {},
   "outputs": [
    {
     "data": {
      "image/png": "[encoded data removed]",
      "text/plain": [
       "<Figure size 432x288 with 1 Axes>"
      ]
     },
     "metadata": {},
     "output_type": "display_data"
    }
   ],
   "source": [
    "sns.barplot(data=monthly_average_delays[monthly_average_delays.metric == 'median'], x='flight_month', y='delay (mins)', hue='delay_type')\n",
    "plt.title('Median flight delay')\n",
    "plt.tight_layout()"
   ]
  },
  {
   "cell_type": "markdown",
   "metadata": {},
   "source": [
    "Taken together, these figures reinforce the idea that many flights are not delayed (suggested by the median [i.e the midpoint of the flight delay observations accounting for 50% of the data]) and even arrive early. This observation is consistent with the statistics reported by the US Department of Transportation. Conversely, the higher mean delay values suggest that the low proportion of flights that are delayed substantially impact the average delay times, thus the median is a better measure of the central tendency of the distribution because it is not skewed by large outlying values, but the mean better captures the effect that long delays are having on flights monthly. Regardless of which metric is used, the departure delay is always greater than the arrival delay. This makes sense because most of the uncertainty regarding delays is encountered prior to departure.\n",
    "\n",
    "Interestingly, it would appear that my prediction was unsupported by the data, and it is the summer months that experience the highest periods of delay on average. There are two hypotheses that immediately come to mind to explain this divergence from my initial prediction. 1) Winter schedules are typically quite well managed by airlines insofar as they more rigorously adjust their schedules to account for weather related delays. 2) Commercial flights are more frequent in the summer months than in others, and schedulling more flights over a shorter time period creates more opportunity for unexpected circumstances to cause delays.\n",
    "\n",
    "The first hypothesis can be addressed by comparing the scheduled times of flights between the same origins and destinations in the winter vs. the summer. For hypothesis 1 to gain support, would predict longer scheduled flights than in summer months, and fewer flights scheduled during periods where inclement weather is forcasted. Hypothesis 2 can be addressed by inpecting the overall number of flights in each month and to also consider data regarding demand for flights (number of passengers, cargo, *etc*.).\n",
    "\n",
    "There are likely many more hypotheses one could test for here as well, but in the interest of time and scope, we will focus on the weather for the time being as we were recommended to explore that factor; however, it would be interesting to return to some of these other analyses if time permits."
   ]
  }
 ],
 "metadata": {
  "interpreter": {
   "hash": "8d6676aaa1277e38a8b007c79f4c02c0460f54b902bd054fa5584050907dc207"
  },
  "kernelspec": {
   "display_name": "Python 3.9.7 64-bit ('LHL': conda)",
   "language": "python",
   "name": "python3"
  },
  "language_info": {
   "codemirror_mode": {
    "name": "ipython",
    "version": 3
   },
   "file_extension": ".py",
   "mimetype": "text/x-python",
   "name": "python",
   "nbconvert_exporter": "python",
   "pygments_lexer": "ipython3",
   "version": "3.9.7"
  },
  "orig_nbformat": 4
 },
 "nbformat": 4,
 "nbformat_minor": 2
}
