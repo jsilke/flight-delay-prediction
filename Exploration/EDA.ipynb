{
 "cells": [
  {
   "cell_type": "markdown",
   "metadata": {},
   "source": [
    "# **Exploratory Data Analysis**\n",
    "---"
   ]
  },
  {
   "cell_type": "code",
   "execution_count": 1,
   "metadata": {},
   "outputs": [],
   "source": [
    "import numpy as np\n",
    "import pandas as pd\n",
    "import matplotlib.pyplot as plt\n",
    "import seaborn as sns\n",
    "\n",
    "plt.style.use('dark_background')"
   ]
  },
  {
   "cell_type": "markdown",
   "metadata": {},
   "source": [
    "## **1) Core Objectives**\n",
    "---"
   ]
  },
  {
   "cell_type": "markdown",
   "metadata": {},
   "source": [
    "### Overview:"
   ]
  },
  {
   "cell_type": "markdown",
   "metadata": {},
   "source": [
    "Our primary objective with this exploratory analysis is to identify the features in our data that best represent our understanding of the [root causes of flight delays](../Research/flight_delay_reasons.md) and in so doing, provide the basis for the **accurate** and **reliable** prediction of commercial flight delays. We aim to develop a sense for how well our feature space captures common flight delay reasons in order to determine which features to select, which additional data to gather, and which features should be re-engineered or excluded."
   ]
  },
  {
   "cell_type": "markdown",
   "metadata": {},
   "source": [
    "### [Suggested Considerations](https://github.com/lighthouse-labs/mid-term-project-I/blob/master/exploratory_analysis.ipynb):"
   ]
  },
  {
   "cell_type": "markdown",
   "metadata": {},
   "source": [
    "- Test the hypothesis that the delay is from Normal distribution and that mean of the delay is 0. Be careful about the outliers.\n",
    "- Is average/median monthly delay different during the year? If so, which months have the biggest delays and what could be the reason?\n",
    "- Does the weather affect the delay?\n",
    "- How are taxi times changing during the day? Does higher traffic lead to longer taxi times?\n",
    "- What is the average percentage of delays that exist prior to departure (*i.e.* are arrival delays caused by departure delays)? Are airlines able to lower the delay during the flights?\n",
    "- How many states cover 50% of US air traffic?\n",
    "- Test the hypothesis that planes fly faster when there is a departure delay.\n",
    "- When (which hour) do most 'LONG', 'SHORT', 'MEDIUM' haul flights take off?\n",
    "- Find the top 10 the bussiest airports. Does the greatest number of flights mean that the majority of passengers went through a given airport? How much traffic do these 10 airports cover?\n",
    "- Do bigger delays lead to bigger fuel consumption per passenger?"
   ]
  },
  {
   "cell_type": "markdown",
   "metadata": {},
   "source": [
    "## **2) Data Cleaning**\n",
    "---"
   ]
  },
  {
   "cell_type": "markdown",
   "metadata": {},
   "source": [
    "### **flights** ([sample](../Scripts/sampling.sql)) & **flights_test**"
   ]
  },
  {
   "cell_type": "markdown",
   "metadata": {},
   "source": [
    "#### Overview:"
   ]
  },
  {
   "cell_type": "markdown",
   "metadata": {},
   "source": [
    "##### **flights** sample"
   ]
  },
  {
   "cell_type": "code",
   "execution_count": 2,
   "metadata": {},
   "outputs": [
    {
     "name": "stderr",
     "output_type": "stream",
     "text": [
      "M:\\Anaconda\\envs\\LHL\\lib\\site-packages\\IPython\\core\\interactiveshell.py:3444: DtypeWarning: Columns (25) have mixed types.Specify dtype option on import or set low_memory=False.\n",
      "  exec(code_obj, self.user_global_ns, self.user_ns)\n"
     ]
    },
    {
     "data": {
      "text/html": [
       "<div>\n",
       "<style scoped>\n",
       "    .dataframe tbody tr th:only-of-type {\n",
       "        vertical-align: middle;\n",
       "    }\n",
       "\n",
       "    .dataframe tbody tr th {\n",
       "        vertical-align: top;\n",
       "    }\n",
       "\n",
       "    .dataframe thead th {\n",
       "        text-align: right;\n",
       "    }\n",
       "</style>\n",
       "<table border=\"1\" class=\"dataframe\">\n",
       "  <thead>\n",
       "    <tr style=\"text-align: right;\">\n",
       "      <th></th>\n",
       "      <th>fl_date</th>\n",
       "      <th>mkt_unique_carrier</th>\n",
       "      <th>branded_code_share</th>\n",
       "      <th>mkt_carrier</th>\n",
       "      <th>mkt_carrier_fl_num</th>\n",
       "      <th>op_unique_carrier</th>\n",
       "      <th>tail_num</th>\n",
       "      <th>op_carrier_fl_num</th>\n",
       "      <th>origin_airport_id</th>\n",
       "      <th>origin</th>\n",
       "      <th>...</th>\n",
       "      <th>distance</th>\n",
       "      <th>carrier_delay</th>\n",
       "      <th>weather_delay</th>\n",
       "      <th>nas_delay</th>\n",
       "      <th>security_delay</th>\n",
       "      <th>late_aircraft_delay</th>\n",
       "      <th>first_dep_time</th>\n",
       "      <th>total_add_gtime</th>\n",
       "      <th>longest_add_gtime</th>\n",
       "      <th>no_name</th>\n",
       "    </tr>\n",
       "  </thead>\n",
       "  <tbody>\n",
       "    <tr>\n",
       "      <th>0</th>\n",
       "      <td>2019-05-19</td>\n",
       "      <td>UA</td>\n",
       "      <td>UA_CODESHARE</td>\n",
       "      <td>UA</td>\n",
       "      <td>4264</td>\n",
       "      <td>EV</td>\n",
       "      <td>N48901</td>\n",
       "      <td>4264</td>\n",
       "      <td>12266</td>\n",
       "      <td>IAH</td>\n",
       "      <td>...</td>\n",
       "      <td>127</td>\n",
       "      <td>NaN</td>\n",
       "      <td>NaN</td>\n",
       "      <td>NaN</td>\n",
       "      <td>NaN</td>\n",
       "      <td>NaN</td>\n",
       "      <td>NaN</td>\n",
       "      <td>NaN</td>\n",
       "      <td>NaN</td>\n",
       "      <td>NaN</td>\n",
       "    </tr>\n",
       "    <tr>\n",
       "      <th>1</th>\n",
       "      <td>2019-05-19</td>\n",
       "      <td>UA</td>\n",
       "      <td>UA_CODESHARE</td>\n",
       "      <td>UA</td>\n",
       "      <td>4266</td>\n",
       "      <td>EV</td>\n",
       "      <td>N12540</td>\n",
       "      <td>4266</td>\n",
       "      <td>13244</td>\n",
       "      <td>MEM</td>\n",
       "      <td>...</td>\n",
       "      <td>468</td>\n",
       "      <td>NaN</td>\n",
       "      <td>NaN</td>\n",
       "      <td>NaN</td>\n",
       "      <td>NaN</td>\n",
       "      <td>NaN</td>\n",
       "      <td>NaN</td>\n",
       "      <td>NaN</td>\n",
       "      <td>NaN</td>\n",
       "      <td>NaN</td>\n",
       "    </tr>\n",
       "    <tr>\n",
       "      <th>2</th>\n",
       "      <td>2019-05-19</td>\n",
       "      <td>UA</td>\n",
       "      <td>UA_CODESHARE</td>\n",
       "      <td>UA</td>\n",
       "      <td>4272</td>\n",
       "      <td>EV</td>\n",
       "      <td>N11164</td>\n",
       "      <td>4272</td>\n",
       "      <td>12266</td>\n",
       "      <td>IAH</td>\n",
       "      <td>...</td>\n",
       "      <td>1091</td>\n",
       "      <td>NaN</td>\n",
       "      <td>NaN</td>\n",
       "      <td>NaN</td>\n",
       "      <td>NaN</td>\n",
       "      <td>NaN</td>\n",
       "      <td>NaN</td>\n",
       "      <td>NaN</td>\n",
       "      <td>NaN</td>\n",
       "      <td>NaN</td>\n",
       "    </tr>\n",
       "    <tr>\n",
       "      <th>3</th>\n",
       "      <td>2019-05-19</td>\n",
       "      <td>UA</td>\n",
       "      <td>UA_CODESHARE</td>\n",
       "      <td>UA</td>\n",
       "      <td>4281</td>\n",
       "      <td>EV</td>\n",
       "      <td>N13995</td>\n",
       "      <td>4281</td>\n",
       "      <td>11042</td>\n",
       "      <td>CLE</td>\n",
       "      <td>...</td>\n",
       "      <td>310</td>\n",
       "      <td>NaN</td>\n",
       "      <td>NaN</td>\n",
       "      <td>NaN</td>\n",
       "      <td>NaN</td>\n",
       "      <td>NaN</td>\n",
       "      <td>NaN</td>\n",
       "      <td>NaN</td>\n",
       "      <td>NaN</td>\n",
       "      <td>NaN</td>\n",
       "    </tr>\n",
       "    <tr>\n",
       "      <th>4</th>\n",
       "      <td>2019-05-19</td>\n",
       "      <td>UA</td>\n",
       "      <td>UA_CODESHARE</td>\n",
       "      <td>UA</td>\n",
       "      <td>4286</td>\n",
       "      <td>EV</td>\n",
       "      <td>N13903</td>\n",
       "      <td>4286</td>\n",
       "      <td>13061</td>\n",
       "      <td>LRD</td>\n",
       "      <td>...</td>\n",
       "      <td>301</td>\n",
       "      <td>NaN</td>\n",
       "      <td>NaN</td>\n",
       "      <td>NaN</td>\n",
       "      <td>NaN</td>\n",
       "      <td>NaN</td>\n",
       "      <td>NaN</td>\n",
       "      <td>NaN</td>\n",
       "      <td>NaN</td>\n",
       "      <td>NaN</td>\n",
       "    </tr>\n",
       "  </tbody>\n",
       "</table>\n",
       "<p>5 rows × 42 columns</p>\n",
       "</div>"
      ],
      "text/plain": [
       "      fl_date mkt_unique_carrier branded_code_share mkt_carrier  \\\n",
       "0  2019-05-19                 UA       UA_CODESHARE          UA   \n",
       "1  2019-05-19                 UA       UA_CODESHARE          UA   \n",
       "2  2019-05-19                 UA       UA_CODESHARE          UA   \n",
       "3  2019-05-19                 UA       UA_CODESHARE          UA   \n",
       "4  2019-05-19                 UA       UA_CODESHARE          UA   \n",
       "\n",
       "   mkt_carrier_fl_num op_unique_carrier tail_num  op_carrier_fl_num  \\\n",
       "0                4264                EV   N48901               4264   \n",
       "1                4266                EV   N12540               4266   \n",
       "2                4272                EV   N11164               4272   \n",
       "3                4281                EV   N13995               4281   \n",
       "4                4286                EV   N13903               4286   \n",
       "\n",
       "   origin_airport_id origin  ... distance  carrier_delay weather_delay  \\\n",
       "0              12266    IAH  ...      127            NaN           NaN   \n",
       "1              13244    MEM  ...      468            NaN           NaN   \n",
       "2              12266    IAH  ...     1091            NaN           NaN   \n",
       "3              11042    CLE  ...      310            NaN           NaN   \n",
       "4              13061    LRD  ...      301            NaN           NaN   \n",
       "\n",
       "  nas_delay  security_delay  late_aircraft_delay  first_dep_time  \\\n",
       "0       NaN             NaN                  NaN             NaN   \n",
       "1       NaN             NaN                  NaN             NaN   \n",
       "2       NaN             NaN                  NaN             NaN   \n",
       "3       NaN             NaN                  NaN             NaN   \n",
       "4       NaN             NaN                  NaN             NaN   \n",
       "\n",
       "   total_add_gtime  longest_add_gtime  no_name  \n",
       "0              NaN                NaN      NaN  \n",
       "1              NaN                NaN      NaN  \n",
       "2              NaN                NaN      NaN  \n",
       "3              NaN                NaN      NaN  \n",
       "4              NaN                NaN      NaN  \n",
       "\n",
       "[5 rows x 42 columns]"
      ]
     },
     "execution_count": 2,
     "metadata": {},
     "output_type": "execute_result"
    }
   ],
   "source": [
    "flights = pd.read_csv('../Data/files/flights_sample.csv')\n",
    "flights.head()"
   ]
  },
  {
   "cell_type": "code",
   "execution_count": 3,
   "metadata": {},
   "outputs": [
    {
     "name": "stdout",
     "output_type": "stream",
     "text": [
      "<class 'pandas.core.frame.DataFrame'>\n",
      "RangeIndex: 2387955 entries, 0 to 2387954\n",
      "Data columns (total 42 columns):\n",
      " #   Column               Dtype  \n",
      "---  ------               -----  \n",
      " 0   fl_date              object \n",
      " 1   mkt_unique_carrier   object \n",
      " 2   branded_code_share   object \n",
      " 3   mkt_carrier          object \n",
      " 4   mkt_carrier_fl_num   int64  \n",
      " 5   op_unique_carrier    object \n",
      " 6   tail_num             object \n",
      " 7   op_carrier_fl_num    int64  \n",
      " 8   origin_airport_id    int64  \n",
      " 9   origin               object \n",
      " 10  origin_city_name     object \n",
      " 11  dest_airport_id      int64  \n",
      " 12  dest                 object \n",
      " 13  dest_city_name       object \n",
      " 14  crs_dep_time         int64  \n",
      " 15  dep_time             float64\n",
      " 16  dep_delay            float64\n",
      " 17  taxi_out             float64\n",
      " 18  wheels_off           float64\n",
      " 19  wheels_on            float64\n",
      " 20  taxi_in              float64\n",
      " 21  crs_arr_time         int64  \n",
      " 22  arr_time             float64\n",
      " 23  arr_delay            float64\n",
      " 24  cancelled            int64  \n",
      " 25  cancellation_code    object \n",
      " 26  diverted             int64  \n",
      " 27  dup                  object \n",
      " 28  crs_elapsed_time     float64\n",
      " 29  actual_elapsed_time  float64\n",
      " 30  air_time             float64\n",
      " 31  flights              int64  \n",
      " 32  distance             int64  \n",
      " 33  carrier_delay        float64\n",
      " 34  weather_delay        float64\n",
      " 35  nas_delay            float64\n",
      " 36  security_delay       float64\n",
      " 37  late_aircraft_delay  float64\n",
      " 38  first_dep_time       float64\n",
      " 39  total_add_gtime      float64\n",
      " 40  longest_add_gtime    float64\n",
      " 41  no_name              float64\n",
      "dtypes: float64(20), int64(10), object(12)\n",
      "memory usage: 765.2+ MB\n"
     ]
    }
   ],
   "source": [
    "flights.info()"
   ]
  },
  {
   "cell_type": "markdown",
   "metadata": {},
   "source": [
    "##### **flights_test**"
   ]
  },
  {
   "cell_type": "code",
   "execution_count": 4,
   "metadata": {},
   "outputs": [
    {
     "data": {
      "text/html": [
       "<div>\n",
       "<style scoped>\n",
       "    .dataframe tbody tr th:only-of-type {\n",
       "        vertical-align: middle;\n",
       "    }\n",
       "\n",
       "    .dataframe tbody tr th {\n",
       "        vertical-align: top;\n",
       "    }\n",
       "\n",
       "    .dataframe thead th {\n",
       "        text-align: right;\n",
       "    }\n",
       "</style>\n",
       "<table border=\"1\" class=\"dataframe\">\n",
       "  <thead>\n",
       "    <tr style=\"text-align: right;\">\n",
       "      <th></th>\n",
       "      <th>fl_date</th>\n",
       "      <th>mkt_unique_carrier</th>\n",
       "      <th>branded_code_share</th>\n",
       "      <th>mkt_carrier</th>\n",
       "      <th>mkt_carrier_fl_num</th>\n",
       "      <th>op_unique_carrier</th>\n",
       "      <th>tail_num</th>\n",
       "      <th>op_carrier_fl_num</th>\n",
       "      <th>origin_airport_id</th>\n",
       "      <th>origin</th>\n",
       "      <th>origin_city_name</th>\n",
       "      <th>dest_airport_id</th>\n",
       "      <th>dest</th>\n",
       "      <th>dest_city_name</th>\n",
       "      <th>crs_dep_time</th>\n",
       "      <th>crs_arr_time</th>\n",
       "      <th>dup</th>\n",
       "      <th>crs_elapsed_time</th>\n",
       "      <th>flights</th>\n",
       "      <th>distance</th>\n",
       "    </tr>\n",
       "  </thead>\n",
       "  <tbody>\n",
       "    <tr>\n",
       "      <th>0</th>\n",
       "      <td>2020-01-01 00:00:00</td>\n",
       "      <td>WN</td>\n",
       "      <td>WN</td>\n",
       "      <td>WN</td>\n",
       "      <td>5888</td>\n",
       "      <td>WN</td>\n",
       "      <td>N951WN</td>\n",
       "      <td>5888</td>\n",
       "      <td>13891</td>\n",
       "      <td>ONT</td>\n",
       "      <td>Ontario, CA</td>\n",
       "      <td>14771</td>\n",
       "      <td>SFO</td>\n",
       "      <td>San Francisco, CA</td>\n",
       "      <td>1810</td>\n",
       "      <td>1945</td>\n",
       "      <td>N</td>\n",
       "      <td>95</td>\n",
       "      <td>1</td>\n",
       "      <td>363</td>\n",
       "    </tr>\n",
       "    <tr>\n",
       "      <th>1</th>\n",
       "      <td>2020-01-01 00:00:00</td>\n",
       "      <td>WN</td>\n",
       "      <td>WN</td>\n",
       "      <td>WN</td>\n",
       "      <td>6276</td>\n",
       "      <td>WN</td>\n",
       "      <td>N467WN</td>\n",
       "      <td>6276</td>\n",
       "      <td>13891</td>\n",
       "      <td>ONT</td>\n",
       "      <td>Ontario, CA</td>\n",
       "      <td>14771</td>\n",
       "      <td>SFO</td>\n",
       "      <td>San Francisco, CA</td>\n",
       "      <td>1150</td>\n",
       "      <td>1320</td>\n",
       "      <td>N</td>\n",
       "      <td>90</td>\n",
       "      <td>1</td>\n",
       "      <td>363</td>\n",
       "    </tr>\n",
       "    <tr>\n",
       "      <th>2</th>\n",
       "      <td>2020-01-01 00:00:00</td>\n",
       "      <td>WN</td>\n",
       "      <td>WN</td>\n",
       "      <td>WN</td>\n",
       "      <td>4598</td>\n",
       "      <td>WN</td>\n",
       "      <td>N7885A</td>\n",
       "      <td>4598</td>\n",
       "      <td>13891</td>\n",
       "      <td>ONT</td>\n",
       "      <td>Ontario, CA</td>\n",
       "      <td>14831</td>\n",
       "      <td>SJC</td>\n",
       "      <td>San Jose, CA</td>\n",
       "      <td>2020</td>\n",
       "      <td>2130</td>\n",
       "      <td>N</td>\n",
       "      <td>70</td>\n",
       "      <td>1</td>\n",
       "      <td>333</td>\n",
       "    </tr>\n",
       "    <tr>\n",
       "      <th>3</th>\n",
       "      <td>2020-01-01 00:00:00</td>\n",
       "      <td>WN</td>\n",
       "      <td>WN</td>\n",
       "      <td>WN</td>\n",
       "      <td>4761</td>\n",
       "      <td>WN</td>\n",
       "      <td>N551WN</td>\n",
       "      <td>4761</td>\n",
       "      <td>13891</td>\n",
       "      <td>ONT</td>\n",
       "      <td>Ontario, CA</td>\n",
       "      <td>14831</td>\n",
       "      <td>SJC</td>\n",
       "      <td>San Jose, CA</td>\n",
       "      <td>1340</td>\n",
       "      <td>1455</td>\n",
       "      <td>N</td>\n",
       "      <td>75</td>\n",
       "      <td>1</td>\n",
       "      <td>333</td>\n",
       "    </tr>\n",
       "    <tr>\n",
       "      <th>4</th>\n",
       "      <td>2020-01-01 00:00:00</td>\n",
       "      <td>WN</td>\n",
       "      <td>WN</td>\n",
       "      <td>WN</td>\n",
       "      <td>5162</td>\n",
       "      <td>WN</td>\n",
       "      <td>N968WN</td>\n",
       "      <td>5162</td>\n",
       "      <td>13891</td>\n",
       "      <td>ONT</td>\n",
       "      <td>Ontario, CA</td>\n",
       "      <td>14831</td>\n",
       "      <td>SJC</td>\n",
       "      <td>San Jose, CA</td>\n",
       "      <td>915</td>\n",
       "      <td>1035</td>\n",
       "      <td>N</td>\n",
       "      <td>80</td>\n",
       "      <td>1</td>\n",
       "      <td>333</td>\n",
       "    </tr>\n",
       "  </tbody>\n",
       "</table>\n",
       "</div>"
      ],
      "text/plain": [
       "               fl_date mkt_unique_carrier branded_code_share mkt_carrier  \\\n",
       "0  2020-01-01 00:00:00                 WN                 WN          WN   \n",
       "1  2020-01-01 00:00:00                 WN                 WN          WN   \n",
       "2  2020-01-01 00:00:00                 WN                 WN          WN   \n",
       "3  2020-01-01 00:00:00                 WN                 WN          WN   \n",
       "4  2020-01-01 00:00:00                 WN                 WN          WN   \n",
       "\n",
       "   mkt_carrier_fl_num op_unique_carrier tail_num  op_carrier_fl_num  \\\n",
       "0                5888                WN   N951WN               5888   \n",
       "1                6276                WN   N467WN               6276   \n",
       "2                4598                WN   N7885A               4598   \n",
       "3                4761                WN   N551WN               4761   \n",
       "4                5162                WN   N968WN               5162   \n",
       "\n",
       "   origin_airport_id origin origin_city_name  dest_airport_id dest  \\\n",
       "0              13891    ONT      Ontario, CA            14771  SFO   \n",
       "1              13891    ONT      Ontario, CA            14771  SFO   \n",
       "2              13891    ONT      Ontario, CA            14831  SJC   \n",
       "3              13891    ONT      Ontario, CA            14831  SJC   \n",
       "4              13891    ONT      Ontario, CA            14831  SJC   \n",
       "\n",
       "      dest_city_name  crs_dep_time  crs_arr_time dup  crs_elapsed_time  \\\n",
       "0  San Francisco, CA          1810          1945   N                95   \n",
       "1  San Francisco, CA          1150          1320   N                90   \n",
       "2       San Jose, CA          2020          2130   N                70   \n",
       "3       San Jose, CA          1340          1455   N                75   \n",
       "4       San Jose, CA           915          1035   N                80   \n",
       "\n",
       "   flights  distance  \n",
       "0        1       363  \n",
       "1        1       363  \n",
       "2        1       333  \n",
       "3        1       333  \n",
       "4        1       333  "
      ]
     },
     "execution_count": 4,
     "metadata": {},
     "output_type": "execute_result"
    }
   ],
   "source": [
    "flights_test = pd.read_csv('../Data/files/flights_test.csv')\n",
    "flights_test.head()"
   ]
  },
  {
   "cell_type": "code",
   "execution_count": 5,
   "metadata": {},
   "outputs": [
    {
     "name": "stdout",
     "output_type": "stream",
     "text": [
      "<class 'pandas.core.frame.DataFrame'>\n",
      "RangeIndex: 660556 entries, 0 to 660555\n",
      "Data columns (total 20 columns):\n",
      " #   Column              Non-Null Count   Dtype \n",
      "---  ------              --------------   ----- \n",
      " 0   fl_date             660556 non-null  object\n",
      " 1   mkt_unique_carrier  660556 non-null  object\n",
      " 2   branded_code_share  660556 non-null  object\n",
      " 3   mkt_carrier         660556 non-null  object\n",
      " 4   mkt_carrier_fl_num  660556 non-null  int64 \n",
      " 5   op_unique_carrier   660556 non-null  object\n",
      " 6   tail_num            659057 non-null  object\n",
      " 7   op_carrier_fl_num   660556 non-null  int64 \n",
      " 8   origin_airport_id   660556 non-null  int64 \n",
      " 9   origin              660556 non-null  object\n",
      " 10  origin_city_name    660556 non-null  object\n",
      " 11  dest_airport_id     660556 non-null  int64 \n",
      " 12  dest                660556 non-null  object\n",
      " 13  dest_city_name      660556 non-null  object\n",
      " 14  crs_dep_time        660556 non-null  int64 \n",
      " 15  crs_arr_time        660556 non-null  int64 \n",
      " 16  dup                 660556 non-null  object\n",
      " 17  crs_elapsed_time    660556 non-null  int64 \n",
      " 18  flights             660556 non-null  int64 \n",
      " 19  distance            660556 non-null  int64 \n",
      "dtypes: int64(9), object(11)\n",
      "memory usage: 100.8+ MB\n"
     ]
    }
   ],
   "source": [
    "flights_test.info()"
   ]
  },
  {
   "cell_type": "markdown",
   "metadata": {},
   "source": [
    "#### **flights** sample vs. **flights_test** feature space"
   ]
  },
  {
   "cell_type": "markdown",
   "metadata": {},
   "source": [
    "To establish the similarities and difference between the feature spaces of **flights** and **flights_test** rather quickly, we can leverage sets to find the intersection and symmetric difference of their features."
   ]
  },
  {
   "cell_type": "code",
   "execution_count": 6,
   "metadata": {},
   "outputs": [],
   "source": [
    "flights_initial_features = set(flights.columns)\n",
    "flights_test_initial_features = set(flights_test.columns)\n",
    "\n",
    "common_initial_features = flights_initial_features.intersection(flights_test_initial_features)\n",
    "exclusive_initial_features = flights_initial_features.symmetric_difference(flights_test_initial_features)"
   ]
  },
  {
   "cell_type": "markdown",
   "metadata": {},
   "source": [
    "Let us check if the flights_test feature space is entirely a subset of flights."
   ]
  },
  {
   "cell_type": "code",
   "execution_count": 7,
   "metadata": {},
   "outputs": [
    {
     "name": "stdout",
     "output_type": "stream",
     "text": [
      "True\n",
      "20\n"
     ]
    }
   ],
   "source": [
    "print(\n",
    "    len(common_initial_features) == len(flights_test_initial_features), \n",
    "    len(flights_test_initial_features),\n",
    "    sep=\"\\n\",\n",
    "    )"
   ]
  },
  {
   "cell_type": "markdown",
   "metadata": {},
   "source": [
    "This confirms that the feature space of flights_test is a subset of flights (which is expected given its [description](../Data/descriptions/flights_test_description.md)). Now let us check which additional features we have in the **flights** table."
   ]
  },
  {
   "cell_type": "code",
   "execution_count": 8,
   "metadata": {},
   "outputs": [
    {
     "name": "stdout",
     "output_type": "stream",
     "text": [
      "Features exclusive to flights:\n",
      "\n",
      "late_aircraft_delay\n",
      "first_dep_time\n",
      "wheels_off\n",
      "dep_delay\n",
      "no_name\n",
      "carrier_delay\n",
      "diverted\n",
      "cancellation_code\n",
      "actual_elapsed_time\n",
      "nas_delay\n",
      "air_time\n",
      "security_delay\n",
      "arr_time\n",
      "wheels_on\n",
      "total_add_gtime\n",
      "dep_time\n",
      "taxi_out\n",
      "arr_delay\n",
      "cancelled\n",
      "longest_add_gtime\n",
      "weather_delay\n",
      "taxi_in\n",
      "\n",
      "Number of features exclusive to flights: 22\n"
     ]
    }
   ],
   "source": [
    "print('Features exclusive to flights:\\n')\n",
    "for feature in exclusive_initial_features:\n",
    "    print(feature)\n",
    "\n",
    "print(f'\\nNumber of features exclusive to flights: {len(exclusive_initial_features)}')"
   ]
  },
  {
   "cell_type": "markdown",
   "metadata": {},
   "source": [
    "All of these features exclusive to **flights** are those that we can only know once the plane has already arrived (excluding `no_name`). Therefore, any useful features as part of this set would need to be predicted in order to make an inference about future flight delays."
   ]
  },
  {
   "cell_type": "markdown",
   "metadata": {},
   "source": [
    "#### Missing data investigation:"
   ]
  },
  {
   "cell_type": "markdown",
   "metadata": {},
   "source": [
    "Preview missing data percentages for features with null values."
   ]
  },
  {
   "cell_type": "code",
   "execution_count": 9,
   "metadata": {},
   "outputs": [
    {
     "data": {
      "text/plain": [
       "tail_num                 0.304947\n",
       "dep_time                 1.616865\n",
       "dep_delay                1.647979\n",
       "taxi_out                 1.707151\n",
       "wheels_off               1.707151\n",
       "wheels_on                1.754681\n",
       "taxi_in                  1.754681\n",
       "arr_time                 1.718165\n",
       "arr_delay                1.944132\n",
       "cancellation_code       98.317305\n",
       "crs_elapsed_time         0.000168\n",
       "actual_elapsed_time      1.927172\n",
       "air_time                 1.963605\n",
       "carrier_delay           81.124770\n",
       "weather_delay           81.124770\n",
       "nas_delay               81.124770\n",
       "security_delay          81.124770\n",
       "late_aircraft_delay     81.124770\n",
       "first_dep_time          99.313597\n",
       "total_add_gtime         99.313722\n",
       "longest_add_gtime       99.313681\n",
       "no_name                100.000000\n",
       "dtype: float64"
      ]
     },
     "execution_count": 9,
     "metadata": {},
     "output_type": "execute_result"
    }
   ],
   "source": [
    "flights_missing_values = flights.isna().sum() > 0\n",
    "flights_missing_value_percentage = flights.isna().sum() / flights.shape[0] * 100\n",
    "\n",
    "flights_missing_value_percentage[flights_missing_values]"
   ]
  },
  {
   "cell_type": "code",
   "execution_count": 10,
   "metadata": {},
   "outputs": [
    {
     "data": {
      "text/plain": [
       "tail_num    0.062773\n",
       "dtype: float64"
      ]
     },
     "execution_count": 10,
     "metadata": {},
     "output_type": "execute_result"
    }
   ],
   "source": [
    "flights_test_missing_values = flights_test.isna().sum() > 0\n",
    "flights_test_missing_value_percentage = flights_test.isna().sum() / flights.shape[0] * 100\n",
    "\n",
    "flights_test_missing_value_percentage[flights_test_missing_values]"
   ]
  },
  {
   "cell_type": "markdown",
   "metadata": {},
   "source": [
    "##### Empty rows"
   ]
  },
  {
   "cell_type": "markdown",
   "metadata": {},
   "source": [
    "We will start by ensuring that empty rows are discarded as they offer no information."
   ]
  },
  {
   "cell_type": "code",
   "execution_count": 11,
   "metadata": {},
   "outputs": [],
   "source": [
    "flights = flights.dropna(how='all')\n",
    "flights_test = flights_test.dropna(how='all')"
   ]
  },
  {
   "cell_type": "markdown",
   "metadata": {},
   "source": [
    "##### `no_name`"
   ]
  },
  {
   "cell_type": "markdown",
   "metadata": {},
   "source": [
    "no_name is completely blank, so we can drop it with absolutely no information loss."
   ]
  },
  {
   "cell_type": "code",
   "execution_count": 12,
   "metadata": {},
   "outputs": [],
   "source": [
    "flights = flights.drop('no_name', axis=1)"
   ]
  },
  {
   "cell_type": "markdown",
   "metadata": {},
   "source": [
    "##### `cancellation_code`"
   ]
  },
  {
   "cell_type": "code",
   "execution_count": 13,
   "metadata": {},
   "outputs": [
    {
     "data": {
      "text/plain": [
       "array([nan, 'A', 'C', 'B', 'D'], dtype=object)"
      ]
     },
     "execution_count": 13,
     "metadata": {},
     "output_type": "execute_result"
    }
   ],
   "source": [
    "flights.cancellation_code.unique()"
   ]
  },
  {
   "cell_type": "markdown",
   "metadata": {},
   "source": [
    "It may be worthwhile to investigate the `cancellation_code` feature further, but the missing proportion here should correspond with the `cancelled` feature assuming that codes are only present for cancelled flights (as suggested in the flights description). In other words, most data in this column is ***structually missing*** (i.e. missing because most flights were not cancelled)."
   ]
  },
  {
   "cell_type": "code",
   "execution_count": 14,
   "metadata": {},
   "outputs": [
    {
     "data": {
      "text/plain": [
       "0    98.317305\n",
       "1     1.682695\n",
       "Name: cancelled, dtype: float64"
      ]
     },
     "execution_count": 14,
     "metadata": {},
     "output_type": "execute_result"
    }
   ],
   "source": [
    "flights['cancelled'].value_counts()/flights.shape[0] * 100"
   ]
  },
  {
   "cell_type": "markdown",
   "metadata": {},
   "source": [
    "The percentages support the structurally missing data hypothesis, but let us confirm by inspecting the relevant subset more rigorously."
   ]
  },
  {
   "cell_type": "code",
   "execution_count": 15,
   "metadata": {},
   "outputs": [
    {
     "data": {
      "text/plain": [
       "array(['A', 'C', 'B', 'D'], dtype=object)"
      ]
     },
     "execution_count": 15,
     "metadata": {},
     "output_type": "execute_result"
    }
   ],
   "source": [
    "flights[flights.cancelled > 0]['cancellation_code'].unique()"
   ]
  },
  {
   "cell_type": "code",
   "execution_count": 16,
   "metadata": {},
   "outputs": [
    {
     "data": {
      "text/plain": [
       "array([nan], dtype=object)"
      ]
     },
     "execution_count": 16,
     "metadata": {},
     "output_type": "execute_result"
    }
   ],
   "source": [
    "flights[flights.cancelled == 0]['cancellation_code'].unique()"
   ]
  },
  {
   "cell_type": "markdown",
   "metadata": {},
   "source": [
    "We have the most support that we can obtain from the data for the structurally missing hypothesis with respect to `cancellation_code`! It remains possible that human errors (e.g. data entry) are present but obscured in this table."
   ]
  },
  {
   "cell_type": "code",
   "execution_count": 17,
   "metadata": {},
   "outputs": [
    {
     "data": {
      "text/plain": [
       "float"
      ]
     },
     "execution_count": 17,
     "metadata": {},
     "output_type": "execute_result"
    }
   ],
   "source": [
    "type(flights['cancellation_code'].unique()[0]) # nan is of type float in this case."
   ]
  },
  {
   "cell_type": "code",
   "execution_count": 18,
   "metadata": {},
   "outputs": [
    {
     "data": {
      "text/plain": [
       "array(['none', 'A', 'C', 'B', 'D'], dtype=object)"
      ]
     },
     "execution_count": 18,
     "metadata": {},
     "output_type": "execute_result"
    }
   ],
   "source": [
    "# Replace the missing value for now so that we do not consider the column further.\n",
    "flights['cancellation_code'] = flights['cancellation_code'].apply(lambda code: 'none' if (isinstance(code, float)) else code)\n",
    "flights['cancellation_code'].unique()"
   ]
  },
  {
   "cell_type": "markdown",
   "metadata": {},
   "source": [
    "##### '`_delay`' columns"
   ]
  },
  {
   "cell_type": "markdown",
   "metadata": {},
   "source": [
    "All of the delay columns have identical percentages of missing data in **flights** (none are present in **flights_test**). Here we will test the hypothesis that the missing rows for all of these columns are the same. Resultantly, we predict that missing data will be consistent between rows for these features. This may suggest that these data are also ***structurally missing***.  \n",
    "\n",
    "This may mean that any time a flight is delayed, all delay columns are assigned a baseline value of 0 (as opposed to NaN) and this baseline is incremented appropriately according to the class of delay."
   ]
  },
  {
   "cell_type": "code",
   "execution_count": 19,
   "metadata": {},
   "outputs": [
    {
     "data": {
      "text/html": [
       "<div>\n",
       "<style scoped>\n",
       "    .dataframe tbody tr th:only-of-type {\n",
       "        vertical-align: middle;\n",
       "    }\n",
       "\n",
       "    .dataframe tbody tr th {\n",
       "        vertical-align: top;\n",
       "    }\n",
       "\n",
       "    .dataframe thead th {\n",
       "        text-align: right;\n",
       "    }\n",
       "</style>\n",
       "<table border=\"1\" class=\"dataframe\">\n",
       "  <thead>\n",
       "    <tr style=\"text-align: right;\">\n",
       "      <th></th>\n",
       "      <th>carrier_delay</th>\n",
       "      <th>weather_delay</th>\n",
       "      <th>nas_delay</th>\n",
       "      <th>security_delay</th>\n",
       "      <th>late_aircraft_delay</th>\n",
       "    </tr>\n",
       "  </thead>\n",
       "  <tbody>\n",
       "    <tr>\n",
       "      <th>0</th>\n",
       "      <td>NaN</td>\n",
       "      <td>NaN</td>\n",
       "      <td>NaN</td>\n",
       "      <td>NaN</td>\n",
       "      <td>NaN</td>\n",
       "    </tr>\n",
       "    <tr>\n",
       "      <th>1</th>\n",
       "      <td>NaN</td>\n",
       "      <td>NaN</td>\n",
       "      <td>NaN</td>\n",
       "      <td>NaN</td>\n",
       "      <td>NaN</td>\n",
       "    </tr>\n",
       "    <tr>\n",
       "      <th>2</th>\n",
       "      <td>NaN</td>\n",
       "      <td>NaN</td>\n",
       "      <td>NaN</td>\n",
       "      <td>NaN</td>\n",
       "      <td>NaN</td>\n",
       "    </tr>\n",
       "    <tr>\n",
       "      <th>3</th>\n",
       "      <td>NaN</td>\n",
       "      <td>NaN</td>\n",
       "      <td>NaN</td>\n",
       "      <td>NaN</td>\n",
       "      <td>NaN</td>\n",
       "    </tr>\n",
       "    <tr>\n",
       "      <th>4</th>\n",
       "      <td>NaN</td>\n",
       "      <td>NaN</td>\n",
       "      <td>NaN</td>\n",
       "      <td>NaN</td>\n",
       "      <td>NaN</td>\n",
       "    </tr>\n",
       "  </tbody>\n",
       "</table>\n",
       "</div>"
      ],
      "text/plain": [
       "   carrier_delay  weather_delay  nas_delay  security_delay  \\\n",
       "0            NaN            NaN        NaN             NaN   \n",
       "1            NaN            NaN        NaN             NaN   \n",
       "2            NaN            NaN        NaN             NaN   \n",
       "3            NaN            NaN        NaN             NaN   \n",
       "4            NaN            NaN        NaN             NaN   \n",
       "\n",
       "   late_aircraft_delay  \n",
       "0                  NaN  \n",
       "1                  NaN  \n",
       "2                  NaN  \n",
       "3                  NaN  \n",
       "4                  NaN  "
      ]
     },
     "execution_count": 19,
     "metadata": {},
     "output_type": "execute_result"
    }
   ],
   "source": [
    "delay_columns = ['carrier_delay', 'weather_delay', 'nas_delay', 'security_delay', 'late_aircraft_delay']\n",
    "delays_subframe = flights[delay_columns]\n",
    "delays_subframe.head()\n",
    "# These 5 rows concurrently displaying NaN provide very weak support for the above hypothesis. Let us investigate more closely."
   ]
  },
  {
   "cell_type": "markdown",
   "metadata": {},
   "source": [
    "Let us check the rows that remain for each delay feature when those with missing values are discarded and ensure that it matches the value predicted given that our hypothesis is correct. Since we know that all delay columns have the same missing value percentage, we can use one as a reference value."
   ]
  },
  {
   "cell_type": "code",
   "execution_count": 20,
   "metadata": {},
   "outputs": [
    {
     "data": {
      "text/plain": [
       "True"
      ]
     },
     "execution_count": 20,
     "metadata": {},
     "output_type": "execute_result"
    }
   ],
   "source": [
    "# Determine the actual percentages of non-missing data for the delay rows and the values we expect to see given our hypothesis.\n",
    "delay_value_percentages = [(delays_subframe[column].dropna().count() / flights.shape[0] * 100)\n",
    "                           for column in delays_subframe]\n",
    "predicted_value = (100 - flights_missing_value_percentage.late_aircraft_delay)\n",
    "\n",
    "np.allclose(delay_value_percentages, predicted_value) # used to prevent rounding errors from causing problems with strict equality"
   ]
  },
  {
   "cell_type": "markdown",
   "metadata": {},
   "source": [
    "It does appear that the missing values correspond with no delay, and are thus structurally missing. It should be noted that the proportion of delayed flights in this sample lines up fairly well with what is observed overall in the publicly available data from the [US Department of Transportation](https://www.transtats.bts.gov/OT_Delay/OT_DelayCause1.asp?20=E). On this basis, we can impute these missing values as 0."
   ]
  },
  {
   "cell_type": "code",
   "execution_count": 21,
   "metadata": {},
   "outputs": [],
   "source": [
    "flights[delay_columns] = delays_subframe.fillna(0)"
   ]
  },
  {
   "cell_type": "code",
   "execution_count": 22,
   "metadata": {},
   "outputs": [
    {
     "data": {
      "text/plain": [
       "tail_num                0.304947\n",
       "dep_time                1.616865\n",
       "dep_delay               1.647979\n",
       "taxi_out                1.707151\n",
       "wheels_off              1.707151\n",
       "wheels_on               1.754681\n",
       "taxi_in                 1.754681\n",
       "arr_time                1.718165\n",
       "arr_delay               1.944132\n",
       "crs_elapsed_time        0.000168\n",
       "actual_elapsed_time     1.927172\n",
       "air_time                1.963605\n",
       "first_dep_time         99.313597\n",
       "total_add_gtime        99.313722\n",
       "longest_add_gtime      99.313681\n",
       "dtype: float64"
      ]
     },
     "execution_count": 22,
     "metadata": {},
     "output_type": "execute_result"
    }
   ],
   "source": [
    "flights_missing_values = flights.isna().sum() > 0\n",
    "flights_missing_value_percentage = flights.isna().sum() / flights.shape[0] * 100\n",
    "\n",
    "flights_missing_value_percentage[flights_missing_values]"
   ]
  },
  {
   "cell_type": "markdown",
   "metadata": {},
   "source": [
    "##### `dep_time` and `_gtime` columns"
   ]
  },
  {
   "cell_type": "markdown",
   "metadata": {},
   "source": [
    "These columns are interesting because not only is the majority of data missing in similar percentages in all 3 of these columns, but the values are not precisely the same. Here we will investigate points of similarity and divergence between observations."
   ]
  },
  {
   "cell_type": "code",
   "execution_count": 23,
   "metadata": {},
   "outputs": [],
   "source": [
    "departure_and_gate_time_columns = ['first_dep_time', 'total_add_gtime', 'longest_add_gtime']\n",
    "departure_and_gate_times = flights[departure_and_gate_time_columns]"
   ]
  },
  {
   "cell_type": "code",
   "execution_count": 24,
   "metadata": {},
   "outputs": [
    {
     "data": {
      "text/html": [
       "<div>\n",
       "<style scoped>\n",
       "    .dataframe tbody tr th:only-of-type {\n",
       "        vertical-align: middle;\n",
       "    }\n",
       "\n",
       "    .dataframe tbody tr th {\n",
       "        vertical-align: top;\n",
       "    }\n",
       "\n",
       "    .dataframe thead th {\n",
       "        text-align: right;\n",
       "    }\n",
       "</style>\n",
       "<table border=\"1\" class=\"dataframe\">\n",
       "  <thead>\n",
       "    <tr style=\"text-align: right;\">\n",
       "      <th></th>\n",
       "      <th>813489</th>\n",
       "      <th>2020945</th>\n",
       "      <th>2027091</th>\n",
       "    </tr>\n",
       "  </thead>\n",
       "  <tbody>\n",
       "    <tr>\n",
       "      <th>fl_date</th>\n",
       "      <td>2019-06-20</td>\n",
       "      <td>2018-02-26</td>\n",
       "      <td>2018-02-28</td>\n",
       "    </tr>\n",
       "    <tr>\n",
       "      <th>mkt_unique_carrier</th>\n",
       "      <td>B6</td>\n",
       "      <td>AS</td>\n",
       "      <td>DL</td>\n",
       "    </tr>\n",
       "    <tr>\n",
       "      <th>branded_code_share</th>\n",
       "      <td>B6</td>\n",
       "      <td>AS_CODESHARE</td>\n",
       "      <td>DL_CODESHARE</td>\n",
       "    </tr>\n",
       "    <tr>\n",
       "      <th>mkt_carrier</th>\n",
       "      <td>B6</td>\n",
       "      <td>AS</td>\n",
       "      <td>DL</td>\n",
       "    </tr>\n",
       "    <tr>\n",
       "      <th>mkt_carrier_fl_num</th>\n",
       "      <td>631</td>\n",
       "      <td>3296</td>\n",
       "      <td>5909</td>\n",
       "    </tr>\n",
       "    <tr>\n",
       "      <th>op_unique_carrier</th>\n",
       "      <td>B6</td>\n",
       "      <td>KS</td>\n",
       "      <td>YX</td>\n",
       "    </tr>\n",
       "    <tr>\n",
       "      <th>tail_num</th>\n",
       "      <td>N339JB</td>\n",
       "      <td>N682PA</td>\n",
       "      <td>N860RW</td>\n",
       "    </tr>\n",
       "    <tr>\n",
       "      <th>op_carrier_fl_num</th>\n",
       "      <td>631</td>\n",
       "      <td>3296</td>\n",
       "      <td>5909</td>\n",
       "    </tr>\n",
       "    <tr>\n",
       "      <th>origin_airport_id</th>\n",
       "      <td>10721</td>\n",
       "      <td>10299</td>\n",
       "      <td>12953</td>\n",
       "    </tr>\n",
       "    <tr>\n",
       "      <th>origin</th>\n",
       "      <td>BOS</td>\n",
       "      <td>ANC</td>\n",
       "      <td>LGA</td>\n",
       "    </tr>\n",
       "    <tr>\n",
       "      <th>origin_city_name</th>\n",
       "      <td>Boston, MA</td>\n",
       "      <td>Anchorage, AK</td>\n",
       "      <td>New York, NY</td>\n",
       "    </tr>\n",
       "    <tr>\n",
       "      <th>dest_airport_id</th>\n",
       "      <td>12953</td>\n",
       "      <td>11445</td>\n",
       "      <td>11298</td>\n",
       "    </tr>\n",
       "    <tr>\n",
       "      <th>dest</th>\n",
       "      <td>LGA</td>\n",
       "      <td>DUT</td>\n",
       "      <td>DFW</td>\n",
       "    </tr>\n",
       "    <tr>\n",
       "      <th>dest_city_name</th>\n",
       "      <td>New York, NY</td>\n",
       "      <td>Unalaska, AK</td>\n",
       "      <td>Dallas/Fort Worth, TX</td>\n",
       "    </tr>\n",
       "    <tr>\n",
       "      <th>crs_dep_time</th>\n",
       "      <td>703</td>\n",
       "      <td>1515</td>\n",
       "      <td>1755</td>\n",
       "    </tr>\n",
       "    <tr>\n",
       "      <th>dep_time</th>\n",
       "      <td>923.0</td>\n",
       "      <td>1652.0</td>\n",
       "      <td>1750.0</td>\n",
       "    </tr>\n",
       "    <tr>\n",
       "      <th>dep_delay</th>\n",
       "      <td>140.0</td>\n",
       "      <td>97.0</td>\n",
       "      <td>-5.0</td>\n",
       "    </tr>\n",
       "    <tr>\n",
       "      <th>taxi_out</th>\n",
       "      <td>32.0</td>\n",
       "      <td>24.0</td>\n",
       "      <td>18.0</td>\n",
       "    </tr>\n",
       "    <tr>\n",
       "      <th>wheels_off</th>\n",
       "      <td>955.0</td>\n",
       "      <td>1716.0</td>\n",
       "      <td>1808.0</td>\n",
       "    </tr>\n",
       "    <tr>\n",
       "      <th>wheels_on</th>\n",
       "      <td>1044.0</td>\n",
       "      <td>1945.0</td>\n",
       "      <td>33.0</td>\n",
       "    </tr>\n",
       "    <tr>\n",
       "      <th>taxi_in</th>\n",
       "      <td>9.0</td>\n",
       "      <td>2.0</td>\n",
       "      <td>9.0</td>\n",
       "    </tr>\n",
       "    <tr>\n",
       "      <th>crs_arr_time</th>\n",
       "      <td>828</td>\n",
       "      <td>1730</td>\n",
       "      <td>2121</td>\n",
       "    </tr>\n",
       "    <tr>\n",
       "      <th>arr_time</th>\n",
       "      <td>1053.0</td>\n",
       "      <td>1947.0</td>\n",
       "      <td>42.0</td>\n",
       "    </tr>\n",
       "    <tr>\n",
       "      <th>arr_delay</th>\n",
       "      <td>145.0</td>\n",
       "      <td>137.0</td>\n",
       "      <td>201.0</td>\n",
       "    </tr>\n",
       "    <tr>\n",
       "      <th>cancelled</th>\n",
       "      <td>0</td>\n",
       "      <td>0</td>\n",
       "      <td>0</td>\n",
       "    </tr>\n",
       "    <tr>\n",
       "      <th>cancellation_code</th>\n",
       "      <td>none</td>\n",
       "      <td>none</td>\n",
       "      <td>none</td>\n",
       "    </tr>\n",
       "    <tr>\n",
       "      <th>diverted</th>\n",
       "      <td>0</td>\n",
       "      <td>0</td>\n",
       "      <td>0</td>\n",
       "    </tr>\n",
       "    <tr>\n",
       "      <th>dup</th>\n",
       "      <td>N</td>\n",
       "      <td>N</td>\n",
       "      <td>N</td>\n",
       "    </tr>\n",
       "    <tr>\n",
       "      <th>crs_elapsed_time</th>\n",
       "      <td>85.0</td>\n",
       "      <td>135.0</td>\n",
       "      <td>266.0</td>\n",
       "    </tr>\n",
       "    <tr>\n",
       "      <th>actual_elapsed_time</th>\n",
       "      <td>90.0</td>\n",
       "      <td>175.0</td>\n",
       "      <td>472.0</td>\n",
       "    </tr>\n",
       "    <tr>\n",
       "      <th>air_time</th>\n",
       "      <td>49.0</td>\n",
       "      <td>149.0</td>\n",
       "      <td>445.0</td>\n",
       "    </tr>\n",
       "    <tr>\n",
       "      <th>flights</th>\n",
       "      <td>1</td>\n",
       "      <td>1</td>\n",
       "      <td>1</td>\n",
       "    </tr>\n",
       "    <tr>\n",
       "      <th>distance</th>\n",
       "      <td>184</td>\n",
       "      <td>792</td>\n",
       "      <td>1389</td>\n",
       "    </tr>\n",
       "    <tr>\n",
       "      <th>carrier_delay</th>\n",
       "      <td>140.0</td>\n",
       "      <td>0.0</td>\n",
       "      <td>0.0</td>\n",
       "    </tr>\n",
       "    <tr>\n",
       "      <th>weather_delay</th>\n",
       "      <td>0.0</td>\n",
       "      <td>97.0</td>\n",
       "      <td>0.0</td>\n",
       "    </tr>\n",
       "    <tr>\n",
       "      <th>nas_delay</th>\n",
       "      <td>5.0</td>\n",
       "      <td>40.0</td>\n",
       "      <td>201.0</td>\n",
       "    </tr>\n",
       "    <tr>\n",
       "      <th>security_delay</th>\n",
       "      <td>0.0</td>\n",
       "      <td>0.0</td>\n",
       "      <td>0.0</td>\n",
       "    </tr>\n",
       "    <tr>\n",
       "      <th>late_aircraft_delay</th>\n",
       "      <td>0.0</td>\n",
       "      <td>0.0</td>\n",
       "      <td>0.0</td>\n",
       "    </tr>\n",
       "    <tr>\n",
       "      <th>first_dep_time</th>\n",
       "      <td>653.0</td>\n",
       "      <td>1507.0</td>\n",
       "      <td>2137.0</td>\n",
       "    </tr>\n",
       "    <tr>\n",
       "      <th>total_add_gtime</th>\n",
       "      <td>NaN</td>\n",
       "      <td>NaN</td>\n",
       "      <td>NaN</td>\n",
       "    </tr>\n",
       "    <tr>\n",
       "      <th>longest_add_gtime</th>\n",
       "      <td>NaN</td>\n",
       "      <td>0.0</td>\n",
       "      <td>NaN</td>\n",
       "    </tr>\n",
       "  </tbody>\n",
       "</table>\n",
       "</div>"
      ],
      "text/plain": [
       "                          813489         2020945                2027091\n",
       "fl_date                2019-06-20     2018-02-26             2018-02-28\n",
       "mkt_unique_carrier             B6             AS                     DL\n",
       "branded_code_share             B6   AS_CODESHARE           DL_CODESHARE\n",
       "mkt_carrier                    B6             AS                     DL\n",
       "mkt_carrier_fl_num            631           3296                   5909\n",
       "op_unique_carrier              B6             KS                     YX\n",
       "tail_num                   N339JB         N682PA                 N860RW\n",
       "op_carrier_fl_num             631           3296                   5909\n",
       "origin_airport_id           10721          10299                  12953\n",
       "origin                        BOS            ANC                    LGA\n",
       "origin_city_name       Boston, MA  Anchorage, AK           New York, NY\n",
       "dest_airport_id             12953          11445                  11298\n",
       "dest                          LGA            DUT                    DFW\n",
       "dest_city_name       New York, NY   Unalaska, AK  Dallas/Fort Worth, TX\n",
       "crs_dep_time                  703           1515                   1755\n",
       "dep_time                    923.0         1652.0                 1750.0\n",
       "dep_delay                   140.0           97.0                   -5.0\n",
       "taxi_out                     32.0           24.0                   18.0\n",
       "wheels_off                  955.0         1716.0                 1808.0\n",
       "wheels_on                  1044.0         1945.0                   33.0\n",
       "taxi_in                       9.0            2.0                    9.0\n",
       "crs_arr_time                  828           1730                   2121\n",
       "arr_time                   1053.0         1947.0                   42.0\n",
       "arr_delay                   145.0          137.0                  201.0\n",
       "cancelled                       0              0                      0\n",
       "cancellation_code            none           none                   none\n",
       "diverted                        0              0                      0\n",
       "dup                             N              N                      N\n",
       "crs_elapsed_time             85.0          135.0                  266.0\n",
       "actual_elapsed_time          90.0          175.0                  472.0\n",
       "air_time                     49.0          149.0                  445.0\n",
       "flights                         1              1                      1\n",
       "distance                      184            792                   1389\n",
       "carrier_delay               140.0            0.0                    0.0\n",
       "weather_delay                 0.0           97.0                    0.0\n",
       "nas_delay                     5.0           40.0                  201.0\n",
       "security_delay                0.0            0.0                    0.0\n",
       "late_aircraft_delay           0.0            0.0                    0.0\n",
       "first_dep_time              653.0         1507.0                 2137.0\n",
       "total_add_gtime               NaN            NaN                    NaN\n",
       "longest_add_gtime             NaN            0.0                    NaN"
      ]
     },
     "execution_count": 24,
     "metadata": {},
     "output_type": "execute_result"
    }
   ],
   "source": [
    "some_missing = departure_and_gate_times.dropna(how='all')\n",
    "no_missing = departure_and_gate_times.dropna()\n",
    "\n",
    "missing_rows = set(some_missing.index).symmetric_difference(set(no_missing.index))\n",
    "flights.loc[missing_rows].T # display the transpose for the 3 indices."
   ]
  },
  {
   "cell_type": "code",
   "execution_count": 25,
   "metadata": {},
   "outputs": [
    {
     "data": {
      "text/plain": [
       "813489     145.0\n",
       "2020945    137.0\n",
       "2027091    201.0\n",
       "Name: arr_delay, dtype: float64"
      ]
     },
     "execution_count": 25,
     "metadata": {},
     "output_type": "execute_result"
    }
   ],
   "source": [
    "flights.loc[missing_rows]['arr_delay']"
   ]
  },
  {
   "cell_type": "markdown",
   "metadata": {},
   "source": [
    "There are only 3 rows here with mixed missing values, and all have a departure time. Since none of these flights were cancelled, it is sensible to conclude that either none of them returned to the gate or these may be data entry errors (this is likely for index 2020945, which apparently never left the gate according to the 0 for `longest_add_gtime`)."
   ]
  },
  {
   "cell_type": "markdown",
   "metadata": {},
   "source": [
    "Overall, because it is not clear what these features are adding and they are missing entirely for the overwhelming majority of the data, we will simply discard them."
   ]
  },
  {
   "cell_type": "code",
   "execution_count": 26,
   "metadata": {},
   "outputs": [],
   "source": [
    "flights = flights.drop(columns=departure_and_gate_time_columns)"
   ]
  },
  {
   "cell_type": "markdown",
   "metadata": {},
   "source": [
    "##### Remainder of missing values:"
   ]
  },
  {
   "cell_type": "markdown",
   "metadata": {},
   "source": [
    "Given the surplus of observations we have for the **flights** table, and the low missing data percentages for all other observations (<2%), it is worth checking how much data would be lost if all rows missing data were discarded."
   ]
  },
  {
   "cell_type": "code",
   "execution_count": 31,
   "metadata": {},
   "outputs": [
    {
     "name": "stdout",
     "output_type": "stream",
     "text": [
      "Total observations retained / 2387955: 2339962\n",
      "Percentage retained: 97.99\n"
     ]
    }
   ],
   "source": [
    "total_observations_retained = flights.dropna().shape[0]\n",
    "percent_data_retained = total_observations_retained / flights.shape[0] * 100\n",
    "\n",
    "print(f'Total observations retained / {flights.shape[0]}: {total_observations_retained}')\n",
    "print(f'Percentage retained: {percent_data_retained:.2f}')"
   ]
  },
  {
   "cell_type": "markdown",
   "metadata": {},
   "source": [
    "Given the minimal percentage loss in tandem with the massive sample size retained by dropping rows with missing values, the tradeoff it worth it in this instance."
   ]
  },
  {
   "cell_type": "code",
   "execution_count": 32,
   "metadata": {},
   "outputs": [],
   "source": [
    "flights = flights.dropna()"
   ]
  },
  {
   "cell_type": "markdown",
   "metadata": {},
   "source": [
    "By the above logic, the tradeoff should be similarly valuable for **flights_test**:"
   ]
  },
  {
   "cell_type": "code",
   "execution_count": 33,
   "metadata": {},
   "outputs": [
    {
     "name": "stdout",
     "output_type": "stream",
     "text": [
      "Total observations retained / 660556: 659057\n",
      "Percentage retained: 99.77\n"
     ]
    }
   ],
   "source": [
    "total_observations_retained = flights_test.dropna().shape[0]\n",
    "percent_data_retained = total_observations_retained / flights_test.shape[0] * 100\n",
    "\n",
    "print(f'Total observations retained / {flights_test.shape[0]}: {total_observations_retained}')\n",
    "print(f'Percentage retained: {percent_data_retained:.2f}')"
   ]
  },
  {
   "cell_type": "code",
   "execution_count": 34,
   "metadata": {},
   "outputs": [],
   "source": [
    "flights_test = flights_test.dropna()"
   ]
  }
 ],
 "metadata": {
  "interpreter": {
   "hash": "8d6676aaa1277e38a8b007c79f4c02c0460f54b902bd054fa5584050907dc207"
  },
  "kernelspec": {
   "display_name": "Python 3.9.7 64-bit ('LHL': conda)",
   "language": "python",
   "name": "python3"
  },
  "language_info": {
   "codemirror_mode": {
    "name": "ipython",
    "version": 3
   },
   "file_extension": ".py",
   "mimetype": "text/x-python",
   "name": "python",
   "nbconvert_exporter": "python",
   "pygments_lexer": "ipython3",
   "version": "3.9.7"
  },
  "orig_nbformat": 4
 },
 "nbformat": 4,
 "nbformat_minor": 2
}
